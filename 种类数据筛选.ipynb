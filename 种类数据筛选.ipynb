{
 "cells": [
  {
   "cell_type": "code",
   "execution_count": 1,
   "id": "e315e2bf-4303-49de-bd64-8ee2c0a20290",
   "metadata": {
    "execution": {
     "iopub.execute_input": "2023-03-03T06:32:46.723657Z",
     "iopub.status.busy": "2023-03-03T06:32:46.722898Z",
     "iopub.status.idle": "2023-03-03T06:32:47.192326Z",
     "shell.execute_reply": "2023-03-03T06:32:47.191274Z",
     "shell.execute_reply.started": "2023-03-03T06:32:46.723613Z"
    },
    "scrolled": true,
    "tags": []
   },
   "outputs": [],
   "source": [
    "import pandas as pd\n",
    "import numpy as np"
   ]
  },
  {
   "cell_type": "code",
   "execution_count": 2,
   "id": "2f844269-bbf8-416c-bb0c-fcceee501c13",
   "metadata": {
    "execution": {
     "iopub.execute_input": "2023-03-03T06:32:48.669458Z",
     "iopub.status.busy": "2023-03-03T06:32:48.669020Z",
     "iopub.status.idle": "2023-03-03T06:33:08.090393Z",
     "shell.execute_reply": "2023-03-03T06:33:08.088264Z",
     "shell.execute_reply.started": "2023-03-03T06:32:48.669423Z"
    },
    "scrolled": true,
    "tags": []
   },
   "outputs": [],
   "source": [
    "df = pd.read_csv('Merge_2017_clean.csv')"
   ]
  },
  {
   "cell_type": "code",
   "execution_count": null,
   "id": "cacb1581-96de-41e1-9ba7-715e01eae0e1",
   "metadata": {
    "execution": {
     "iopub.status.busy": "2023-03-03T01:15:16.782967Z",
     "iopub.status.idle": "2023-03-03T01:15:16.783468Z",
     "shell.execute_reply": "2023-03-03T01:15:16.783236Z",
     "shell.execute_reply.started": "2023-03-03T01:15:16.783218Z"
    },
    "scrolled": true,
    "tags": []
   },
   "outputs": [],
   "source": [
    "#df = df.sample(10000)"
   ]
  },
  {
   "cell_type": "code",
   "execution_count": 3,
   "id": "c675aeaa-dd11-43a3-9333-5e19f6d7786d",
   "metadata": {
    "execution": {
     "iopub.execute_input": "2023-03-03T06:35:19.909809Z",
     "iopub.status.busy": "2023-03-03T06:35:19.907862Z",
     "iopub.status.idle": "2023-03-03T06:35:19.928671Z",
     "shell.execute_reply": "2023-03-03T06:35:19.927415Z",
     "shell.execute_reply.started": "2023-03-03T06:35:19.909728Z"
    },
    "scrolled": true,
    "tags": []
   },
   "outputs": [
    {
     "data": {
      "text/plain": [
       "(2378453, 79)"
      ]
     },
     "execution_count": 3,
     "metadata": {},
     "output_type": "execute_result"
    }
   ],
   "source": [
    "df.shape"
   ]
  },
  {
   "cell_type": "code",
   "execution_count": 5,
   "id": "dfa072b9-2657-49f8-9b41-c9afe0643ff6",
   "metadata": {
    "execution": {
     "iopub.execute_input": "2023-03-03T01:15:43.034145Z",
     "iopub.status.busy": "2023-03-03T01:15:43.033475Z",
     "iopub.status.idle": "2023-03-03T01:15:47.774128Z",
     "shell.execute_reply": "2023-03-03T01:15:47.773171Z",
     "shell.execute_reply.started": "2023-03-03T01:15:43.034105Z"
    },
    "scrolled": true,
    "tags": []
   },
   "outputs": [
    {
     "name": "stdout",
     "output_type": "stream",
     "text": [
      "Empty DataFrame\r\n",
      "Columns: [ Destination Port,  Flow Duration,  Total Fwd Packets,  Total Backward Packets, Total Length of Fwd Packets,  Total Length of Bwd Packets,  Fwd Packet Length Max,  Fwd Packet Length Min,  Fwd Packet Length Mean,  Fwd Packet Length Std, Bwd Packet Length Max,  Bwd Packet Length Min,  Bwd Packet Length Mean,  Bwd Packet Length Std, Flow Bytes/s,  Flow Packets/s,  Flow IAT Mean,  Flow IAT Std,  Flow IAT Max,  Flow IAT Min, Fwd IAT Total,  Fwd IAT Mean,  Fwd IAT Std,  Fwd IAT Max,  Fwd IAT Min, Bwd IAT Total,  Bwd IAT Mean,  Bwd IAT Std,  Bwd IAT Max,  Bwd IAT Min, Fwd PSH Flags,  Bwd PSH Flags,  Fwd URG Flags,  Bwd URG Flags,  Fwd Header Length,  Bwd Header Length, Fwd Packets/s,  Bwd Packets/s,  Min Packet Length,  Max Packet Length,  Packet Length Mean,  Packet Length Std,  Packet Length Variance, FIN Flag Count,  SYN Flag Count,  RST Flag Count,  PSH Flag Count,  ACK Flag Count,  URG Flag Count,  CWE Flag Count,  ECE Flag Count,  Down/Up Ratio,  Average Packet Size,  Avg Fwd \r\n",
      "Index: []\r\n",
      "\r\n",
      "[0 rows x 79 columns]\r\n"
     ]
    }
   ],
   "source": [
    "#已经无空值\n",
    "print(df[df.isnull().T.any()])"
   ]
  },
  {
   "cell_type": "code",
   "execution_count": 4,
   "id": "bed7e08d-2a4d-45fb-ba98-5d46bb49570a",
   "metadata": {
    "execution": {
     "iopub.execute_input": "2023-03-03T06:35:23.031335Z",
     "iopub.status.busy": "2023-03-03T06:35:23.029670Z",
     "iopub.status.idle": "2023-03-03T06:35:23.197900Z",
     "shell.execute_reply": "2023-03-03T06:35:23.196810Z",
     "shell.execute_reply.started": "2023-03-03T06:35:23.031263Z"
    },
    "scrolled": true,
    "tags": []
   },
   "outputs": [
    {
     "data": {
      "text/plain": [
       " Label\n",
       "BENIGN                        1904157\n",
       "Bot                              1956\n",
       "DDoS                           128025\n",
       "DoS Hulk                       158168\n",
       "DoS Slowhttptest                 5499\n",
       "DoS slowloris                    5796\n",
       "FTP-Patator                      7935\n",
       "Infiltration                       36\n",
       "PortScan                       158804\n",
       "SSH-Patator                      5897\n",
       "Web Attack � Brute Force         1507\n",
       "Web Attack � Sql Injection         21\n",
       "Web Attack � XSS                  652\n",
       "dtype: int64"
      ]
     },
     "execution_count": 4,
     "metadata": {},
     "output_type": "execute_result"
    }
   ],
   "source": [
    "counts = df.groupby(' Label').size()\n",
    "counts"
   ]
  },
  {
   "cell_type": "markdown",
   "id": "b96dd3a1-64dd-41d7-b7dc-5cab28706668",
   "metadata": {},
   "source": [
    "**特征编码**"
   ]
  },
  {
   "cell_type": "code",
   "execution_count": 5,
   "id": "cfced34d-ecf8-4f1e-a8ac-ba467e2ae528",
   "metadata": {
    "execution": {
     "iopub.execute_input": "2023-03-03T06:35:25.281475Z",
     "iopub.status.busy": "2023-03-03T06:35:25.279868Z",
     "iopub.status.idle": "2023-03-03T06:35:27.057964Z",
     "shell.execute_reply": "2023-03-03T06:35:27.056294Z",
     "shell.execute_reply.started": "2023-03-03T06:35:25.281410Z"
    },
    "scrolled": true
   },
   "outputs": [],
   "source": [
    "# 对Label进行编码\n",
    "df[' Label'].replace(to_replace=['BENIGN',\n",
    "                'PortScan',\n",
    "                'DDoS',\n",
    "                'DoS slowloris',\n",
    "                'DoS Slowhttptest',\n",
    "                'DoS Hulk',\n",
    "                'DoS GoldenEye',\n",
    "                'Heartbleed',\n",
    "                'FTP-Patator',\n",
    "                'SSH-Patator',\n",
    "                'Web Attack � Brute Force',\n",
    "                'Web Attack � XSS',\n",
    "                'Web Attack � Sql Injection',\n",
    "                'Infiltration',\n",
    "                'Bot'], \n",
    "            value=[ 0\n",
    "                    ,1\n",
    "                    ,2\n",
    "                    ,3\n",
    "                    ,4\n",
    "                    ,5\n",
    "                    ,6\n",
    "                    ,7\n",
    "                    ,8\n",
    "                    ,9\n",
    "                    ,10\n",
    "                    ,11\n",
    "                    ,12\n",
    "                    ,13\n",
    "                    ,14],\n",
    "            inplace=True)"
   ]
  },
  {
   "cell_type": "code",
   "execution_count": 6,
   "id": "8ffa24ac-3529-4a77-9f7b-276529017568",
   "metadata": {
    "execution": {
     "iopub.execute_input": "2023-03-03T06:35:28.871044Z",
     "iopub.status.busy": "2023-03-03T06:35:28.870386Z",
     "iopub.status.idle": "2023-03-03T06:35:28.923964Z",
     "shell.execute_reply": "2023-03-03T06:35:28.922615Z",
     "shell.execute_reply.started": "2023-03-03T06:35:28.870997Z"
    },
    "scrolled": true
   },
   "outputs": [
    {
     "data": {
      "text/plain": [
       " Label\n",
       "0     1904157\n",
       "1      158804\n",
       "2      128025\n",
       "3        5796\n",
       "4        5499\n",
       "5      158168\n",
       "8        7935\n",
       "9        5897\n",
       "10       1507\n",
       "11        652\n",
       "12         21\n",
       "13         36\n",
       "14       1956\n",
       "dtype: int64"
      ]
     },
     "execution_count": 6,
     "metadata": {},
     "output_type": "execute_result"
    }
   ],
   "source": [
    "counts = df.groupby(' Label').size()\n",
    "counts"
   ]
  },
  {
   "cell_type": "markdown",
   "id": "7abbcaa3-6ec8-4d1b-9d0b-1c2458d34358",
   "metadata": {},
   "source": [
    "# **选出各种攻击**"
   ]
  },
  {
   "cell_type": "markdown",
   "id": "0bd0181d-d5fd-4001-8f22-ea82d3b63aa4",
   "metadata": {},
   "source": [
    "## 箱线图分析不行"
   ]
  },
  {
   "cell_type": "code",
   "execution_count": null,
   "id": "4812bd2e-99fe-40be-a385-099c90c82018",
   "metadata": {
    "execution": {
     "iopub.status.busy": "2023-03-03T01:15:16.811394Z",
     "iopub.status.idle": "2023-03-03T01:15:16.812398Z",
     "shell.execute_reply": "2023-03-03T01:15:16.812152Z",
     "shell.execute_reply.started": "2023-03-03T01:15:16.812132Z"
    },
    "scrolled": true,
    "tags": []
   },
   "outputs": [],
   "source": [
    "# 指定列名称和目标字符串\n",
    "column_name = ' Label'\n",
    "#BENIGN_string == 0\n",
    "# 选出包含目标字符串的所有行\n",
    "#BENIGN_rows = df[df[column_name].int64.contains(0)]\n",
    "# 选取某个列（例如第2列）并筛选出所有含有数字1的数据\n",
    "BENIGN_rows = df[df.iloc[:, -1].astype(str).str.contains('0')]"
   ]
  },
  {
   "cell_type": "code",
   "execution_count": null,
   "id": "bc416b52-7c12-4252-87a6-0cf507467ae3",
   "metadata": {
    "execution": {
     "iopub.status.busy": "2023-03-03T01:15:16.813627Z",
     "iopub.status.idle": "2023-03-03T01:15:16.814496Z",
     "shell.execute_reply": "2023-03-03T01:15:16.814319Z",
     "shell.execute_reply.started": "2023-03-03T01:15:16.814302Z"
    },
    "scrolled": true,
    "tags": []
   },
   "outputs": [],
   "source": [
    "BENIGN_rows.shape"
   ]
  },
  {
   "cell_type": "code",
   "execution_count": null,
   "id": "d2c13865-600a-48d5-883c-5f944434e67e",
   "metadata": {
    "execution": {
     "iopub.status.busy": "2023-03-03T01:15:16.815393Z",
     "iopub.status.idle": "2023-03-03T01:15:16.815817Z",
     "shell.execute_reply": "2023-03-03T01:15:16.815566Z",
     "shell.execute_reply.started": "2023-03-03T01:15:16.815553Z"
    },
    "scrolled": true,
    "tags": []
   },
   "outputs": [],
   "source": [
    "#多了一个含有数字10\n",
    "BENIGN_rows = BENIGN_rows[BENIGN_rows.iloc[:,-1] !=10]"
   ]
  },
  {
   "cell_type": "code",
   "execution_count": null,
   "id": "7aca7f52-9267-47e4-9e88-2706d7aecb7e",
   "metadata": {
    "execution": {
     "iopub.status.busy": "2023-03-03T01:15:16.817371Z",
     "iopub.status.idle": "2023-03-03T01:15:16.817701Z",
     "shell.execute_reply": "2023-03-03T01:15:16.817554Z",
     "shell.execute_reply.started": "2023-03-03T01:15:16.817540Z"
    },
    "scrolled": true,
    "tags": []
   },
   "outputs": [],
   "source": [
    "BENIGN_rows.shape"
   ]
  },
  {
   "cell_type": "code",
   "execution_count": null,
   "id": "e401adf1-8b13-46be-bad4-a4d9204fcda4",
   "metadata": {
    "execution": {
     "iopub.status.busy": "2023-03-03T01:15:16.818452Z",
     "iopub.status.idle": "2023-03-03T01:15:16.818815Z",
     "shell.execute_reply": "2023-03-03T01:15:16.818617Z",
     "shell.execute_reply.started": "2023-03-03T01:15:16.818604Z"
    },
    "scrolled": true,
    "tags": []
   },
   "outputs": [],
   "source": [
    "counts = BENIGN_rows.groupby(' Label').size()\n",
    "counts"
   ]
  },
  {
   "cell_type": "markdown",
   "id": "8a6383ea-2a01-4d09-953f-92a5e8c0100b",
   "metadata": {},
   "source": [
    "## Bot_rows"
   ]
  },
  {
   "cell_type": "code",
   "execution_count": 30,
   "id": "98aae7ad-0118-45ca-b297-3dd13d80714a",
   "metadata": {
    "execution": {
     "iopub.execute_input": "2023-03-03T07:08:22.466786Z",
     "iopub.status.busy": "2023-03-03T07:08:22.462830Z",
     "iopub.status.idle": "2023-03-03T07:08:25.116972Z",
     "shell.execute_reply": "2023-03-03T07:08:25.115792Z",
     "shell.execute_reply.started": "2023-03-03T07:08:22.466730Z"
    },
    "scrolled": true
   },
   "outputs": [],
   "source": [
    "# 指定列名称和目标字符串\n",
    "column_name = ' Label'\n",
    "#Bot_string = 'Bot'\n",
    "# 选出包含目标字符串的所有行\n",
    "#Bot_rows = df[df[column_name].str.contains(Bot_string)]\n",
    "Bot_rows = df[df.iloc[:, -1].astype(str).str.contains('14')]"
   ]
  },
  {
   "cell_type": "code",
   "execution_count": 20,
   "id": "26196445-5918-426e-944c-9840cc39dfe0",
   "metadata": {
    "execution": {
     "iopub.execute_input": "2023-03-03T06:55:47.926877Z",
     "iopub.status.busy": "2023-03-03T06:55:47.926141Z",
     "iopub.status.idle": "2023-03-03T06:55:47.932851Z",
     "shell.execute_reply": "2023-03-03T06:55:47.931885Z",
     "shell.execute_reply.started": "2023-03-03T06:55:47.926826Z"
    },
    "scrolled": true,
    "tags": []
   },
   "outputs": [
    {
     "data": {
      "text/plain": [
       "(1956, 79)"
      ]
     },
     "execution_count": 20,
     "metadata": {},
     "output_type": "execute_result"
    }
   ],
   "source": [
    "Bot_rows.shape"
   ]
  },
  {
   "cell_type": "code",
   "execution_count": 24,
   "id": "9805431c-02db-446b-9bc8-c9491b71a3c1",
   "metadata": {
    "execution": {
     "iopub.execute_input": "2023-03-03T07:04:32.912063Z",
     "iopub.status.busy": "2023-03-03T07:04:32.911291Z",
     "iopub.status.idle": "2023-03-03T07:04:32.918947Z",
     "shell.execute_reply": "2023-03-03T07:04:32.917861Z",
     "shell.execute_reply.started": "2023-03-03T07:04:32.912013Z"
    },
    "scrolled": true
   },
   "outputs": [],
   "source": [
    "X_Bot_rows = Bot_rows.loc[:,Bot_rows.columns != \" Label\"]"
   ]
  },
  {
   "cell_type": "code",
   "execution_count": 13,
   "id": "4a6ffab8-ac10-40f9-ae4d-2e56ff6c6565",
   "metadata": {
    "execution": {
     "iopub.execute_input": "2023-03-03T06:45:54.573103Z",
     "iopub.status.busy": "2023-03-03T06:45:54.572495Z",
     "iopub.status.idle": "2023-03-03T06:46:01.605274Z",
     "shell.execute_reply": "2023-03-03T06:46:01.604175Z",
     "shell.execute_reply.started": "2023-03-03T06:45:54.573060Z"
    },
    "scrolled": true,
    "tags": []
   },
   "outputs": [
    {
     "data": {
      "image/png": "[encoded data removed]",
      "text/plain": [
       "<Figure size 640x480 with 1 Axes>"
      ]
     },
     "metadata": {},
     "output_type": "display_data"
    }
   ],
   "source": [
    "def boxfilter(data, proportion:float):\n",
    "    allbox = data.boxplot(return_type='dict')\n",
    "    zipped = zip(allbox['fliers'], data.columns)\n",
    "    i = 0\n",
    "    for flier, index_name in zipped:\n",
    "        # 获取一个列的异常y值\n",
    "        y = flier.get_ydata()\n",
    "        # 获取数据长度\n",
    "        datalenth = data.shape[0]\n",
    "        # 如果有异常值才处理\n",
    "        if(len(y) >= 1):\n",
    "            #对于每一个异常值做处理\n",
    "            for i in y:          \n",
    "                #因为你不知道异常值是高于还是低于，因此这里做两次判断(异常值毕竟是少数)\n",
    "                #如果留下来的数据规模是大于以前数据规模*proportion的，则进行处理，这个取决于你来定\n",
    "                if(data[data[index_name] < i].shape[0] >=datalenth*proportion):\n",
    "                    data = data[data[index_name] < i]\n",
    "                elif(data[data[index_name] > i].shape[0] >= datalenth*proportion):\n",
    "                    data = data[data[index_name] > i] \n",
    "    return data\n",
    "newdata = boxfilter(Bot_rows,0.7)\n",
    "#newdata.boxplot(return_type='dict')\n",
    "#plt.savefig('种类数据筛选/Bot箱线图-1.png')"
   ]
  },
  {
   "cell_type": "code",
   "execution_count": 14,
   "id": "921f7a43-326b-4d6e-a596-934d72dc9a06",
   "metadata": {
    "execution": {
     "iopub.execute_input": "2023-03-03T06:46:10.730574Z",
     "iopub.status.busy": "2023-03-03T06:46:10.729141Z",
     "iopub.status.idle": "2023-03-03T06:46:13.412391Z",
     "shell.execute_reply": "2023-03-03T06:46:13.410813Z",
     "shell.execute_reply.started": "2023-03-03T06:46:10.730520Z"
    },
    "scrolled": true,
    "tags": []
   },
   "outputs": [
    {
     "data": {
      "text/plain": [
       "{'whiskers': [<matplotlib.lines.Line2D at 0x7f18338fe8d0>,\n",
       "  <matplotlib.lines.Line2D at 0x7f18338fec90>,\n",
       "  <matplotlib.lines.Line2D at 0x7f1833887f90>,\n",
       "  <matplotlib.lines.Line2D at 0x7f18338d0e50>,\n",
       "  <matplotlib.lines.Line2D at 0x7f18338b3e50>,\n",
       "  <matplotlib.lines.Line2D at 0x7f18338b6d50>,\n",
       "  <matplotlib.lines.Line2D at 0x7f18338bee10>,\n",
       "  <matplotlib.lines.Line2D at 0x7f18338beb90>,\n",
       "  <matplotlib.lines.Line2D at 0x7f17900796d0>,\n",
       "  <matplotlib.lines.Line2D at 0x7f18338b6f50>,\n",
       "  <matplotlib.lines.Line2D at 0x7f1790089d10>,\n",
       "  <matplotlib.lines.Line2D at 0x7f1790089f50>,\n",
       "  <matplotlib.lines.Line2D at 0x7f1790094bd0>,\n",
       "  <matplotlib.lines.Line2D at 0x7f179009d990>,\n",
       "  <matplotlib.lines.Line2D at 0x7f179002cb50>,\n",
       "  <matplotlib.lines.Line2D at 0x7f179002cd90>,\n",
       "  <matplotlib.lines.Line2D at 0x7f179003aed0>,\n",
       "  <matplotlib.lines.Line2D at 0x7f179003af50>,\n",
       "  <matplotlib.lines.Line2D at 0x7f1790050890>,\n",
       "  <matplotlib.lines.Line2D at 0x7f1790050dd0>,\n",
       "  <matplotlib.lines.Line2D at 0x7f179005ef90>,\n",
       "  <matplotlib.lines.Line2D at 0x7f179005ec90>,\n",
       "  <matplotlib.lines.Line2D at 0x7f178a7c1e50>,\n",
       "  <matplotlib.lines.Line2D at 0x7f178a7c7c10>,\n",
       "  <matplotlib.lines.Line2D at 0x7f178a7d6dd0>,\n",
       "  <matplotlib.lines.Line2D at 0x7f178a7d6fd0>,\n",
       "  <matplotlib.lines.Line2D at 0x7f178a7e5c90>,\n",
       "  <matplotlib.lines.Line2D at 0x7f178a7eca50>,\n",
       "  <matplotlib.lines.Line2D at 0x7f178a7f9c10>,\n",
       "  <matplotlib.lines.Line2D at 0x7f178a7f9e50>,\n",
       "  <matplotlib.lines.Line2D at 0x7f178a788fd0>,\n",
       "  <matplotlib.lines.Line2D at 0x7f178a78f890>,\n",
       "  <matplotlib.lines.Line2D at 0x7f178a79fa10>,\n",
       "  <matplotlib.lines.Line2D at 0x7f178a79ff90>,\n",
       "  <matplotlib.lines.Line2D at 0x7f178a7addd0>,\n",
       "  <matplotlib.lines.Line2D at 0x7f178a7ade50>,\n",
       "  <matplotlib.lines.Line2D at 0x7f178a741890>,\n",
       "  <matplotlib.lines.Line2D at 0x7f178a741dd0>,\n",
       "  <matplotlib.lines.Line2D at 0x7f178a750f90>,\n",
       "  <matplotlib.lines.Line2D at 0x7f178a750c90>,\n",
       "  <matplotlib.lines.Line2D at 0x7f178a75ee50>,\n",
       "  <matplotlib.lines.Line2D at 0x7f178a766c10>,\n",
       "  <matplotlib.lines.Line2D at 0x7f178a773dd0>,\n",
       "  <matplotlib.lines.Line2D at 0x7f178a773fd0>,\n",
       "  <matplotlib.lines.Line2D at 0x7f178a704c90>,\n",
       "  <matplotlib.lines.Line2D at 0x7f178a70aa50>,\n",
       "  <matplotlib.lines.Line2D at 0x7f178a717c10>,\n",
       "  <matplotlib.lines.Line2D at 0x7f178a717e50>,\n",
       "  <matplotlib.lines.Line2D at 0x7f178a727f90>,\n",
       "  <matplotlib.lines.Line2D at 0x7f178a72e890>,\n",
       "  <matplotlib.lines.Line2D at 0x7f178a6bda50>,\n",
       "  <matplotlib.lines.Line2D at 0x7f178a6bdf90>,\n",
       "  <matplotlib.lines.Line2D at 0x7f178a6cadd0>,\n",
       "  <matplotlib.lines.Line2D at 0x7f178a6cae50>,\n",
       "  <matplotlib.lines.Line2D at 0x7f178a6e2890>,\n",
       "  <matplotlib.lines.Line2D at 0x7f178a6e2dd0>,\n",
       "  <matplotlib.lines.Line2D at 0x7f178a6f0f90>,\n",
       "  <matplotlib.lines.Line2D at 0x7f178a6f0c90>,\n",
       "  <matplotlib.lines.Line2D at 0x7f178a67fe50>,\n",
       "  <matplotlib.lines.Line2D at 0x7f178a686c10>,\n",
       "  <matplotlib.lines.Line2D at 0x7f178a693dd0>,\n",
       "  <matplotlib.lines.Line2D at 0x7f178a693fd0>,\n",
       "  <matplotlib.lines.Line2D at 0x7f178a6a2c90>,\n",
       "  <matplotlib.lines.Line2D at 0x7f178a6a9a50>,\n",
       "  <matplotlib.lines.Line2D at 0x7f178a6b7c10>,\n",
       "  <matplotlib.lines.Line2D at 0x7f178a6b7e50>,\n",
       "  <matplotlib.lines.Line2D at 0x7f178a647f90>,\n",
       "  <matplotlib.lines.Line2D at 0x7f178a64f890>,\n",
       "  <matplotlib.lines.Line2D at 0x7f178a65ba50>,\n",
       "  <matplotlib.lines.Line2D at 0x7f178a65bf90>,\n",
       "  <matplotlib.lines.Line2D at 0x7f178a66ae10>,\n",
       "  <matplotlib.lines.Line2D at 0x7f178a66ae90>,\n",
       "  <matplotlib.lines.Line2D at 0x7f178a600850>,\n",
       "  <matplotlib.lines.Line2D at 0x7f178a600dd0>,\n",
       "  <matplotlib.lines.Line2D at 0x7f178a60ef50>,\n",
       "  <matplotlib.lines.Line2D at 0x7f178a60ecd0>,\n",
       "  <matplotlib.lines.Line2D at 0x7f178a61ce50>,\n",
       "  <matplotlib.lines.Line2D at 0x7f178a623c10>,\n",
       "  <matplotlib.lines.Line2D at 0x7f178a631d90>,\n",
       "  <matplotlib.lines.Line2D at 0x7f178a631fd0>,\n",
       "  <matplotlib.lines.Line2D at 0x7f178a5c1c90>,\n",
       "  <matplotlib.lines.Line2D at 0x7f178a5c8a50>,\n",
       "  <matplotlib.lines.Line2D at 0x7f178a5d6c10>,\n",
       "  <matplotlib.lines.Line2D at 0x7f178a5d6e50>,\n",
       "  <matplotlib.lines.Line2D at 0x7f178a5e5f90>,\n",
       "  <matplotlib.lines.Line2D at 0x7f178a5ec890>,\n",
       "  <matplotlib.lines.Line2D at 0x7f178a5fba50>,\n",
       "  <matplotlib.lines.Line2D at 0x7f178a5fbf90>,\n",
       "  <matplotlib.lines.Line2D at 0x7f178a58add0>,\n",
       "  <matplotlib.lines.Line2D at 0x7f178a58ae50>,\n",
       "  <matplotlib.lines.Line2D at 0x7f178a5a0890>,\n",
       "  <matplotlib.lines.Line2D at 0x7f178a5a0dd0>,\n",
       "  <matplotlib.lines.Line2D at 0x7f178a5aef90>,\n",
       "  <matplotlib.lines.Line2D at 0x7f178a5aec90>,\n",
       "  <matplotlib.lines.Line2D at 0x7f178a5bce50>,\n",
       "  <matplotlib.lines.Line2D at 0x7f178a544c10>,\n",
       "  <matplotlib.lines.Line2D at 0x7f178a550d90>,\n",
       "  <matplotlib.lines.Line2D at 0x7f178a550fd0>,\n",
       "  <matplotlib.lines.Line2D at 0x7f178a560c90>,\n",
       "  <matplotlib.lines.Line2D at 0x7f178a569a50>,\n",
       "  <matplotlib.lines.Line2D at 0x7f178a575c10>,\n",
       "  <matplotlib.lines.Line2D at 0x7f178a575e50>,\n",
       "  <matplotlib.lines.Line2D at 0x7f178a504f90>,\n",
       "  <matplotlib.lines.Line2D at 0x7f178a50b890>,\n",
       "  <matplotlib.lines.Line2D at 0x7f178a51aa50>,\n",
       "  <matplotlib.lines.Line2D at 0x7f178a51af90>,\n",
       "  <matplotlib.lines.Line2D at 0x7f178a528dd0>,\n",
       "  <matplotlib.lines.Line2D at 0x7f178a528e50>,\n",
       "  <matplotlib.lines.Line2D at 0x7f1833892e50>,\n",
       "  <matplotlib.lines.Line2D at 0x7f18339e0d90>,\n",
       "  <matplotlib.lines.Line2D at 0x7f18339c9e90>,\n",
       "  <matplotlib.lines.Line2D at 0x7f18339c9910>,\n",
       "  <matplotlib.lines.Line2D at 0x7f18338c0790>,\n",
       "  <matplotlib.lines.Line2D at 0x7f18339f99d0>,\n",
       "  <matplotlib.lines.Line2D at 0x7f1833a7fc10>,\n",
       "  <matplotlib.lines.Line2D at 0x7f1833a0f3d0>,\n",
       "  <matplotlib.lines.Line2D at 0x7f183398be10>,\n",
       "  <matplotlib.lines.Line2D at 0x7f18339d8050>,\n",
       "  <matplotlib.lines.Line2D at 0x7f18713cc790>,\n",
       "  <matplotlib.lines.Line2D at 0x7f1833c89710>,\n",
       "  <matplotlib.lines.Line2D at 0x7f1833c88a90>,\n",
       "  <matplotlib.lines.Line2D at 0x7f1833c881d0>,\n",
       "  <matplotlib.lines.Line2D at 0x7f1833c80310>,\n",
       "  <matplotlib.lines.Line2D at 0x7f18603b2b10>,\n",
       "  <matplotlib.lines.Line2D at 0x7f1860364c50>,\n",
       "  <matplotlib.lines.Line2D at 0x7f1860364750>,\n",
       "  <matplotlib.lines.Line2D at 0x7f186040f2d0>,\n",
       "  <matplotlib.lines.Line2D at 0x7f186040f310>,\n",
       "  <matplotlib.lines.Line2D at 0x7f1789cf9410>,\n",
       "  <matplotlib.lines.Line2D at 0x7f1792f90710>,\n",
       "  <matplotlib.lines.Line2D at 0x7f183399f690>,\n",
       "  <matplotlib.lines.Line2D at 0x7f183399f810>,\n",
       "  <matplotlib.lines.Line2D at 0x7f1833a19d90>,\n",
       "  <matplotlib.lines.Line2D at 0x7f1833a19190>,\n",
       "  <matplotlib.lines.Line2D at 0x7f1833ff1510>,\n",
       "  <matplotlib.lines.Line2D at 0x7f1833ff1dd0>,\n",
       "  <matplotlib.lines.Line2D at 0x7f1790169350>,\n",
       "  <matplotlib.lines.Line2D at 0x7f1790169b90>,\n",
       "  <matplotlib.lines.Line2D at 0x7f1860329990>,\n",
       "  <matplotlib.lines.Line2D at 0x7f1833b0d590>,\n",
       "  <matplotlib.lines.Line2D at 0x7f17901fad50>,\n",
       "  <matplotlib.lines.Line2D at 0x7f17901fa550>,\n",
       "  <matplotlib.lines.Line2D at 0x7f179023db90>,\n",
       "  <matplotlib.lines.Line2D at 0x7f179024eb50>,\n",
       "  <matplotlib.lines.Line2D at 0x7f179015cc10>,\n",
       "  <matplotlib.lines.Line2D at 0x7f179015cb50>,\n",
       "  <matplotlib.lines.Line2D at 0x7f1833b38b90>,\n",
       "  <matplotlib.lines.Line2D at 0x7f17901af350>,\n",
       "  <matplotlib.lines.Line2D at 0x7f17901539d0>,\n",
       "  <matplotlib.lines.Line2D at 0x7f17902b5610>,\n",
       "  <matplotlib.lines.Line2D at 0x7f179020cc50>,\n",
       "  <matplotlib.lines.Line2D at 0x7f179020cb10>,\n",
       "  <matplotlib.lines.Line2D at 0x7f186029f6d0>,\n",
       "  <matplotlib.lines.Line2D at 0x7f1833f56210>,\n",
       "  <matplotlib.lines.Line2D at 0x7f1833f5a490>,\n",
       "  <matplotlib.lines.Line2D at 0x7f1833f5ac50>,\n",
       "  <matplotlib.lines.Line2D at 0x7f18339f49d0>,\n",
       "  <matplotlib.lines.Line2D at 0x7f18339f4f10>],\n",
       " 'caps': [<matplotlib.lines.Line2D at 0x7f18338fef10>,\n",
       "  <matplotlib.lines.Line2D at 0x7f18338d08d0>,\n",
       "  <matplotlib.lines.Line2D at 0x7f183388ca90>,\n",
       "  <matplotlib.lines.Line2D at 0x7f183388cd10>,\n",
       "  <matplotlib.lines.Line2D at 0x7f18338b6ed0>,\n",
       "  <matplotlib.lines.Line2D at 0x7f18338b98d0>,\n",
       "  <matplotlib.lines.Line2D at 0x7f179006d950>,\n",
       "  <matplotlib.lines.Line2D at 0x7f179006ded0>,\n",
       "  <matplotlib.lines.Line2D at 0x7f1790079d90>,\n",
       "  <matplotlib.lines.Line2D at 0x7f1790079e10>,\n",
       "  <matplotlib.lines.Line2D at 0x7f1790089fd0>,\n",
       "  <matplotlib.lines.Line2D at 0x7f179008ed90>,\n",
       "  <matplotlib.lines.Line2D at 0x7f179009df10>,\n",
       "  <matplotlib.lines.Line2D at 0x7f179009dc90>,\n",
       "  <matplotlib.lines.Line2D at 0x7f179002ce10>,\n",
       "  <matplotlib.lines.Line2D at 0x7f1790032bd0>,\n",
       "  <matplotlib.lines.Line2D at 0x7f1790041cd0>,\n",
       "  <matplotlib.lines.Line2D at 0x7f1790041f50>,\n",
       "  <matplotlib.lines.Line2D at 0x7f1790050b50>,\n",
       "  <matplotlib.lines.Line2D at 0x7f1790058910>,\n",
       "  <matplotlib.lines.Line2D at 0x7f1790066a90>,\n",
       "  <matplotlib.lines.Line2D at 0x7f1790066d10>,\n",
       "  <matplotlib.lines.Line2D at 0x7f178a7c7e90>,\n",
       "  <matplotlib.lines.Line2D at 0x7f178a7c7f10>,\n",
       "  <matplotlib.lines.Line2D at 0x7f178a7dd8d0>,\n",
       "  <matplotlib.lines.Line2D at 0x7f178a7dde50>,\n",
       "  <matplotlib.lines.Line2D at 0x7f178a7eccd0>,\n",
       "  <matplotlib.lines.Line2D at 0x7f178a7ecd50>,\n",
       "  <matplotlib.lines.Line2D at 0x7f178a7f9ed0>,\n",
       "  <matplotlib.lines.Line2D at 0x7f178a781c90>,\n",
       "  <matplotlib.lines.Line2D at 0x7f178a78fe10>,\n",
       "  <matplotlib.lines.Line2D at 0x7f178a78fb90>,\n",
       "  <matplotlib.lines.Line2D at 0x7f178a79fd10>,\n",
       "  <matplotlib.lines.Line2D at 0x7f178a7a5ad0>,\n",
       "  <matplotlib.lines.Line2D at 0x7f178a7b4c50>,\n",
       "  <matplotlib.lines.Line2D at 0x7f178a7b4ed0>,\n",
       "  <matplotlib.lines.Line2D at 0x7f178a741b50>,\n",
       "  <matplotlib.lines.Line2D at 0x7f178a749910>,\n",
       "  <matplotlib.lines.Line2D at 0x7f178a758a90>,\n",
       "  <matplotlib.lines.Line2D at 0x7f178a758d10>,\n",
       "  <matplotlib.lines.Line2D at 0x7f178a766e90>,\n",
       "  <matplotlib.lines.Line2D at 0x7f178a766f10>,\n",
       "  <matplotlib.lines.Line2D at 0x7f178a77c8d0>,\n",
       "  <matplotlib.lines.Line2D at 0x7f178a77ce50>,\n",
       "  <matplotlib.lines.Line2D at 0x7f178a70acd0>,\n",
       "  <matplotlib.lines.Line2D at 0x7f178a70ad50>,\n",
       "  <matplotlib.lines.Line2D at 0x7f178a717ed0>,\n",
       "  <matplotlib.lines.Line2D at 0x7f178a720c90>,\n",
       "  <matplotlib.lines.Line2D at 0x7f178a72ee10>,\n",
       "  <matplotlib.lines.Line2D at 0x7f178a72eb90>,\n",
       "  <matplotlib.lines.Line2D at 0x7f178a6bdd10>,\n",
       "  <matplotlib.lines.Line2D at 0x7f178a6c5ad0>,\n",
       "  <matplotlib.lines.Line2D at 0x7f178a6d1c50>,\n",
       "  <matplotlib.lines.Line2D at 0x7f178a6d1ed0>,\n",
       "  <matplotlib.lines.Line2D at 0x7f178a6e2b50>,\n",
       "  <matplotlib.lines.Line2D at 0x7f178a6e7910>,\n",
       "  <matplotlib.lines.Line2D at 0x7f178a6f7a90>,\n",
       "  <matplotlib.lines.Line2D at 0x7f178a6f7d10>,\n",
       "  <matplotlib.lines.Line2D at 0x7f178a686e90>,\n",
       "  <matplotlib.lines.Line2D at 0x7f178a686f10>,\n",
       "  <matplotlib.lines.Line2D at 0x7f178a69a8d0>,\n",
       "  <matplotlib.lines.Line2D at 0x7f178a69ae50>,\n",
       "  <matplotlib.lines.Line2D at 0x7f178a6a9cd0>,\n",
       "  <matplotlib.lines.Line2D at 0x7f178a6a9d50>,\n",
       "  <matplotlib.lines.Line2D at 0x7f178a6b7ed0>,\n",
       "  <matplotlib.lines.Line2D at 0x7f178a63fc90>,\n",
       "  <matplotlib.lines.Line2D at 0x7f178a64fe10>,\n",
       "  <matplotlib.lines.Line2D at 0x7f178a64fb90>,\n",
       "  <matplotlib.lines.Line2D at 0x7f178a65bd10>,\n",
       "  <matplotlib.lines.Line2D at 0x7f178a663ad0>,\n",
       "  <matplotlib.lines.Line2D at 0x7f178a671c50>,\n",
       "  <matplotlib.lines.Line2D at 0x7f178a671ed0>,\n",
       "  <matplotlib.lines.Line2D at 0x7f178a600b50>,\n",
       "  <matplotlib.lines.Line2D at 0x7f178a608910>,\n",
       "  <matplotlib.lines.Line2D at 0x7f178a614a90>,\n",
       "  <matplotlib.lines.Line2D at 0x7f178a614d10>,\n",
       "  <matplotlib.lines.Line2D at 0x7f178a623e90>,\n",
       "  <matplotlib.lines.Line2D at 0x7f178a623f10>,\n",
       "  <matplotlib.lines.Line2D at 0x7f178a6388d0>,\n",
       "  <matplotlib.lines.Line2D at 0x7f178a638e50>,\n",
       "  <matplotlib.lines.Line2D at 0x7f178a5c8cd0>,\n",
       "  <matplotlib.lines.Line2D at 0x7f178a5c8d50>,\n",
       "  <matplotlib.lines.Line2D at 0x7f178a5d6ed0>,\n",
       "  <matplotlib.lines.Line2D at 0x7f178a5ddc90>,\n",
       "  <matplotlib.lines.Line2D at 0x7f178a5ece10>,\n",
       "  <matplotlib.lines.Line2D at 0x7f178a5ecb90>,\n",
       "  <matplotlib.lines.Line2D at 0x7f178a5fbd10>,\n",
       "  <matplotlib.lines.Line2D at 0x7f178a581ad0>,\n",
       "  <matplotlib.lines.Line2D at 0x7f178a590c50>,\n",
       "  <matplotlib.lines.Line2D at 0x7f178a590ed0>,\n",
       "  <matplotlib.lines.Line2D at 0x7f178a5a0b50>,\n",
       "  <matplotlib.lines.Line2D at 0x7f178a5a7910>,\n",
       "  <matplotlib.lines.Line2D at 0x7f178a5b4a90>,\n",
       "  <matplotlib.lines.Line2D at 0x7f178a5b4d10>,\n",
       "  <matplotlib.lines.Line2D at 0x7f178a544e90>,\n",
       "  <matplotlib.lines.Line2D at 0x7f178a544f10>,\n",
       "  <matplotlib.lines.Line2D at 0x7f178a5598d0>,\n",
       "  <matplotlib.lines.Line2D at 0x7f178a559e50>,\n",
       "  <matplotlib.lines.Line2D at 0x7f178a569cd0>,\n",
       "  <matplotlib.lines.Line2D at 0x7f178a569d50>,\n",
       "  <matplotlib.lines.Line2D at 0x7f178a575ed0>,\n",
       "  <matplotlib.lines.Line2D at 0x7f178a4fdc90>,\n",
       "  <matplotlib.lines.Line2D at 0x7f178a50be10>,\n",
       "  <matplotlib.lines.Line2D at 0x7f178a50bb90>,\n",
       "  <matplotlib.lines.Line2D at 0x7f178a51ad10>,\n",
       "  <matplotlib.lines.Line2D at 0x7f178a522ad0>,\n",
       "  <matplotlib.lines.Line2D at 0x7f178a530c50>,\n",
       "  <matplotlib.lines.Line2D at 0x7f178a528cd0>,\n",
       "  <matplotlib.lines.Line2D at 0x7f18339e0c90>,\n",
       "  <matplotlib.lines.Line2D at 0x7f18339e8e50>,\n",
       "  <matplotlib.lines.Line2D at 0x7f1833a5f810>,\n",
       "  <matplotlib.lines.Line2D at 0x7f1833a5f8d0>,\n",
       "  <matplotlib.lines.Line2D at 0x7f18339f9f90>,\n",
       "  <matplotlib.lines.Line2D at 0x7f18339cee90>,\n",
       "  <matplotlib.lines.Line2D at 0x7f1833a0f5d0>,\n",
       "  <matplotlib.lines.Line2D at 0x7f1833a0f8d0>,\n",
       "  <matplotlib.lines.Line2D at 0x7f18339d8110>,\n",
       "  <matplotlib.lines.Line2D at 0x7f1833889c50>,\n",
       "  <matplotlib.lines.Line2D at 0x7f1833c89450>,\n",
       "  <matplotlib.lines.Line2D at 0x7f1833c73d90>,\n",
       "  <matplotlib.lines.Line2D at 0x7f1833cd7bd0>,\n",
       "  <matplotlib.lines.Line2D at 0x7f1833cd73d0>,\n",
       "  <matplotlib.lines.Line2D at 0x7f18603b2450>,\n",
       "  <matplotlib.lines.Line2D at 0x7f18603b2dd0>,\n",
       "  <matplotlib.lines.Line2D at 0x7f18607f1110>,\n",
       "  <matplotlib.lines.Line2D at 0x7f1833d5ce90>,\n",
       "  <matplotlib.lines.Line2D at 0x7f186040f090>,\n",
       "  <matplotlib.lines.Line2D at 0x7f179315db10>,\n",
       "  <matplotlib.lines.Line2D at 0x7f1870c4c6d0>,\n",
       "  <matplotlib.lines.Line2D at 0x7f18606a1c50>,\n",
       "  <matplotlib.lines.Line2D at 0x7f183399f910>,\n",
       "  <matplotlib.lines.Line2D at 0x7f1833994410>,\n",
       "  <matplotlib.lines.Line2D at 0x7f1833a19a10>,\n",
       "  <matplotlib.lines.Line2D at 0x7f1833a21bd0>,\n",
       "  <matplotlib.lines.Line2D at 0x7f1833ff1990>,\n",
       "  <matplotlib.lines.Line2D at 0x7f187134a350>,\n",
       "  <matplotlib.lines.Line2D at 0x7f1790169ed0>,\n",
       "  <matplotlib.lines.Line2D at 0x7f1860294e10>,\n",
       "  <matplotlib.lines.Line2D at 0x7f1833b0d750>,\n",
       "  <matplotlib.lines.Line2D at 0x7f1833b0d8d0>,\n",
       "  <matplotlib.lines.Line2D at 0x7f1790267cd0>,\n",
       "  <matplotlib.lines.Line2D at 0x7f1790267550>,\n",
       "  <matplotlib.lines.Line2D at 0x7f179024ef10>,\n",
       "  <matplotlib.lines.Line2D at 0x7f179024e610>,\n",
       "  <matplotlib.lines.Line2D at 0x7f1790214590>,\n",
       "  <matplotlib.lines.Line2D at 0x7f1790214550>,\n",
       "  <matplotlib.lines.Line2D at 0x7f17901af1d0>,\n",
       "  <matplotlib.lines.Line2D at 0x7f17901bba10>,\n",
       "  <matplotlib.lines.Line2D at 0x7f17902b5a10>,\n",
       "  <matplotlib.lines.Line2D at 0x7f17902b5090>,\n",
       "  <matplotlib.lines.Line2D at 0x7f1860203890>,\n",
       "  <matplotlib.lines.Line2D at 0x7f1860203b10>,\n",
       "  <matplotlib.lines.Line2D at 0x7f1833f56990>,\n",
       "  <matplotlib.lines.Line2D at 0x7f1833f41850>,\n",
       "  <matplotlib.lines.Line2D at 0x7f178a537d90>,\n",
       "  <matplotlib.lines.Line2D at 0x7f178a537fd0>,\n",
       "  <matplotlib.lines.Line2D at 0x7f18339f4c90>,\n",
       "  <matplotlib.lines.Line2D at 0x7f18339fea50>],\n",
       " 'boxes': [<matplotlib.lines.Line2D at 0x7f18338fe1d0>,\n",
       "  <matplotlib.lines.Line2D at 0x7f1833887a10>,\n",
       "  <matplotlib.lines.Line2D at 0x7f18338b3cd0>,\n",
       "  <matplotlib.lines.Line2D at 0x7f18338b3d50>,\n",
       "  <matplotlib.lines.Line2D at 0x7f1790072f90>,\n",
       "  <matplotlib.lines.Line2D at 0x7f1790089810>,\n",
       "  <matplotlib.lines.Line2D at 0x7f1790089390>,\n",
       "  <matplotlib.lines.Line2D at 0x7f1790094ad0>,\n",
       "  <matplotlib.lines.Line2D at 0x7f179002c210>,\n",
       "  <matplotlib.lines.Line2D at 0x7f179003a910>,\n",
       "  <matplotlib.lines.Line2D at 0x7f1790049f50>,\n",
       "  <matplotlib.lines.Line2D at 0x7f178a7c1cd0>,\n",
       "  <matplotlib.lines.Line2D at 0x7f178a7c1d50>,\n",
       "  <matplotlib.lines.Line2D at 0x7f178a7d6490>,\n",
       "  <matplotlib.lines.Line2D at 0x7f178a7e5b90>,\n",
       "  <matplotlib.lines.Line2D at 0x7f178a7f92d0>,\n",
       "  <matplotlib.lines.Line2D at 0x7f178a7889d0>,\n",
       "  <matplotlib.lines.Line2D at 0x7f178a79f110>,\n",
       "  <matplotlib.lines.Line2D at 0x7f178a7bbe90>,\n",
       "  <matplotlib.lines.Line2D at 0x7f178a7bbf10>,\n",
       "  <matplotlib.lines.Line2D at 0x7f178a75ecd0>,\n",
       "  <matplotlib.lines.Line2D at 0x7f178a75ed50>,\n",
       "  <matplotlib.lines.Line2D at 0x7f178a773490>,\n",
       "  <matplotlib.lines.Line2D at 0x7f178a704b90>,\n",
       "  <matplotlib.lines.Line2D at 0x7f178a7172d0>,\n",
       "  <matplotlib.lines.Line2D at 0x7f178a7279d0>,\n",
       "  <matplotlib.lines.Line2D at 0x7f178a6bd110>,\n",
       "  <matplotlib.lines.Line2D at 0x7f178a6dbe90>,\n",
       "  <matplotlib.lines.Line2D at 0x7f178a6dbf10>,\n",
       "  <matplotlib.lines.Line2D at 0x7f178a67fcd0>,\n",
       "  <matplotlib.lines.Line2D at 0x7f178a67fd50>,\n",
       "  <matplotlib.lines.Line2D at 0x7f178a693490>,\n",
       "  <matplotlib.lines.Line2D at 0x7f178a6a2b90>,\n",
       "  <matplotlib.lines.Line2D at 0x7f178a6b72d0>,\n",
       "  <matplotlib.lines.Line2D at 0x7f178a6479d0>,\n",
       "  <matplotlib.lines.Line2D at 0x7f178a65b110>,\n",
       "  <matplotlib.lines.Line2D at 0x7f178a66a810>,\n",
       "  <matplotlib.lines.Line2D at 0x7f178a678f10>,\n",
       "  <matplotlib.lines.Line2D at 0x7f178a60e650>,\n",
       "  <matplotlib.lines.Line2D at 0x7f178a61cd50>,\n",
       "  <matplotlib.lines.Line2D at 0x7f178a631490>,\n",
       "  <matplotlib.lines.Line2D at 0x7f178a5c1b90>,\n",
       "  <matplotlib.lines.Line2D at 0x7f178a5d62d0>,\n",
       "  <matplotlib.lines.Line2D at 0x7f178a5e59d0>,\n",
       "  <matplotlib.lines.Line2D at 0x7f178a5fb110>,\n",
       "  <matplotlib.lines.Line2D at 0x7f178a597e90>,\n",
       "  <matplotlib.lines.Line2D at 0x7f178a597f10>,\n",
       "  <matplotlib.lines.Line2D at 0x7f178a5ae650>,\n",
       "  <matplotlib.lines.Line2D at 0x7f178a5bcd50>,\n",
       "  <matplotlib.lines.Line2D at 0x7f178a550490>,\n",
       "  <matplotlib.lines.Line2D at 0x7f178a560b90>,\n",
       "  <matplotlib.lines.Line2D at 0x7f178a5752d0>,\n",
       "  <matplotlib.lines.Line2D at 0x7f178a5049d0>,\n",
       "  <matplotlib.lines.Line2D at 0x7f178a51a110>,\n",
       "  <matplotlib.lines.Line2D at 0x7f1833892cd0>,\n",
       "  <matplotlib.lines.Line2D at 0x7f1833892d50>,\n",
       "  <matplotlib.lines.Line2D at 0x7f18339c98d0>,\n",
       "  <matplotlib.lines.Line2D at 0x7f18338c0f90>,\n",
       "  <matplotlib.lines.Line2D at 0x7f183398b890>,\n",
       "  <matplotlib.lines.Line2D at 0x7f17933a4190>,\n",
       "  <matplotlib.lines.Line2D at 0x7f17933c1690>,\n",
       "  <matplotlib.lines.Line2D at 0x7f1833c80190>,\n",
       "  <matplotlib.lines.Line2D at 0x7f1833c80650>,\n",
       "  <matplotlib.lines.Line2D at 0x7f1860364050>,\n",
       "  <matplotlib.lines.Line2D at 0x7f186040f650>,\n",
       "  <matplotlib.lines.Line2D at 0x7f1789cf9850>,\n",
       "  <matplotlib.lines.Line2D at 0x7f1833a099d0>,\n",
       "  <matplotlib.lines.Line2D at 0x7f1833a09090>,\n",
       "  <matplotlib.lines.Line2D at 0x7f1833935610>,\n",
       "  <matplotlib.lines.Line2D at 0x7f17901695d0>,\n",
       "  <matplotlib.lines.Line2D at 0x7f18603291d0>,\n",
       "  <matplotlib.lines.Line2D at 0x7f17901fa2d0>,\n",
       "  <matplotlib.lines.Line2D at 0x7f179023d810>,\n",
       "  <matplotlib.lines.Line2D at 0x7f1833b38490>,\n",
       "  <matplotlib.lines.Line2D at 0x7f1833b383d0>,\n",
       "  <matplotlib.lines.Line2D at 0x7f17901538d0>,\n",
       "  <matplotlib.lines.Line2D at 0x7f186029f790>,\n",
       "  <matplotlib.lines.Line2D at 0x7f186029f990>,\n",
       "  <matplotlib.lines.Line2D at 0x7f18339effd0>],\n",
       " 'medians': [<matplotlib.lines.Line2D at 0x7f18338d0ed0>,\n",
       "  <matplotlib.lines.Line2D at 0x7f183388cd90>,\n",
       "  <matplotlib.lines.Line2D at 0x7f18338b9d50>,\n",
       "  <matplotlib.lines.Line2D at 0x7f179006dc50>,\n",
       "  <matplotlib.lines.Line2D at 0x7f179007eb90>,\n",
       "  <matplotlib.lines.Line2D at 0x7f179008efd0>,\n",
       "  <matplotlib.lines.Line2D at 0x7f17900a5a50>,\n",
       "  <matplotlib.lines.Line2D at 0x7f1790032e50>,\n",
       "  <matplotlib.lines.Line2D at 0x7f1790041fd0>,\n",
       "  <matplotlib.lines.Line2D at 0x7f1790058e90>,\n",
       "  <matplotlib.lines.Line2D at 0x7f1790066d90>,\n",
       "  <matplotlib.lines.Line2D at 0x7f178a7cdcd0>,\n",
       "  <matplotlib.lines.Line2D at 0x7f178a7ddbd0>,\n",
       "  <matplotlib.lines.Line2D at 0x7f178a7f2b10>,\n",
       "  <matplotlib.lines.Line2D at 0x7f178a781f10>,\n",
       "  <matplotlib.lines.Line2D at 0x7f178a796950>,\n",
       "  <matplotlib.lines.Line2D at 0x7f178a7a5d50>,\n",
       "  <matplotlib.lines.Line2D at 0x7f178a7b4f50>,\n",
       "  <matplotlib.lines.Line2D at 0x7f178a749e90>,\n",
       "  <matplotlib.lines.Line2D at 0x7f178a758d90>,\n",
       "  <matplotlib.lines.Line2D at 0x7f178a76dcd0>,\n",
       "  <matplotlib.lines.Line2D at 0x7f178a77cbd0>,\n",
       "  <matplotlib.lines.Line2D at 0x7f178a70fb10>,\n",
       "  <matplotlib.lines.Line2D at 0x7f178a720f10>,\n",
       "  <matplotlib.lines.Line2D at 0x7f178a734950>,\n",
       "  <matplotlib.lines.Line2D at 0x7f178a6c5d50>,\n",
       "  <matplotlib.lines.Line2D at 0x7f178a6d1f50>,\n",
       "  <matplotlib.lines.Line2D at 0x7f178a6e7e90>,\n",
       "  <matplotlib.lines.Line2D at 0x7f178a6f7d90>,\n",
       "  <matplotlib.lines.Line2D at 0x7f178a68ccd0>,\n",
       "  <matplotlib.lines.Line2D at 0x7f178a69abd0>,\n",
       "  <matplotlib.lines.Line2D at 0x7f178a6b2b10>,\n",
       "  <matplotlib.lines.Line2D at 0x7f178a63ff10>,\n",
       "  <matplotlib.lines.Line2D at 0x7f178a654950>,\n",
       "  <matplotlib.lines.Line2D at 0x7f178a663d50>,\n",
       "  <matplotlib.lines.Line2D at 0x7f178a671f50>,\n",
       "  <matplotlib.lines.Line2D at 0x7f178a608e90>,\n",
       "  <matplotlib.lines.Line2D at 0x7f178a614d90>,\n",
       "  <matplotlib.lines.Line2D at 0x7f178a62acd0>,\n",
       "  <matplotlib.lines.Line2D at 0x7f178a638bd0>,\n",
       "  <matplotlib.lines.Line2D at 0x7f178a5ceb10>,\n",
       "  <matplotlib.lines.Line2D at 0x7f178a5ddf10>,\n",
       "  <matplotlib.lines.Line2D at 0x7f178a5f2950>,\n",
       "  <matplotlib.lines.Line2D at 0x7f178a581d50>,\n",
       "  <matplotlib.lines.Line2D at 0x7f178a590f50>,\n",
       "  <matplotlib.lines.Line2D at 0x7f178a5a7e90>,\n",
       "  <matplotlib.lines.Line2D at 0x7f178a5b4d90>,\n",
       "  <matplotlib.lines.Line2D at 0x7f178a54acd0>,\n",
       "  <matplotlib.lines.Line2D at 0x7f178a559bd0>,\n",
       "  <matplotlib.lines.Line2D at 0x7f178a56fb10>,\n",
       "  <matplotlib.lines.Line2D at 0x7f178a4fdf10>,\n",
       "  <matplotlib.lines.Line2D at 0x7f178a513950>,\n",
       "  <matplotlib.lines.Line2D at 0x7f178a522d50>,\n",
       "  <matplotlib.lines.Line2D at 0x7f17928bc750>,\n",
       "  <matplotlib.lines.Line2D at 0x7f18339e8f90>,\n",
       "  <matplotlib.lines.Line2D at 0x7f1833a5fa50>,\n",
       "  <matplotlib.lines.Line2D at 0x7f18339ce9d0>,\n",
       "  <matplotlib.lines.Line2D at 0x7f1833982690>,\n",
       "  <matplotlib.lines.Line2D at 0x7f1833f75c50>,\n",
       "  <matplotlib.lines.Line2D at 0x7f1833c73f90>,\n",
       "  <matplotlib.lines.Line2D at 0x7f1833cd7f50>,\n",
       "  <matplotlib.lines.Line2D at 0x7f18603aae10>,\n",
       "  <matplotlib.lines.Line2D at 0x7f1833d5c590>,\n",
       "  <matplotlib.lines.Line2D at 0x7f179315dfd0>,\n",
       "  <matplotlib.lines.Line2D at 0x7f18606a1910>,\n",
       "  <matplotlib.lines.Line2D at 0x7f1833994ed0>,\n",
       "  <matplotlib.lines.Line2D at 0x7f1833a21990>,\n",
       "  <matplotlib.lines.Line2D at 0x7f1833b20850>,\n",
       "  <matplotlib.lines.Line2D at 0x7f1860294f10>,\n",
       "  <matplotlib.lines.Line2D at 0x7f1833db5f90>,\n",
       "  <matplotlib.lines.Line2D at 0x7f1790267050>,\n",
       "  <matplotlib.lines.Line2D at 0x7f17902257d0>,\n",
       "  <matplotlib.lines.Line2D at 0x7f1790214710>,\n",
       "  <matplotlib.lines.Line2D at 0x7f17901bb1d0>,\n",
       "  <matplotlib.lines.Line2D at 0x7f1860344b10>,\n",
       "  <matplotlib.lines.Line2D at 0x7f1860203050>,\n",
       "  <matplotlib.lines.Line2D at 0x7f1833f41c90>,\n",
       "  <matplotlib.lines.Line2D at 0x7f18339ef8d0>,\n",
       "  <matplotlib.lines.Line2D at 0x7f18339fecd0>],\n",
       " 'fliers': [<matplotlib.lines.Line2D at 0x7f18338d0bd0>,\n",
       "  <matplotlib.lines.Line2D at 0x7f18338b3b50>,\n",
       "  <matplotlib.lines.Line2D at 0x7f18338b9fd0>,\n",
       "  <matplotlib.lines.Line2D at 0x7f1790072a10>,\n",
       "  <matplotlib.lines.Line2D at 0x7f1790089290>,\n",
       "  <matplotlib.lines.Line2D at 0x7f17900948d0>,\n",
       "  <matplotlib.lines.Line2D at 0x7f17900a5cd0>,\n",
       "  <matplotlib.lines.Line2D at 0x7f1790032ed0>,\n",
       "  <matplotlib.lines.Line2D at 0x7f18338be510>,\n",
       "  <matplotlib.lines.Line2D at 0x7f1790058c10>,\n",
       "  <matplotlib.lines.Line2D at 0x7f178a7c1b50>,\n",
       "  <matplotlib.lines.Line2D at 0x7f178a7cdf50>,\n",
       "  <matplotlib.lines.Line2D at 0x7f178a7e5990>,\n",
       "  <matplotlib.lines.Line2D at 0x7f178a7f2d90>,\n",
       "  <matplotlib.lines.Line2D at 0x7f178a781f90>,\n",
       "  <matplotlib.lines.Line2D at 0x7f178a796ed0>,\n",
       "  <matplotlib.lines.Line2D at 0x7f178a7a5dd0>,\n",
       "  <matplotlib.lines.Line2D at 0x7f178a7bbd10>,\n",
       "  <matplotlib.lines.Line2D at 0x7f178a749c10>,\n",
       "  <matplotlib.lines.Line2D at 0x7f178a75eb50>,\n",
       "  <matplotlib.lines.Line2D at 0x7f178a76df50>,\n",
       "  <matplotlib.lines.Line2D at 0x7f178a704990>,\n",
       "  <matplotlib.lines.Line2D at 0x7f178a70fd90>,\n",
       "  <matplotlib.lines.Line2D at 0x7f178a720f90>,\n",
       "  <matplotlib.lines.Line2D at 0x7f178a734ed0>,\n",
       "  <matplotlib.lines.Line2D at 0x7f178a6c5dd0>,\n",
       "  <matplotlib.lines.Line2D at 0x7f178a6dbd10>,\n",
       "  <matplotlib.lines.Line2D at 0x7f178a6e7c10>,\n",
       "  <matplotlib.lines.Line2D at 0x7f178a67fb50>,\n",
       "  <matplotlib.lines.Line2D at 0x7f178a68cf50>,\n",
       "  <matplotlib.lines.Line2D at 0x7f178a6a2990>,\n",
       "  <matplotlib.lines.Line2D at 0x7f178a6b2d90>,\n",
       "  <matplotlib.lines.Line2D at 0x7f178a63ff90>,\n",
       "  <matplotlib.lines.Line2D at 0x7f178a654ed0>,\n",
       "  <matplotlib.lines.Line2D at 0x7f178a663dd0>,\n",
       "  <matplotlib.lines.Line2D at 0x7f178a678d10>,\n",
       "  <matplotlib.lines.Line2D at 0x7f178a608c10>,\n",
       "  <matplotlib.lines.Line2D at 0x7f178a61cb50>,\n",
       "  <matplotlib.lines.Line2D at 0x7f178a62af50>,\n",
       "  <matplotlib.lines.Line2D at 0x7f178a5c1990>,\n",
       "  <matplotlib.lines.Line2D at 0x7f178a5ced90>,\n",
       "  <matplotlib.lines.Line2D at 0x7f178a5ddf90>,\n",
       "  <matplotlib.lines.Line2D at 0x7f178a5f2ed0>,\n",
       "  <matplotlib.lines.Line2D at 0x7f178a581dd0>,\n",
       "  <matplotlib.lines.Line2D at 0x7f178a597d10>,\n",
       "  <matplotlib.lines.Line2D at 0x7f178a5a7c10>,\n",
       "  <matplotlib.lines.Line2D at 0x7f178a5bcb50>,\n",
       "  <matplotlib.lines.Line2D at 0x7f178a54af50>,\n",
       "  <matplotlib.lines.Line2D at 0x7f178a560990>,\n",
       "  <matplotlib.lines.Line2D at 0x7f178a56fd90>,\n",
       "  <matplotlib.lines.Line2D at 0x7f178a4fdf90>,\n",
       "  <matplotlib.lines.Line2D at 0x7f178a513ed0>,\n",
       "  <matplotlib.lines.Line2D at 0x7f178a522dd0>,\n",
       "  <matplotlib.lines.Line2D at 0x7f1833a26310>,\n",
       "  <matplotlib.lines.Line2D at 0x7f18339f0310>,\n",
       "  <matplotlib.lines.Line2D at 0x7f18338c0d50>,\n",
       "  <matplotlib.lines.Line2D at 0x7f1833a7fbd0>,\n",
       "  <matplotlib.lines.Line2D at 0x7f1833982c50>,\n",
       "  <matplotlib.lines.Line2D at 0x7f17939abd50>,\n",
       "  <matplotlib.lines.Line2D at 0x7f1833c73990>,\n",
       "  <matplotlib.lines.Line2D at 0x7f1833c80350>,\n",
       "  <matplotlib.lines.Line2D at 0x7f18603aa710>,\n",
       "  <matplotlib.lines.Line2D at 0x7f186069b450>,\n",
       "  <matplotlib.lines.Line2D at 0x7f1789d02a50>,\n",
       "  <matplotlib.lines.Line2D at 0x7f17930d42d0>,\n",
       "  <matplotlib.lines.Line2D at 0x7f1833a09b90>,\n",
       "  <matplotlib.lines.Line2D at 0x7f1833a21410>,\n",
       "  <matplotlib.lines.Line2D at 0x7f1833b20f50>,\n",
       "  <matplotlib.lines.Line2D at 0x7f18603297d0>,\n",
       "  <matplotlib.lines.Line2D at 0x7f1833db5450>,\n",
       "  <matplotlib.lines.Line2D at 0x7f179023d9d0>,\n",
       "  <matplotlib.lines.Line2D at 0x7f1790225b50>,\n",
       "  <matplotlib.lines.Line2D at 0x7f1833b38610>,\n",
       "  <matplotlib.lines.Line2D at 0x7f17901536d0>,\n",
       "  <matplotlib.lines.Line2D at 0x7f1860344410>,\n",
       "  <matplotlib.lines.Line2D at 0x7f186029f850>,\n",
       "  <matplotlib.lines.Line2D at 0x7f1833f41410>,\n",
       "  <matplotlib.lines.Line2D at 0x7f18339efe50>,\n",
       "  <matplotlib.lines.Line2D at 0x7f18339fed50>],\n",
       " 'means': []}"
      ]
     },
     "execution_count": 14,
     "metadata": {},
     "output_type": "execute_result"
    },
    {
     "data": {
      "image/png": "[encoded data removed]",
      "text/plain": [
       "<Figure size 640x480 with 1 Axes>"
      ]
     },
     "metadata": {},
     "output_type": "display_data"
    }
   ],
   "source": [
    "newdata.boxplot(return_type='dict')\n",
    "#plt.savefig('种类数据筛选/Bot箱线图-2.png')"
   ]
  },
  {
   "cell_type": "code",
   "execution_count": 23,
   "id": "273b9baa-88fe-48c3-ba91-8752f3eb9cf0",
   "metadata": {
    "execution": {
     "iopub.execute_input": "2023-03-03T07:01:40.751392Z",
     "iopub.status.busy": "2023-03-03T07:01:40.746809Z",
     "iopub.status.idle": "2023-03-03T07:01:42.903527Z",
     "shell.execute_reply": "2023-03-03T07:01:42.902372Z",
     "shell.execute_reply.started": "2023-03-03T07:01:40.751333Z"
    },
    "scrolled": true,
    "tags": []
   },
   "outputs": [
    {
     "data": {
      "text/plain": [
       "<matplotlib.axes._subplots.AxesSubplot at 0x7f179058c710>"
      ]
     },
     "execution_count": 23,
     "metadata": {},
     "output_type": "execute_result"
    },
    {
     "data": {
      "image/png": "[encoded data removed]",
      "text/plain": [
       "<Figure size 640x480 with 1 Axes>"
      ]
     },
     "metadata": {},
     "output_type": "display_data"
    }
   ],
   "source": [
    "import matplotlib.pyplot as plt\n",
    "Bot_rows.boxplot()\n",
    "#plt.savefig('种类数据筛选/Bot箱线图.png')"
   ]
  },
  {
   "cell_type": "code",
   "execution_count": null,
   "id": "995a41ae-5c20-4432-815d-41efe9d78da6",
   "metadata": {
    "execution": {
     "iopub.status.busy": "2023-03-03T01:15:16.830069Z",
     "iopub.status.idle": "2023-03-03T01:15:16.830480Z",
     "shell.execute_reply": "2023-03-03T01:15:16.830263Z",
     "shell.execute_reply.started": "2023-03-03T01:15:16.830234Z"
    },
    "scrolled": true,
    "tags": []
   },
   "outputs": [],
   "source": [
    "Bot_rows.drop(columns=[' Label'],inplace=True)"
   ]
  },
  {
   "cell_type": "code",
   "execution_count": 17,
   "id": "8b1a95dd-d49e-4124-ab69-d0739c2e3303",
   "metadata": {
    "execution": {
     "iopub.execute_input": "2023-03-03T06:47:24.040059Z",
     "iopub.status.busy": "2023-03-03T06:47:24.039399Z",
     "iopub.status.idle": "2023-03-03T06:47:24.047726Z",
     "shell.execute_reply": "2023-03-03T06:47:24.046401Z",
     "shell.execute_reply.started": "2023-03-03T06:47:24.040017Z"
    },
    "scrolled": true,
    "tags": []
   },
   "outputs": [
    {
     "data": {
      "text/plain": [
       "(1956, 79)"
      ]
     },
     "execution_count": 17,
     "metadata": {},
     "output_type": "execute_result"
    }
   ],
   "source": [
    "Bot_rows.shape"
   ]
  },
  {
   "cell_type": "code",
   "execution_count": 18,
   "id": "adff6761-3d16-4ddf-afd6-bebd9846a785",
   "metadata": {
    "execution": {
     "iopub.execute_input": "2023-03-03T06:47:25.384459Z",
     "iopub.status.busy": "2023-03-03T06:47:25.383692Z",
     "iopub.status.idle": "2023-03-03T06:47:25.576630Z",
     "shell.execute_reply": "2023-03-03T06:47:25.574679Z",
     "shell.execute_reply.started": "2023-03-03T06:47:25.384409Z"
    },
    "scrolled": true,
    "tags": []
   },
   "outputs": [
    {
     "name": "stdout",
     "output_type": "stream",
     "text": [
      "Empty DataFrame\r\n",
      "Columns: [ Destination Port,  Flow Duration,  Total Fwd Packets,  Total Backward Packets, Total Length of Fwd Packets,  Total Length of Bwd Packets,  Fwd Packet Length Max,  Fwd Packet Length Min,  Fwd Packet Length Mean,  Fwd Packet Length Std, Bwd Packet Length Max,  Bwd Packet Length Min,  Bwd Packet Length Mean,  Bwd Packet Length Std, Flow Bytes/s,  Flow Packets/s,  Flow IAT Mean,  Flow IAT Std,  Flow IAT Max,  Flow IAT Min, Fwd IAT Total,  Fwd IAT Mean,  Fwd IAT Std,  Fwd IAT Max,  Fwd IAT Min, Bwd IAT Total,  Bwd IAT Mean,  Bwd IAT Std,  Bwd IAT Max,  Bwd IAT Min, Fwd PSH Flags,  Bwd PSH Flags,  Fwd URG Flags,  Bwd URG Flags,  Fwd Header Length,  Bwd Header Length, Fwd Packets/s,  Bwd Packets/s,  Min Packet Length,  Max Packet Length,  Packet Length Mean,  Packet Length Std,  Packet Length Variance, FIN Flag Count,  SYN Flag Count,  RST Flag Count,  PSH Flag Count,  ACK Flag Count,  URG Flag Count,  CWE Flag Count,  ECE Flag Count,  Down/Up Ratio,  Average Packet Size,  Avg Fwd \r\n",
      "Index: []\r\n",
      "\r\n",
      "[0 rows x 79 columns]\r\n"
     ]
    }
   ],
   "source": [
    "# 针对每一列删除异常值\n",
    "for col in Bot_rows.columns:\n",
    "    # 计算第一四分位数(Q1)、第三四分位数(Q3)和四分位距(IQR)\n",
    "    Q1 = Bot_rows[col].quantile(0.25)\n",
    "    Q3 = Bot_rows[col].quantile(0.75)\n",
    "    IQR = Q3 - Q1\n",
    "\n",
    "    # 计算上下限\n",
    "    upper_limit = Q3 + 1.5 * IQR\n",
    "    lower_limit = Q1 - 1.5 * IQR\n",
    "\n",
    "    # 删除异常值\n",
    "    Bot_rows_clean = Bot_rows[(Bot_rows[col] > lower_limit) & (Bot_rows[col] < upper_limit)]\n",
    "\n",
    "# 打印结果\n",
    "print(Bot_rows_clean)\n"
   ]
  },
  {
   "cell_type": "markdown",
   "id": "43aa8e1a-e754-42fb-839b-7b6d25e6f4a3",
   "metadata": {},
   "source": [
    "## BENIGN_rows"
   ]
  },
  {
   "cell_type": "code",
   "execution_count": 19,
   "id": "5f9385d0-5d6d-48f7-92f4-1e1387563fdc",
   "metadata": {
    "execution": {
     "iopub.execute_input": "2023-03-03T06:47:31.722403Z",
     "iopub.status.busy": "2023-03-03T06:47:31.721806Z",
     "iopub.status.idle": "2023-03-03T06:47:31.733901Z",
     "shell.execute_reply": "2023-03-03T06:47:31.732811Z",
     "shell.execute_reply.started": "2023-03-03T06:47:31.722364Z"
    },
    "scrolled": true,
    "tags": []
   },
   "outputs": [
    {
     "ename": "NameError",
     "evalue": "name 'BENIGN_rows' is not defined",
     "output_type": "error",
     "traceback": [
      "\u001b[0;31m---------------------------------------------------------------------------\u001b[0m",
      "\u001b[0;31mNameError\u001b[0m                                 Traceback (most recent call last)",
      "\u001b[0;32m/tmp/ipykernel_434/3646824344.py\u001b[0m in \u001b[0;36m<module>\u001b[0;34m\u001b[0m\n\u001b[1;32m      1\u001b[0m \u001b[0;32mimport\u001b[0m \u001b[0mmatplotlib\u001b[0m\u001b[0;34m.\u001b[0m\u001b[0mpyplot\u001b[0m \u001b[0;32mas\u001b[0m \u001b[0mplt\u001b[0m\u001b[0;34m\u001b[0m\u001b[0;34m\u001b[0m\u001b[0m\n\u001b[0;32m----> 2\u001b[0;31m \u001b[0mBENIGN_rows\u001b[0m\u001b[0;34m.\u001b[0m\u001b[0mboxplot\u001b[0m\u001b[0;34m(\u001b[0m\u001b[0;34m)\u001b[0m\u001b[0;34m\u001b[0m\u001b[0;34m\u001b[0m\u001b[0m\n\u001b[0m\u001b[1;32m      3\u001b[0m \u001b[0;31m#plt.savefig('种类数据筛选/BENIGN箱线图.png')\u001b[0m\u001b[0;34m\u001b[0m\u001b[0;34m\u001b[0m\u001b[0;34m\u001b[0m\u001b[0m\n",
      "\u001b[0;31mNameError\u001b[0m: name 'BENIGN_rows' is not defined"
     ]
    }
   ],
   "source": [
    "import matplotlib.pyplot as plt\n",
    "BENIGN_rows.boxplot()\n",
    "#plt.savefig('种类数据筛选/BENIGN箱线图.png')"
   ]
  },
  {
   "cell_type": "markdown",
   "id": "584c915d-013d-4123-be6f-eb0312fedce4",
   "metadata": {},
   "source": [
    "**LocalOutlierFactor异常值筛选**"
   ]
  },
  {
   "cell_type": "code",
   "execution_count": 97,
   "id": "45a7fd07-e57c-4c30-a11c-0c8ee5410948",
   "metadata": {
    "execution": {
     "iopub.execute_input": "2023-03-03T08:25:56.226003Z",
     "iopub.status.busy": "2023-03-03T08:25:56.224888Z",
     "iopub.status.idle": "2023-03-03T08:25:56.487504Z",
     "shell.execute_reply": "2023-03-03T08:25:56.486443Z",
     "shell.execute_reply.started": "2023-03-03T08:25:56.225961Z"
    },
    "scrolled": true
   },
   "outputs": [],
   "source": [
    "from sklearn.neighbors import LocalOutlierFactor\n",
    "lof = LocalOutlierFactor(n_neighbors=20)\n",
    "y_pred = lof.fit_predict(Bot_rows)"
   ]
  },
  {
   "cell_type": "code",
   "execution_count": 98,
   "id": "d3c438a4-f6f3-406f-a914-4fcfa0e103ca",
   "metadata": {
    "execution": {
     "iopub.execute_input": "2023-03-03T08:25:58.126109Z",
     "iopub.status.busy": "2023-03-03T08:25:58.125549Z",
     "iopub.status.idle": "2023-03-03T08:25:58.132267Z",
     "shell.execute_reply": "2023-03-03T08:25:58.131285Z",
     "shell.execute_reply.started": "2023-03-03T08:25:58.126073Z"
    },
    "scrolled": true
   },
   "outputs": [
    {
     "data": {
      "text/plain": [
       "array([-1, -1,  1, ..., -1,  1,  1])"
      ]
     },
     "execution_count": 98,
     "metadata": {},
     "output_type": "execute_result"
    }
   ],
   "source": [
    "y_pred"
   ]
  },
  {
   "cell_type": "code",
   "execution_count": 99,
   "id": "f16e7e72-20fe-4375-81b1-b79314aca2d9",
   "metadata": {
    "execution": {
     "iopub.execute_input": "2023-03-03T08:25:59.641809Z",
     "iopub.status.busy": "2023-03-03T08:25:59.640576Z",
     "iopub.status.idle": "2023-03-03T08:25:59.648314Z",
     "shell.execute_reply": "2023-03-03T08:25:59.647307Z",
     "shell.execute_reply.started": "2023-03-03T08:25:59.641770Z"
    },
    "scrolled": true
   },
   "outputs": [
    {
     "name": "stdout",
     "output_type": "stream",
     "text": [
      "-1 283\r\n",
      "1 1673\r\n"
     ]
    }
   ],
   "source": [
    "#统计数组分类\n",
    "from collections import Counter\n",
    "counts = Counter(y_pred)\n",
    "# 输出每个分类及其对应的数量\n",
    "for Class, count in counts.items():\n",
    "    print(Class, count)  "
   ]
  },
  {
   "cell_type": "code",
   "execution_count": 100,
   "id": "a174d803-0b60-464d-9684-d0246ac03b73",
   "metadata": {
    "execution": {
     "iopub.execute_input": "2023-03-03T08:26:02.459522Z",
     "iopub.status.busy": "2023-03-03T08:26:02.458842Z",
     "iopub.status.idle": "2023-03-03T08:26:02.467082Z",
     "shell.execute_reply": "2023-03-03T08:26:02.465258Z",
     "shell.execute_reply.started": "2023-03-03T08:26:02.459472Z"
    },
    "scrolled": true,
    "tags": []
   },
   "outputs": [],
   "source": [
    "#数据筛选\n",
    "Bot_rows_clean = Bot_rows[y_pred == 1] "
   ]
  },
  {
   "cell_type": "code",
   "execution_count": 101,
   "id": "0c52c993-298b-4a5c-929e-30bc62937154",
   "metadata": {
    "execution": {
     "iopub.execute_input": "2023-03-03T08:26:04.132532Z",
     "iopub.status.busy": "2023-03-03T08:26:04.131961Z",
     "iopub.status.idle": "2023-03-03T08:26:04.139021Z",
     "shell.execute_reply": "2023-03-03T08:26:04.138041Z",
     "shell.execute_reply.started": "2023-03-03T08:26:04.132493Z"
    },
    "scrolled": true,
    "tags": []
   },
   "outputs": [
    {
     "data": {
      "text/plain": [
       "(1673, 79)"
      ]
     },
     "execution_count": 101,
     "metadata": {},
     "output_type": "execute_result"
    }
   ],
   "source": [
    "Bot_rows_clean.shape"
   ]
  },
  {
   "cell_type": "code",
   "execution_count": 102,
   "id": "2e753aa5-fa7d-46d1-bc18-5c99337618b8",
   "metadata": {
    "execution": {
     "iopub.execute_input": "2023-03-03T08:26:47.853693Z",
     "iopub.status.busy": "2023-03-03T08:26:47.853030Z",
     "iopub.status.idle": "2023-03-03T08:26:48.332905Z",
     "shell.execute_reply": "2023-03-03T08:26:48.332079Z",
     "shell.execute_reply.started": "2023-03-03T08:26:47.853626Z"
    },
    "scrolled": true
   },
   "outputs": [
    {
     "data": {
      "image/png": "[encoded data removed]",
      "text/plain": [
       "<Figure size 640x480 with 1 Axes>"
      ]
     },
     "metadata": {},
     "output_type": "display_data"
    }
   ],
   "source": [
    "# 获取不同值的数量\n",
    "unique, counts = np.unique(y_pred, return_counts=True)\n",
    "\n",
    "# 绘制柱状图\n",
    "plt.bar(unique, counts)\n",
    "# 在每个柱子上方添加文本标签\n",
    "for i, val in enumerate(counts):\n",
    "    plt.text(i, val, str(val))\n",
    "plt.title(\"Number of Unique Values in Array\")\n",
    "plt.xlabel(\"Value\")\n",
    "plt.ylabel(\"Count\")\n",
    "plt.show()\n"
   ]
  },
  {
   "cell_type": "markdown",
   "id": "c2334a1d-9194-4efb-8d03-c53a40c351aa",
   "metadata": {},
   "source": [
    "---------------------"
   ]
  },
  {
   "cell_type": "code",
   "execution_count": 103,
   "id": "919ce17d-b89b-4f61-92a5-dc415831e969",
   "metadata": {
    "execution": {
     "iopub.execute_input": "2023-03-03T08:27:23.917120Z",
     "iopub.status.busy": "2023-03-03T08:27:23.916537Z",
     "iopub.status.idle": "2023-03-03T08:27:24.940590Z",
     "shell.execute_reply": "2023-03-03T08:27:24.939747Z",
     "shell.execute_reply.started": "2023-03-03T08:27:23.917083Z"
    },
    "scrolled": true,
    "tags": []
   },
   "outputs": [
    {
     "data": {
      "image/png": "[encoded data removed]",
      "text/plain": [
       "<Figure size 800x600 with 1 Axes>"
      ]
     },
     "metadata": {},
     "output_type": "display_data"
    },
    {
     "data": {
      "text/plain": [
       "<Figure size 640x480 with 0 Axes>"
      ]
     },
     "metadata": {},
     "output_type": "display_data"
    }
   ],
   "source": [
    "import numpy as np\n",
    "import pandas as pd\n",
    "import matplotlib.pyplot as plt\n",
    "from sklearn.neighbors import LocalOutlierFactor\n",
    "from mpl_toolkits.mplot3d import Axes3D\n",
    "# 读取数据集\n",
    "#data = pd.read_csv('data.csv')\n",
    "\n",
    "# 提取数据集中的特征列\n",
    "X_Bot_rows_LOF = Bot_rows.loc[:,Bot_rows.columns != \" Label\"]\n",
    "# 训练LOF模型\n",
    "clf = LocalOutlierFactor(n_neighbors=20,algorithm='auto',contamination=0.1,n_jobs=-1,p=2)\n",
    "y_pred = clf.fit_predict(X_Bot_rows_LOF)\n",
    "\n",
    "# 可视化结果\n",
    "fig = plt.figure(figsize=(8, 6))\n",
    "ax = fig.add_subplot(111, projection='3d')\n",
    "\n",
    "# 绘制散点图\n",
    "ax.scatter(X_Bot_rows_LOF[' Destination Port'], X_Bot_rows_LOF[' Flow Duration'], X_Bot_rows_LOF[' Total Fwd Packets'], c=y_pred, cmap='coolwarm')\n",
    "\n",
    "# 设置坐标轴标签\n",
    "ax.set_xlabel('Destination Port')\n",
    "ax.set_ylabel('Flow Duration')\n",
    "ax.set_zlabel('Total Fwd Packets')\n",
    "\n",
    "# 设置图形标题\n",
    "plt.title(\"LOF\")\n",
    "# 显示图形\n",
    "plt.show()\n",
    "plt.savefig('种类数据筛选/LOF-0-3.jpg')"
   ]
  },
  {
   "cell_type": "code",
   "execution_count": null,
   "id": "d9ff1fdd-7346-4972-bded-9aec741569dc",
   "metadata": {
    "scrolled": true,
    "tags": []
   },
   "outputs": [],
   "source": [
    "import numpy as np\n",
    "import pandas as pd\n",
    "import matplotlib.pyplot as plt\n",
    "from sklearn.neighbors import LocalOutlierFactor\n",
    "from mpl_toolkits.mplot3d import Axes3D\n",
    "# 读取数据集\n",
    "#data = pd.read_csv('data.csv')\n",
    "\n",
    "# 提取数据集中的特征列\n",
    "X_Bot_rows_LOF = Bot_rows.loc[:,Bot_rows.columns != \" Label\"]\n",
    "# 训练LOF模型\n",
    "clf = LocalOutlierFactor(n_neighbors=20,algorithm='auto',contamination=0.1,n_jobs=-1,p=2)\n",
    "y_pred = clf.fit_predict(X_Bot_rows_LOF)\n",
    "\n",
    "# 可视化结果\n",
    "fig = plt.figure(figsize=(8, 6))\n",
    "ax1 = fig.add_subplot(111, projection='3d')\n",
    "\n",
    "# 绘制散点图\n",
    "ax1.scatter(X_Bot_rows_LOF[' Idle Std'], X_Bot_rows_LOF[' Idle Max'], X_Bot_rows_LOF[' Idle Min'], c=y_pred, cmap='coolwarm')\n",
    "\n",
    "# 设置坐标轴标签\n",
    "\n",
    "ax1.set_xlabel('Idle Std')\n",
    "ax1.set_ylabel('Idle Max')\n",
    "ax1.set_zlabel('Idle Min')\n",
    "# 设置图形标题\n",
    "plt.title(\"LOF\")\n",
    "# 显示图形\n",
    "plt.show()\n",
    "#plt.savefig('种类数据筛选/LOF-4-7.png')"
   ]
  },
  {
   "cell_type": "code",
   "execution_count": 106,
   "id": "d2f16457-e732-4335-a933-526d6368a5dd",
   "metadata": {
    "execution": {
     "iopub.execute_input": "2023-03-03T08:27:34.240036Z",
     "iopub.status.busy": "2023-03-03T08:27:34.239420Z",
     "iopub.status.idle": "2023-03-03T08:27:34.246134Z",
     "shell.execute_reply": "2023-03-03T08:27:34.245326Z",
     "shell.execute_reply.started": "2023-03-03T08:27:34.239993Z"
    },
    "scrolled": true
   },
   "outputs": [
    {
     "name": "stdout",
     "output_type": "stream",
     "text": [
      "-1 196\r\n",
      "1 1760\r\n"
     ]
    }
   ],
   "source": [
    "y_pred\n",
    "#统计数组分类\n",
    "from collections import Counter\n",
    "counts = Counter(y_pred)\n",
    "# 输出每个分类及其对应的数量\n",
    "for Class, count in counts.items():\n",
    "    print(Class, count)  "
   ]
  },
  {
   "cell_type": "code",
   "execution_count": 107,
   "id": "d7a03297-1ad0-4e2d-ac49-5973c8ea04ad",
   "metadata": {
    "execution": {
     "iopub.execute_input": "2023-03-03T08:27:50.269249Z",
     "iopub.status.busy": "2023-03-03T08:27:50.268582Z",
     "iopub.status.idle": "2023-03-03T08:27:50.275745Z",
     "shell.execute_reply": "2023-03-03T08:27:50.274609Z",
     "shell.execute_reply.started": "2023-03-03T08:27:50.269201Z"
    },
    "scrolled": true
   },
   "outputs": [
    {
     "data": {
      "text/plain": [
       "array([-1, -1,  1, ..., -1,  1,  1])"
      ]
     },
     "execution_count": 107,
     "metadata": {},
     "output_type": "execute_result"
    }
   ],
   "source": [
    "y_pred"
   ]
  },
  {
   "cell_type": "code",
   "execution_count": 108,
   "id": "0a1fd317-9cb5-4c44-a2ee-648e41a8ee63",
   "metadata": {
    "execution": {
     "iopub.execute_input": "2023-03-03T08:27:51.437654Z",
     "iopub.status.busy": "2023-03-03T08:27:51.436894Z",
     "iopub.status.idle": "2023-03-03T08:27:51.653386Z",
     "shell.execute_reply": "2023-03-03T08:27:51.652067Z",
     "shell.execute_reply.started": "2023-03-03T08:27:51.437605Z"
    },
    "scrolled": true,
    "tags": []
   },
   "outputs": [
    {
     "data": {
      "image/png": "[encoded data removed]",
      "text/plain": [
       "<Figure size 640x480 with 1 Axes>"
      ]
     },
     "metadata": {},
     "output_type": "display_data"
    }
   ],
   "source": [
    "# 获取不同值的数量\n",
    "unique, counts = np.unique(y_pred, return_counts=True)\n",
    "\n",
    "# 绘制柱状图\n",
    "plt.bar(unique, counts)\n",
    "# 在每个柱子上方添加文本标签\n",
    "for i, val in enumerate(counts):\n",
    "    plt.text(i, val, str(val))\n",
    "plt.title(\"Number of Unique Values in Array\")\n",
    "plt.xlabel(\"Value\")\n",
    "plt.ylabel(\"Count\")\n",
    "plt.show()\n"
   ]
  },
  {
   "cell_type": "code",
   "execution_count": 109,
   "id": "37eeec19-b5ce-4b70-84fd-ccd409d92f69",
   "metadata": {
    "execution": {
     "iopub.execute_input": "2023-03-03T08:27:55.262635Z",
     "iopub.status.busy": "2023-03-03T08:27:55.261513Z",
     "iopub.status.idle": "2023-03-03T08:27:55.269659Z",
     "shell.execute_reply": "2023-03-03T08:27:55.268835Z",
     "shell.execute_reply.started": "2023-03-03T08:27:55.262569Z"
    },
    "scrolled": true
   },
   "outputs": [],
   "source": [
    "#数据筛选\n",
    "Bot_rows_clean = Bot_rows[y_pred == 1] "
   ]
  },
  {
   "cell_type": "code",
   "execution_count": 110,
   "id": "016ba68d-22b3-4c3e-87a4-4cb0326e6029",
   "metadata": {
    "execution": {
     "iopub.execute_input": "2023-03-03T08:27:56.083217Z",
     "iopub.status.busy": "2023-03-03T08:27:56.082550Z",
     "iopub.status.idle": "2023-03-03T08:27:56.089095Z",
     "shell.execute_reply": "2023-03-03T08:27:56.088305Z",
     "shell.execute_reply.started": "2023-03-03T08:27:56.083177Z"
    },
    "scrolled": true,
    "tags": []
   },
   "outputs": [
    {
     "data": {
      "text/plain": [
       "(1760, 79)"
      ]
     },
     "execution_count": 110,
     "metadata": {},
     "output_type": "execute_result"
    }
   ],
   "source": [
    "Bot_rows_clean.shape"
   ]
  },
  {
   "cell_type": "markdown",
   "id": "5fcda5f5-fb60-4530-9f75-adbb20a52d05",
   "metadata": {},
   "source": [
    "举例的LOF"
   ]
  },
  {
   "cell_type": "code",
   "execution_count": 51,
   "id": "89a33400-761e-4296-98a5-b34e38b17b2c",
   "metadata": {
    "execution": {
     "iopub.execute_input": "2023-03-03T07:14:21.475615Z",
     "iopub.status.busy": "2023-03-03T07:14:21.474942Z",
     "iopub.status.idle": "2023-03-03T07:14:21.823940Z",
     "shell.execute_reply": "2023-03-03T07:14:21.822938Z",
     "shell.execute_reply.started": "2023-03-03T07:14:21.475566Z"
    },
    "scrolled": true
   },
   "outputs": [
    {
     "data": {
      "image/png": "[encoded data removed]",
      "text/plain": [
       "<Figure size 640x480 with 1 Axes>"
      ]
     },
     "metadata": {},
     "output_type": "display_data"
    }
   ],
   "source": [
    "import numpy as np\n",
    "import matplotlib.pyplot as plt\n",
    "from sklearn.neighbors import LocalOutlierFactor\n",
    "\n",
    "# 生成示例数据集\n",
    "X_LOF = 0.3 * np.random.randn(100, 2)\n",
    "X_outliers = np.random.uniform(low=-4, high=4, size=(20, 2))\n",
    "X_LOF = np.r_[X_LOF + 2, X_LOF - 2, X_outliers]\n",
    "\n",
    "# 训练LOF模型\n",
    "clf_LOF = LocalOutlierFactor(n_neighbors=20)\n",
    "y_pred = clf_LOF.fit_predict(X_LOF)\n",
    "\n",
    "# 可视化结果\n",
    "plt.title(\"LOF\")\n",
    "plt.scatter(X_LOF[:, 0], X_LOF[:, 1], color='k', s=3., label='data points')\n",
    "\n",
    "# 用不同颜色标记异常点和正常点\n",
    "radius = (clf_LOF.kneighbors(X_LOF, n_neighbors=20)[0].max(axis=1))\n",
    "plt.scatter(X_LOF[y_pred == -1, 0], X_LOF[y_pred == -1, 1], color='r', s=50*radius[y_pred == -1], marker='*', label='outliers')\n",
    "plt.scatter(X_LOF[y_pred == 1, 0], X_LOF[y_pred == 1, 1], color='w', s=3., label='inliers')\n",
    "\n",
    "plt.axis('tight')\n",
    "plt.xlim((-5, 5))\n",
    "plt.ylim((-5, 5))\n",
    "plt.legend()\n",
    "plt.show()\n"
   ]
  },
  {
   "cell_type": "code",
   "execution_count": null,
   "id": "7ea4df80-0a0a-4b60-a462-586e9c3a4b5b",
   "metadata": {
    "scrolled": true
   },
   "outputs": [],
   "source": []
  },
  {
   "cell_type": "markdown",
   "id": "63640118-118c-494a-b891-e1b944ac8aec",
   "metadata": {},
   "source": [
    "**SVM异常值**"
   ]
  },
  {
   "cell_type": "code",
   "execution_count": null,
   "id": "dbefba5b-9da9-4bbb-aa06-a0ac59360716",
   "metadata": {
    "execution": {
     "iopub.status.busy": "2023-03-03T01:15:16.856720Z",
     "iopub.status.idle": "2023-03-03T01:15:16.857043Z",
     "shell.execute_reply": "2023-03-03T01:15:16.856896Z",
     "shell.execute_reply.started": "2023-03-03T01:15:16.856883Z"
    },
    "scrolled": true,
    "tags": []
   },
   "outputs": [],
   "source": [
    "##算法的思路非常简单，就是寻找一个超平面将样本中的正例圈出来，预测就是用这个超平面做决策，在圈内的样本就认为是正样本"
   ]
  },
  {
   "cell_type": "code",
   "execution_count": 67,
   "id": "f206749a-0bee-4e9b-b2c7-523edc75976f",
   "metadata": {
    "execution": {
     "iopub.execute_input": "2023-03-03T08:18:07.108216Z",
     "iopub.status.busy": "2023-03-03T08:18:07.107549Z",
     "iopub.status.idle": "2023-03-03T08:18:07.116040Z",
     "shell.execute_reply": "2023-03-03T08:18:07.115344Z",
     "shell.execute_reply.started": "2023-03-03T08:18:07.108175Z"
    },
    "scrolled": true,
    "tags": []
   },
   "outputs": [
    {
     "data": {
      "text/plain": [
       " Label\n",
       "14    1956\n",
       "dtype: int64"
      ]
     },
     "execution_count": 67,
     "metadata": {},
     "output_type": "execute_result"
    }
   ],
   "source": [
    "co = Bot_rows.groupby(' Label').size()\n",
    "co"
   ]
  },
  {
   "cell_type": "code",
   "execution_count": 111,
   "id": "71cad4dc-9a54-499a-846c-e70cbe23eaa7",
   "metadata": {
    "execution": {
     "iopub.execute_input": "2023-03-03T08:30:19.050419Z",
     "iopub.status.busy": "2023-03-03T08:30:19.049099Z",
     "iopub.status.idle": "2023-03-03T08:30:19.054592Z",
     "shell.execute_reply": "2023-03-03T08:30:19.053832Z",
     "shell.execute_reply.started": "2023-03-03T08:30:19.050365Z"
    },
    "scrolled": true
   },
   "outputs": [],
   "source": [
    "'''\n",
    "from sklearn.preprocessing import LabelEncoder\n",
    "le = LabelEncoder()\n",
    "df[' Label'] = le.fit_transform(df[' Label']).astype(np.int64)\n",
    "'''\n",
    "from sklearn.svm import OneClassSVM # 单分类\n",
    "from numpy import where\n",
    "\n",
    "from sklearn import svm\n",
    "from sklearn.model_selection import GridSearchCV"
   ]
  },
  {
   "cell_type": "code",
   "execution_count": 116,
   "id": "e3ca2223-f8bc-4478-8a76-526f149c3895",
   "metadata": {
    "execution": {
     "iopub.execute_input": "2023-03-03T08:31:27.606427Z",
     "iopub.status.busy": "2023-03-03T08:31:27.605004Z",
     "iopub.status.idle": "2023-03-03T08:31:27.611474Z",
     "shell.execute_reply": "2023-03-03T08:31:27.610170Z",
     "shell.execute_reply.started": "2023-03-03T08:31:27.606354Z"
    },
    "scrolled": true,
    "tags": []
   },
   "outputs": [],
   "source": [
    "# 合并多列数据为一个特征向量\n",
    "X = Bot_rows.values"
   ]
  },
  {
   "cell_type": "code",
   "execution_count": 117,
   "id": "ce5a0d3b-88f4-451f-9cb2-fd1667746de1",
   "metadata": {
    "execution": {
     "iopub.execute_input": "2023-03-03T08:31:30.697021Z",
     "iopub.status.busy": "2023-03-03T08:31:30.695725Z",
     "iopub.status.idle": "2023-03-03T08:31:30.702243Z",
     "shell.execute_reply": "2023-03-03T08:31:30.701391Z",
     "shell.execute_reply.started": "2023-03-03T08:31:30.696976Z"
    },
    "scrolled": true,
    "tags": []
   },
   "outputs": [
    {
     "data": {
      "text/plain": [
       "1956"
      ]
     },
     "execution_count": 117,
     "metadata": {},
     "output_type": "execute_result"
    }
   ],
   "source": [
    "len(X)"
   ]
  },
  {
   "cell_type": "code",
   "execution_count": 118,
   "id": "180d75bf-919e-42b1-85bb-911d6da56824",
   "metadata": {
    "execution": {
     "iopub.execute_input": "2023-03-03T08:31:32.683019Z",
     "iopub.status.busy": "2023-03-03T08:31:32.681582Z",
     "iopub.status.idle": "2023-03-03T08:31:32.687704Z",
     "shell.execute_reply": "2023-03-03T08:31:32.686720Z",
     "shell.execute_reply.started": "2023-03-03T08:31:32.682968Z"
    },
    "scrolled": true,
    "tags": []
   },
   "outputs": [],
   "source": [
    "# 定义异常检测器\n",
    "#kernel：核函数（一般使用高斯核）\n",
    "#nu：设定训练误差(0, 1]，表示异常点比例，默认值为0.5\n",
    "#class sklearn.svm.OneClassSVM(kernel=’rbf’, degree=3, gamma=’auto’, coef0=0.0, tol=0.001, nu=0.5, shrinking=True, cache_size=200, verbose=False,max_iter=-1, random_state=None)\n",
    "clf = OneClassSVM(nu=0.1, kernel='linear', gamma=0.1)\n",
    "clf1 = OneClassSVM(nu=0.1, kernel='rbf', gamma=0.1)\n"
   ]
  },
  {
   "cell_type": "code",
   "execution_count": 119,
   "id": "fd0b5289-d8e2-499f-8e3e-ce5be8ae0036",
   "metadata": {
    "execution": {
     "iopub.execute_input": "2023-03-03T08:31:34.440091Z",
     "iopub.status.busy": "2023-03-03T08:31:34.438790Z",
     "iopub.status.idle": "2023-03-03T08:31:34.486018Z",
     "shell.execute_reply": "2023-03-03T08:31:34.484862Z",
     "shell.execute_reply.started": "2023-03-03T08:31:34.440040Z"
    },
    "scrolled": true,
    "tags": []
   },
   "outputs": [
    {
     "data": {
      "text/plain": [
       "OneClassSVM(gamma=0.1, kernel='linear', nu=0.1)"
      ]
     },
     "execution_count": 119,
     "metadata": {},
     "output_type": "execute_result"
    }
   ],
   "source": [
    "# 训练模型\n",
    "clf.fit(X)"
   ]
  },
  {
   "cell_type": "code",
   "execution_count": 120,
   "id": "56692cdd-dd21-45c6-9a8e-3141e4cd0e8d",
   "metadata": {
    "execution": {
     "iopub.execute_input": "2023-03-03T08:31:37.238035Z",
     "iopub.status.busy": "2023-03-03T08:31:37.237360Z",
     "iopub.status.idle": "2023-03-03T08:31:37.585937Z",
     "shell.execute_reply": "2023-03-03T08:31:37.584894Z",
     "shell.execute_reply.started": "2023-03-03T08:31:37.237992Z"
    },
    "scrolled": true
   },
   "outputs": [
    {
     "data": {
      "text/plain": [
       "OneClassSVM(gamma=0.1, nu=0.1)"
      ]
     },
     "execution_count": 120,
     "metadata": {},
     "output_type": "execute_result"
    }
   ],
   "source": [
    "# 训练模型\n",
    "clf1.fit(Bot_rows)"
   ]
  },
  {
   "cell_type": "code",
   "execution_count": 125,
   "id": "1d5aa4d3-d6c3-42bb-b64f-1d1a8355b140",
   "metadata": {
    "execution": {
     "iopub.execute_input": "2023-03-03T08:32:14.518424Z",
     "iopub.status.busy": "2023-03-03T08:32:14.517662Z",
     "iopub.status.idle": "2023-03-03T08:32:14.545201Z",
     "shell.execute_reply": "2023-03-03T08:32:14.544342Z",
     "shell.execute_reply.started": "2023-03-03T08:32:14.518377Z"
    },
    "scrolled": true
   },
   "outputs": [],
   "source": [
    "# 预测数据的标签\n",
    "y_pred_1 = clf.predict(Bot_rows)"
   ]
  },
  {
   "cell_type": "code",
   "execution_count": 128,
   "id": "55623c9f-34f5-4230-8ff5-b3b8813b487b",
   "metadata": {
    "execution": {
     "iopub.execute_input": "2023-03-03T08:36:37.767904Z",
     "iopub.status.busy": "2023-03-03T08:36:37.766137Z",
     "iopub.status.idle": "2023-03-03T08:36:37.778213Z",
     "shell.execute_reply": "2023-03-03T08:36:37.776460Z",
     "shell.execute_reply.started": "2023-03-03T08:36:37.767811Z"
    },
    "scrolled": true
   },
   "outputs": [
    {
     "name": "stdout",
     "output_type": "stream",
     "text": [
      "1 1760\r\n",
      "-1 196\r\n"
     ]
    }
   ],
   "source": [
    "y_pred_1\n",
    "#统计数组分类\n",
    "from collections import Counter\n",
    "counts = Counter(y_pred_1)\n",
    "# 输出每个分类及其对应的数量\n",
    "for Class, count in counts.items():\n",
    "    print(Class, count)  "
   ]
  },
  {
   "cell_type": "code",
   "execution_count": 127,
   "id": "e8005f99-5607-4ee0-b5ab-c248447ca9c9",
   "metadata": {
    "execution": {
     "iopub.execute_input": "2023-03-03T08:32:25.388563Z",
     "iopub.status.busy": "2023-03-03T08:32:25.387598Z",
     "iopub.status.idle": "2023-03-03T08:32:25.394936Z",
     "shell.execute_reply": "2023-03-03T08:32:25.393762Z",
     "shell.execute_reply.started": "2023-03-03T08:32:25.388519Z"
    },
    "scrolled": true
   },
   "outputs": [],
   "source": [
    "# 过滤异常值索引\n",
    "outlier_index = where(y_pred_1 == -1) \n",
    "\n",
    "# 过滤异常值\n",
    "outlier_values = df.iloc[outlier_index]"
   ]
  },
  {
   "cell_type": "code",
   "execution_count": 129,
   "id": "ce80211f-c654-4ebd-a0d1-5b10802de3f0",
   "metadata": {
    "execution": {
     "iopub.execute_input": "2023-03-03T08:39:26.234135Z",
     "iopub.status.busy": "2023-03-03T08:39:26.232870Z",
     "iopub.status.idle": "2023-03-03T08:39:26.621437Z",
     "shell.execute_reply": "2023-03-03T08:39:26.620129Z",
     "shell.execute_reply.started": "2023-03-03T08:39:26.234087Z"
    },
    "scrolled": true
   },
   "outputs": [
    {
     "data": {
      "image/png": "[encoded data removed]",
      "text/plain": [
       "<Figure size 640x480 with 1 Axes>"
      ]
     },
     "metadata": {},
     "output_type": "display_data"
    }
   ],
   "source": [
    "X_svm_1 = Bot_rows.iloc[:, :-1].values\n",
    "Y_svm_1 = Bot_rows.iloc[:, -1].values\n",
    "\n",
    "plt.scatter(X_svm_1[:, 0], X_svm_1[:, 1], c=y_pred_1)\n",
    "plt.title('SVM-Based Outlier Detection')\n",
    "plt.xlabel('Feature 1')\n",
    "plt.ylabel('Feature 2')\n",
    "plt.show()\n"
   ]
  },
  {
   "cell_type": "code",
   "execution_count": 134,
   "id": "e5fc3a27-9d0c-4cd8-95eb-cb1bf1fdeda8",
   "metadata": {
    "execution": {
     "iopub.execute_input": "2023-03-03T08:42:08.403792Z",
     "iopub.status.busy": "2023-03-03T08:42:08.402338Z",
     "iopub.status.idle": "2023-03-03T08:42:08.787054Z",
     "shell.execute_reply": "2023-03-03T08:42:08.785939Z",
     "shell.execute_reply.started": "2023-03-03T08:42:08.403724Z"
    },
    "scrolled": true,
    "tags": []
   },
   "outputs": [
    {
     "data": {
      "image/png": "[encoded data removed]",
      "text/plain": [
       "<Figure size 640x480 with 1 Axes>"
      ]
     },
     "metadata": {},
     "output_type": "display_data"
    }
   ],
   "source": [
    "# 可视化输出\n",
    "plt.scatter(Bot_rows[' Flow Duration'], Bot_rows[' Total Fwd Packets'])\n",
    "plt.scatter(outlier_values[' Flow Duration'], outlier_values[' Total Fwd Packets'], c = \"r\")\n",
    "plt.show\n",
    "plt.savefig('种类数据筛选/SVM_Bot.png')"
   ]
  },
  {
   "cell_type": "code",
   "execution_count": 131,
   "id": "1b01d096-0603-4682-b412-122e7a7343b2",
   "metadata": {
    "execution": {
     "iopub.execute_input": "2023-03-03T08:41:00.495596Z",
     "iopub.status.busy": "2023-03-03T08:41:00.494617Z",
     "iopub.status.idle": "2023-03-03T08:41:00.757371Z",
     "shell.execute_reply": "2023-03-03T08:41:00.756409Z",
     "shell.execute_reply.started": "2023-03-03T08:41:00.495537Z"
    },
    "scrolled": true
   },
   "outputs": [
    {
     "data": {
      "text/plain": [
       "<matplotlib.collections.PathCollection at 0x7f1789fb0ed0>"
      ]
     },
     "execution_count": 131,
     "metadata": {},
     "output_type": "execute_result"
    },
    {
     "data": {
      "image/png": "[encoded data removed]",
      "text/plain": [
       "<Figure size 640x480 with 1 Axes>"
      ]
     },
     "metadata": {},
     "output_type": "display_data"
    }
   ],
   "source": [
    "plt.scatter(outlier_values[' Flow Duration'], outlier_values[' Total Fwd Packets'], c = \"r\")"
   ]
  },
  {
   "cell_type": "code",
   "execution_count": 135,
   "id": "6d25b6f5-0a1c-44ef-b0d7-e48bf27bf6c2",
   "metadata": {
    "execution": {
     "iopub.execute_input": "2023-03-03T08:45:18.553683Z",
     "iopub.status.busy": "2023-03-03T08:45:18.552284Z",
     "iopub.status.idle": "2023-03-03T08:45:18.580071Z",
     "shell.execute_reply": "2023-03-03T08:45:18.578939Z",
     "shell.execute_reply.started": "2023-03-03T08:45:18.553641Z"
    },
    "scrolled": true
   },
   "outputs": [],
   "source": [
    "# 预测数据的标签\n",
    "y_pred = clf.predict(X)"
   ]
  },
  {
   "cell_type": "code",
   "execution_count": 136,
   "id": "a8cbf77d-be99-493a-bd3e-3a4cacbb9e02",
   "metadata": {
    "execution": {
     "iopub.execute_input": "2023-03-03T08:45:20.270054Z",
     "iopub.status.busy": "2023-03-03T08:45:20.267690Z",
     "iopub.status.idle": "2023-03-03T08:45:20.284661Z",
     "shell.execute_reply": "2023-03-03T08:45:20.282366Z",
     "shell.execute_reply.started": "2023-03-03T08:45:20.269932Z"
    },
    "scrolled": true
   },
   "outputs": [
    {
     "name": "stdout",
     "output_type": "stream",
     "text": [
      "1 1760\r\n",
      "-1 196\r\n"
     ]
    }
   ],
   "source": [
    "y_pred\n",
    "#统计数组分类\n",
    "from collections import Counter\n",
    "counts = Counter(y_pred)\n",
    "# 输出每个分类及其对应的数量\n",
    "for Class, count in counts.items():\n",
    "    print(Class, count)  "
   ]
  },
  {
   "cell_type": "code",
   "execution_count": 141,
   "id": "a25bf4c9-0a26-4837-a201-bb673d397cb4",
   "metadata": {
    "execution": {
     "iopub.execute_input": "2023-03-03T08:45:43.835370Z",
     "iopub.status.busy": "2023-03-03T08:45:43.834436Z",
     "iopub.status.idle": "2023-03-03T08:45:44.078085Z",
     "shell.execute_reply": "2023-03-03T08:45:44.077029Z",
     "shell.execute_reply.started": "2023-03-03T08:45:43.835322Z"
    },
    "scrolled": true,
    "tags": []
   },
   "outputs": [
    {
     "data": {
      "text/plain": [
       "[<matplotlib.lines.Line2D at 0x7f177ac39e50>]"
      ]
     },
     "execution_count": 141,
     "metadata": {},
     "output_type": "execute_result"
    },
    {
     "data": {
      "image/png": "[encoded data removed]",
      "text/plain": [
       "<Figure size 640x480 with 1 Axes>"
      ]
     },
     "metadata": {},
     "output_type": "display_data"
    }
   ],
   "source": [
    "# inliers are labeled 1 , outliers are labeled -1\n",
    "normal = X[y_pred == 1]\n",
    "abnormal = X[y_pred == -1]\n",
    "\n",
    "plt.plot(abnormal[:, 0], abnormal[:, 1], 'ro')\n",
    "plt.plot(normal[:, 0], normal[:, 1], 'bx')\n"
   ]
  },
  {
   "cell_type": "code",
   "execution_count": 138,
   "id": "8de48e9b-8df5-4326-b187-dc895b221d23",
   "metadata": {
    "execution": {
     "iopub.execute_input": "2023-03-03T08:45:24.761992Z",
     "iopub.status.busy": "2023-03-03T08:45:24.761227Z",
     "iopub.status.idle": "2023-03-03T08:45:25.029180Z",
     "shell.execute_reply": "2023-03-03T08:45:25.028069Z",
     "shell.execute_reply.started": "2023-03-03T08:45:24.761933Z"
    },
    "scrolled": true
   },
   "outputs": [
    {
     "data": {
      "text/plain": [
       "[<matplotlib.lines.Line2D at 0x7f177aafa6d0>]"
      ]
     },
     "execution_count": 138,
     "metadata": {},
     "output_type": "execute_result"
    },
    {
     "data": {
      "image/png": "[encoded data removed]",
      "text/plain": [
       "<Figure size 640x480 with 1 Axes>"
      ]
     },
     "metadata": {},
     "output_type": "display_data"
    }
   ],
   "source": [
    "plt.plot(abnormal[:, 0], abnormal[:, 1], 'ro')"
   ]
  },
  {
   "cell_type": "code",
   "execution_count": 142,
   "id": "f6479f2f-7cf6-4916-b882-7dce9c868f89",
   "metadata": {
    "execution": {
     "iopub.execute_input": "2023-03-03T08:45:54.205724Z",
     "iopub.status.busy": "2023-03-03T08:45:54.205055Z",
     "iopub.status.idle": "2023-03-03T08:45:54.212625Z",
     "shell.execute_reply": "2023-03-03T08:45:54.211455Z",
     "shell.execute_reply.started": "2023-03-03T08:45:54.205685Z"
    },
    "scrolled": true
   },
   "outputs": [],
   "source": [
    "#直接生成数据\n",
    "Bot_rows_clean_svm = Bot_rows[y_pred == 1] "
   ]
  },
  {
   "cell_type": "code",
   "execution_count": 143,
   "id": "496512dc-1f8a-46c8-ae2e-99cde50a6f30",
   "metadata": {
    "execution": {
     "iopub.execute_input": "2023-03-03T08:45:56.230545Z",
     "iopub.status.busy": "2023-03-03T08:45:56.229190Z",
     "iopub.status.idle": "2023-03-03T08:45:56.235537Z",
     "shell.execute_reply": "2023-03-03T08:45:56.234732Z",
     "shell.execute_reply.started": "2023-03-03T08:45:56.230499Z"
    },
    "scrolled": true,
    "tags": []
   },
   "outputs": [
    {
     "data": {
      "text/plain": [
       "(1760, 79)"
      ]
     },
     "execution_count": 143,
     "metadata": {},
     "output_type": "execute_result"
    }
   ],
   "source": [
    "Bot_rows_clean_svm.shape"
   ]
  },
  {
   "cell_type": "code",
   "execution_count": 144,
   "id": "ca13bc51-d9a2-48f1-89ab-6fc6f1cccf7a",
   "metadata": {
    "execution": {
     "iopub.execute_input": "2023-03-03T08:45:58.982895Z",
     "iopub.status.busy": "2023-03-03T08:45:58.981479Z",
     "iopub.status.idle": "2023-03-03T08:45:58.990492Z",
     "shell.execute_reply": "2023-03-03T08:45:58.989179Z",
     "shell.execute_reply.started": "2023-03-03T08:45:58.982841Z"
    },
    "scrolled": true,
    "tags": []
   },
   "outputs": [
    {
     "name": "stdout",
     "output_type": "stream",
     "text": [
      "[ 1 -1]\r\n"
     ]
    }
   ],
   "source": [
    "# 查看数据种类\n",
    "ydata1_1 = pd.DataFrame(y_pred)\n",
    "print(ydata1_1[0].unique())"
   ]
  },
  {
   "cell_type": "code",
   "execution_count": 145,
   "id": "a302fa41-1fbf-416f-a517-0520ce16a4d2",
   "metadata": {
    "execution": {
     "iopub.execute_input": "2023-03-03T08:46:01.400794Z",
     "iopub.status.busy": "2023-03-03T08:46:01.400098Z",
     "iopub.status.idle": "2023-03-03T08:46:01.411357Z",
     "shell.execute_reply": "2023-03-03T08:46:01.410014Z",
     "shell.execute_reply.started": "2023-03-03T08:46:01.400754Z"
    },
    "scrolled": true
   },
   "outputs": [
    {
     "name": "stdout",
     "output_type": "stream",
     "text": [
      "原始数据集大小： 1956\r\n",
      "异常数据数量： 196\r\n",
      "处理后数据集大小： (1760, 79)\r\n"
     ]
    }
   ],
   "source": [
    "# 删除异常值\n",
    "Bot_rows_11 = Bot_rows.iloc[y_pred == 1, :]\n",
    "\n",
    "# 打印结果\n",
    "print(\"原始数据集大小：\", len(y_pred))\n",
    "print(\"异常数据数量：\", len(y_pred[y_pred == -1]))\n",
    "print(\"处理后数据集大小：\", Bot_rows_11.shape)"
   ]
  },
  {
   "cell_type": "code",
   "execution_count": null,
   "id": "17d00908-5563-4507-91ae-9cc8b2053837",
   "metadata": {
    "execution": {
     "iopub.status.busy": "2023-03-03T01:15:16.940052Z",
     "iopub.status.idle": "2023-03-03T01:15:16.940384Z",
     "shell.execute_reply": "2023-03-03T01:15:16.940225Z",
     "shell.execute_reply.started": "2023-03-03T01:15:16.940211Z"
    },
    "scrolled": true
   },
   "outputs": [],
   "source": [
    "counts = Bot_rows_11.groupby(' Label').size()\n",
    "counts"
   ]
  },
  {
   "cell_type": "code",
   "execution_count": null,
   "id": "8c7bac33-3c2f-4fe5-884f-acac8d1f45f2",
   "metadata": {
    "execution": {
     "iopub.status.busy": "2023-03-03T01:15:16.941468Z",
     "iopub.status.idle": "2023-03-03T01:15:16.941787Z",
     "shell.execute_reply": "2023-03-03T01:15:16.941649Z",
     "shell.execute_reply.started": "2023-03-03T01:15:16.941636Z"
    },
    "scrolled": true,
    "tags": []
   },
   "outputs": [],
   "source": [
    "########################################## 网络搜索\n",
    "# 指定列名称和目标字符串\n",
    "column_name = ' Label'\n",
    "#Bot_string = 'Bot'\n",
    "# 选出包含目标字符串的所有行\n",
    "#Bot_rows = df[df[column_name].str.contains(Bot_string)]\n",
    "Bot_rows = df[df.iloc[:, -1].astype(str).str.contains('14')]"
   ]
  },
  {
   "cell_type": "markdown",
   "id": "06a75b59-4275-447a-b279-bb37013f35c8",
   "metadata": {},
   "source": [
    "**SSH-Patator**"
   ]
  },
  {
   "cell_type": "code",
   "execution_count": null,
   "id": "0a4b210d-3298-4426-abce-ccc5436e143e",
   "metadata": {
    "execution": {
     "iopub.status.busy": "2023-03-03T01:15:16.944180Z",
     "iopub.status.idle": "2023-03-03T01:15:16.944521Z",
     "shell.execute_reply": "2023-03-03T01:15:16.944360Z",
     "shell.execute_reply.started": "2023-03-03T01:15:16.944346Z"
    },
    "scrolled": true
   },
   "outputs": [],
   "source": [
    "# 指定列名称和目标字符串\n",
    "column_name = ' Label'\n",
    "#Bot_string = 'Bot'\n",
    "# 选出包含目标字符串的所有行\n",
    "#Bot_rows = df[df[column_name].str.contains(Bot_string)]\n",
    "SSH_Patator_rows = df[df.iloc[:, -1].astype(str).str.contains('9')]"
   ]
  },
  {
   "cell_type": "code",
   "execution_count": null,
   "id": "81e07d83-bab4-45ec-a31e-5c5e3c678ef3",
   "metadata": {
    "execution": {
     "iopub.status.busy": "2023-03-03T01:15:16.945228Z",
     "iopub.status.idle": "2023-03-03T01:15:16.945597Z",
     "shell.execute_reply": "2023-03-03T01:15:16.945399Z",
     "shell.execute_reply.started": "2023-03-03T01:15:16.945386Z"
    },
    "scrolled": true,
    "tags": []
   },
   "outputs": [],
   "source": [
    "SSH_Patator_rows.shape"
   ]
  },
  {
   "cell_type": "markdown",
   "id": "4d92c9b8-89b5-4e3c-8485-da68a4d8ada9",
   "metadata": {},
   "source": [
    "随机抽"
   ]
  },
  {
   "cell_type": "code",
   "execution_count": 10,
   "id": "4ce2e3c0-ea78-4bb6-b4cd-4e000cd7ae33",
   "metadata": {
    "execution": {
     "iopub.execute_input": "2023-03-03T01:16:18.654545Z",
     "iopub.status.busy": "2023-03-03T01:16:18.653902Z",
     "iopub.status.idle": "2023-03-03T01:16:20.126804Z",
     "shell.execute_reply": "2023-03-03T01:16:20.125481Z",
     "shell.execute_reply.started": "2023-03-03T01:16:18.654504Z"
    },
    "scrolled": true,
    "tags": []
   },
   "outputs": [],
   "source": [
    "df_sample = df.sample(n=100)"
   ]
  },
  {
   "cell_type": "code",
   "execution_count": 11,
   "id": "8491d846-70e4-41e0-a09b-a655917a8a12",
   "metadata": {
    "execution": {
     "iopub.execute_input": "2023-03-03T01:16:21.814687Z",
     "iopub.status.busy": "2023-03-03T01:16:21.813858Z",
     "iopub.status.idle": "2023-03-03T01:16:21.822131Z",
     "shell.execute_reply": "2023-03-03T01:16:21.821183Z",
     "shell.execute_reply.started": "2023-03-03T01:16:21.814611Z"
    },
    "scrolled": true
   },
   "outputs": [],
   "source": [
    "X_svm = df_sample.loc[:,df.columns != \" Label\"]\n",
    "Y_svm = df_sample.loc[:,df.columns == \" Label\"]"
   ]
  },
  {
   "cell_type": "code",
   "execution_count": 12,
   "id": "bdcbba56-e3a7-4e45-b4ec-17bef6192095",
   "metadata": {
    "execution": {
     "iopub.execute_input": "2023-03-03T01:16:24.544892Z",
     "iopub.status.busy": "2023-03-03T01:16:24.544172Z",
     "iopub.status.idle": "2023-03-03T01:18:12.433662Z",
     "shell.execute_reply": "2023-03-03T01:18:12.432725Z",
     "shell.execute_reply.started": "2023-03-03T01:16:24.544851Z"
    },
    "scrolled": true,
    "tags": []
   },
   "outputs": [
    {
     "name": "stderr",
     "output_type": "stream",
     "text": [
      "    scores = scorer(estimator, X_test, y_test)\r\n",
      "  File \"/opt/conda/envs/python35-paddle120-env/lib/python3.7/site-packages/sklearn/metrics/_scorer.py\", line 200, in __call__\r\n",
      "    sample_weight=sample_weight)\r\n",
      "  File \"/opt/conda/envs/python35-paddle120-env/lib/python3.7/site-packages/sklearn/metrics/_scorer.py\", line 243, in _score\r\n",
      "    **self._kwargs)\r\n",
      "  File \"/opt/conda/envs/python35-paddle120-env/lib/python3.7/site-packages/sklearn/utils/validation.py\", line 63, in inner_f\r\n",
      "    return f(*args, **kwargs)\r\n",
      "  File \"/opt/conda/envs/python35-paddle120-env/lib/python3.7/site-packages/sklearn/metrics/_classification.py\", line 1074, in f1_score\r\n",
      "    zero_division=zero_division)\r\n",
      "  File \"/opt/conda/envs/python35-paddle120-env/lib/python3.7/site-packages/sklearn/utils/validation.py\", line 63, in inner_f\r\n",
      "    return f(*args, **kwargs)\r\n",
      "  File \"/opt/conda/envs/python35-paddle120-env/lib/python3.7/site-packages/sklearn/metrics/_classification.py\", line 1202, in fbeta_score\r\n",
      "    zero_division=zero_division)\r\n",
      "  File \"/opt/conda/envs/python35-paddle120-env/lib/python3.7/site-packages/sklearn/utils/validation.py\", line 63, in inner_f\r\n",
      "    return f(*args, **kwargs)\r\n",
      "  File \"/opt/conda/envs/python35-paddle120-env/lib/python3.7/site-packages/sklearn/metrics/_classification.py\", line 1465, in precision_recall_fscore_support\r\n",
      "    pos_label)\r\n",
      "  File \"/opt/conda/envs/python35-paddle120-env/lib/python3.7/site-packages/sklearn/metrics/_classification.py\", line 1296, in _check_set_wise_labels\r\n",
      "    % (y_type, average_options))\r\n",
      "ValueError: Target is multiclass but average='binary'. Please choose another average setting, one of [None, 'micro', 'macro', 'weighted'].\r\n",
      "\r\n",
      "  UserWarning,\r\n",
      "/opt/conda/envs/python35-paddle120-env/lib/python3.7/site-packages/sklearn/utils/validation.py:63: DataConversionWarning: A column-vector y was passed when a 1d array was expected. Please change the shape of y to (n_samples, ), for example using ravel().\r\n",
      "  return f(*args, **kwargs)\r\n",
      "/opt/conda/envs/python35-paddle120-env/lib/python3.7/site-packages/sklearn/model_selection/_validation.py:700: UserWarning: Scoring failed. The score on this train-test partition for these parameters will be set to nan. Details: \r\n",
      "Traceback (most recent call last):\r\n",
      "  File \"/opt/conda/envs/python35-paddle120-env/lib/python3.7/site-packages/sklearn/model_selection/_validation.py\", line 687, in _score\r\n",
      "    scores = scorer(estimator, X_test, y_test)\r\n",
      "  File \"/opt/conda/envs/python35-paddle120-env/lib/python3.7/site-packages/sklearn/metrics/_scorer.py\", line 200, in __call__\r\n",
      "    sample_weight=sample_weight)\r\n",
      "  File \"/opt/conda/envs/python35-paddle120-env/lib/python3.7/site-packages/sklearn/metrics/_scorer.py\", line 243, in _score\r\n",
      "    **self._kwargs)\r\n",
      "  File \"/opt/conda/envs/python35-paddle120-env/lib/python3.7/site-packages/sklearn/utils/validation.py\", line 63, in inner_f\r\n",
      "    return f(*args, **kwargs)\r\n",
      "  File \"/opt/conda/envs/python35-paddle120-env/lib/python3.7/site-packages/sklearn/metrics/_classification.py\", line 1074, in f1_score\r\n",
      "    zero_division=zero_division)\r\n",
      "  File \"/opt/conda/envs/python35-paddle120-env/lib/python3.7/site-packages/sklearn/utils/validation.py\", line 63, in inner_f\r\n",
      "    return f(*args, **kwargs)\r\n",
      "  File \"/opt/conda/envs/python35-paddle120-env/lib/python3.7/site-packages/sklearn/metrics/_classification.py\", line 1202, in fbeta_score\r\n",
      "    zero_division=zero_division)\r\n",
      "  File \"/opt/conda/envs/python35-paddle120-env/lib/python3.7/site-packages/sklearn/utils/validation.py\", line 63, in inner_f\r\n",
      "    return f(*args, **kwargs)\r\n",
      "  File \"/opt/conda/envs/python35-paddle120-env/lib/python3.7/site-packages/sklearn/metrics/_classification.py\", line 1465, in precision_recall_fscore_support\r\n",
      "    pos_label)\r\n",
      "  File \"/opt/conda/envs/python35-paddle120-env/lib/python3.7/site-packages/sklearn/metrics/_classification.py\", line 1296, in _check_set_wise_labels\r\n",
      "    % (y_type, average_options))\r\n",
      "ValueError: Target is multiclass but average='binary'. Please choose another average setting, one of [None, 'micro', 'macro', 'weighted'].\r\n",
      "\r\n",
      "  UserWarning,\r\n",
      "/opt/conda/envs/python35-paddle120-env/lib/python3.7/site-packages/sklearn/utils/validation.py:63: DataConversionWarning: A column-vector y was passed when a 1d array was expected. Please change the shape of y to (n_samples, ), for example using ravel().\r\n",
      "  return f(*args, **kwargs)\r\n",
      "/opt/conda/envs/python35-paddle120-env/lib/python3.7/site-packages/sklearn/model_selection/_validation.py:700: UserWarning: Scoring failed. The score on this train-test partition for these parameters will be set to nan. Details: \r\n",
      "Traceback (most recent call last):\r\n",
      "  File \"/opt/conda/envs/python35-paddle120-env/lib/python3.7/site-packages/sklearn/model_selection/_validation.py\", line 687, in _score\r\n",
      "    scores = scorer(estimator, X_test, y_test)\r\n",
      "  File \"/opt/conda/envs/python35-paddle120-env/lib/python3.7/site-packages/sklearn/metrics/_scorer.py\", line 200, in __call__\r\n",
      "    sample_weight=sample_weight)\r\n",
      "  File \"/opt/conda/envs/python35-paddle120-env/lib/python3.7/site-packages/sklearn/metrics/_scorer.py\", line 243, in _score\r\n",
      "    **self._kwargs)\r\n",
      "  File \"/opt/conda/envs/python35-paddle120-env/lib/python3.7/site-packages/sklearn/utils/validation.py\", line 63, in inner_f\r\n",
      "    return f(*args, **kwargs)\r\n",
      "  File \"/opt/conda/envs/python35-paddle120-env/lib/python3.7/site-packages/sklearn/metrics/_classification.py\", line 1074, in f1_score\r\n",
      "    zero_division=zero_division)\r\n",
      "  File \"/opt/conda/envs/python35-paddle120-env/lib/python3.7/site-packages/sklearn/utils/validation.py\", line 63, in inner_f\r\n",
      "    return f(*args, **kwargs)\r\n",
      "  File \"/opt/conda/envs/python35-paddle120-env/lib/python3.7/site-packages/sklearn/metrics/_classification.py\", line 1202, in fbeta_score\r\n",
      "    zero_division=zero_division)\r\n",
      "  File \"/opt/conda/envs/python35-paddle120-env/lib/python3.7/site-packages/sklearn/utils/validation.py\", line 63, in inner_f\r\n",
      "    return f(*args, **kwargs)\r\n",
      "  File \"/opt/conda/envs/python35-paddle120-env/lib/python3.7/site-packages/sklearn/metrics/_classification.py\", line 1465, in precision_recall_fscore_support\r\n",
      "    pos_label)\r\n",
      "  File \"/opt/conda/envs/python35-paddle120-env/lib/python3.7/site-packages/sklearn/metrics/_classification.py\", line 1296, in _check_set_wise_labels\r\n",
      "    % (y_type, average_options))\r\n",
      "ValueError: Target is multiclass but average='binary'. Please choose another average setting, one of [None, 'micro', 'macro', 'weighted'].\r\n",
      "\r\n",
      "  UserWarning,\r\n",
      "/opt/conda/envs/python35-paddle120-env/lib/python3.7/site-packages/sklearn/utils/validation.py:63: DataConversionWarning: A column-vector y was passed when a 1d array was expected. Please change the shape of y to (n_samples, ), for example using ravel().\r\n",
      "  return f(*args, **kwargs)\r\n",
      "/opt/conda/envs/python35-paddle120-env/lib/python3.7/site-packages/sklearn/model_selection/_validation.py:700: UserWarning: Scoring failed. The score on this train-test partition for these parameters will be set to nan. Details: \r\n",
      "Traceback (most recent call last):\r\n",
      "  File \"/opt/conda/envs/python35-paddle120-env/lib/python3.7/site-packages/sklearn/model_selection/_validation.py\", line 687, in _score\r\n",
      "    scores = scorer(estimator, X_test, y_test)\r\n",
      "  File \"/opt/conda/envs/python35-paddle120-env/lib/python3.7/site-packages/sklearn/metrics/_scorer.py\", line 200, in __call__\r\n",
      "    sample_weight=sample_weight)\r\n",
      "  File \"/opt/conda/envs/python35-paddle120-env/lib/python3.7/site-packages/sklearn/metrics/_scorer.py\", line 243, in _score\r\n",
      "    **self._kwargs)\r\n",
      "  File \"/opt/conda/envs/python35-paddle120-env/lib/python3.7/site-packages/sklearn/utils/validation.py\", line 63, in inner_f\r\n",
      "    return f(*args, **kwargs)\r\n",
      "  File \"/opt/conda/envs/python35-paddle120-env/lib/python3.7/site-packages/sklearn/metrics/_classification.py\", line 1074, in f1_score\r\n",
      "    zero_division=zero_division)\r\n",
      "  File \"/opt/conda/envs/python35-paddle120-env/lib/python3.7/site-packages/sklearn/utils/validation.py\", line 63, in inner_f\r\n",
      "    return f(*args, **kwargs)\r\n",
      "  File \"/opt/conda/envs/python35-paddle120-env/lib/python3.7/site-packages/sklearn/metrics/_classification.py\", line 1202, in fbeta_score\r\n",
      "    zero_division=zero_division)\r\n",
      "  File \"/opt/conda/envs/python35-paddle120-env/lib/python3.7/site-packages/sklearn/utils/validation.py\", line 63, in inner_f\r\n",
      "    return f(*args, **kwargs)\r\n",
      "  File \"/opt/conda/envs/python35-paddle120-env/lib/python3.7/site-packages/sklearn/metrics/_classification.py\", line 1465, in precision_recall_fscore_support\r\n",
      "    pos_label)\r\n",
      "  File \"/opt/conda/envs/python35-paddle120-env/lib/python3.7/site-packages/sklearn/metrics/_classification.py\", line 1296, in _check_set_wise_labels\r\n",
      "    % (y_type, average_options))\r\n",
      "ValueError: Target is multiclass but average='binary'. Please choose another average setting, one of [None, 'micro', 'macro', 'weighted'].\r\n",
      "\r\n",
      "  UserWarning,\r\n",
      "/opt/conda/envs/python35-paddle120-env/lib/python3.7/site-packages/sklearn/utils/validation.py:63: DataConversionWarning: A column-vector y was passed when a 1d array was expected. Please change the shape of y to (n_samples, ), for example using ravel().\r\n",
      "  return f(*args, **kwargs)\r\n",
      "/opt/conda/envs/python35-paddle120-env/lib/python3.7/site-packages/sklearn/model_selection/_validation.py:700: UserWarning: Scoring failed. The score on this train-test partition for these parameters will be set to nan. Details: \r\n",
      "Traceback (most recent call last):\r\n",
      "  File \"/opt/conda/envs/python35-paddle120-env/lib/python3.7/site-packages/sklearn/model_selection/_validation.py\", line 687, in _score\r\n",
      "    scores = scorer(estimator, X_test, y_test)\r\n",
      "  File \"/opt/conda/envs/python35-paddle120-env/lib/python3.7/site-packages/sklearn/metrics/_scorer.py\", line 200, in __call__\r\n",
      "    sample_weight=sample_weight)\r\n",
      "  File \"/opt/conda/envs/python35-paddle120-env/lib/python3.7/site-packages/sklearn/metrics/_scorer.py\", line 243, in _score\r\n",
      "    **self._kwargs)\r\n",
      "  File \"/opt/conda/envs/python35-paddle120-env/lib/python3.7/site-packages/sklearn/utils/validation.py\", line 63, in inner_f\r\n",
      "    return f(*args, **kwargs)\r\n",
      "  File \"/opt/conda/envs/python35-paddle120-env/lib/python3.7/site-packages/sklearn/metrics/_classification.py\", line 1074, in f1_score\r\n",
      "    zero_division=zero_division)\r\n",
      "  File \"/opt/conda/envs/python35-paddle120-env/lib/python3.7/site-packages/sklearn/utils/validation.py\", line 63, in inner_f\r\n",
      "    return f(*args, **kwargs)\r\n",
      "  File \"/opt/conda/envs/python35-paddle120-env/lib/python3.7/site-packages/sklearn/metrics/_classification.py\", line 1202, in fbeta_score\r\n",
      "    zero_division=zero_division)\r\n",
      "  File \"/opt/conda/envs/python35-paddle120-env/lib/python3.7/site-packages/sklearn/utils/validation.py\", line 63, in inner_f\r\n",
      "    return f(*args, **kwargs)\r\n",
      "  File \"/opt/conda/envs/python35-paddle120-env/lib/python3.7/site-packages/sklearn/metrics/_classification.py\", line 1465, in precision_recall_fscore_support\r\n",
      "    pos_label)\r\n",
      "  File \"/opt/conda/envs/python35-paddle120-env/lib/python3.7/site-packages/sklearn/metrics/_classification.py\", line 1296, in _check_set_wise_labels\r\n",
      "    % (y_type, average_options))\r\n",
      "ValueError: Target is multiclass but average='binary'. Please choose another average setting, one of [None, 'micro', 'macro', 'weighted'].\r\n",
      "\r\n",
      "  UserWarning,\r\n",
      "/opt/conda/envs/python35-paddle120-env/lib/python3.7/site-packages/sklearn/utils/validation.py:63: DataConversionWarning: A column-vector y was passed when a 1d array was expected. Please change the shape of y to (n_samples, ), for example using ravel().\r\n",
      "  return f(*args, **kwargs)\r\n",
      "/opt/conda/envs/python35-paddle120-env/lib/python3.7/site-packages/sklearn/model_selection/_validation.py:700: UserWarning: Scoring failed. The score on this train-test partition for these parameters will be set to nan. Details: \r\n",
      "Traceback (most recent call last):\r\n",
      "  File \"/opt/conda/envs/python35-paddle120-env/lib/python3.7/site-packages/sklearn/model_selection/_validation.py\", line 687, in _score\r\n",
      "    scores = scorer(estimator, X_test, y_test)\r\n",
      "  File \"/opt/conda/envs/python35-paddle120-env/lib/python3.7/site-packages/sklearn/metrics/_scorer.py\", line 200, in __call__\r\n",
      "    sample_weight=sample_weight)\r\n",
      "  File \"/opt/conda/envs/python35-paddle120-env/lib/python3.7/site-packages/sklearn/metrics/_scorer.py\", line 243, in _score\r\n",
      "    **self._kwargs)\r\n",
      "  File \"/opt/conda/envs/python35-paddle120-env/lib/python3.7/site-packages/sklearn/utils/validation.py\", line 63, in inner_f\r\n",
      "    return f(*args, **kwargs)\r\n",
      "  File \"/opt/conda/envs/python35-paddle120-env/lib/python3.7/site-packages/sklearn/metrics/_classification.py\", line 1074, in f1_score\r\n",
      "    zero_division=zero_division)\r\n",
      "  File \"/opt/conda/envs/python35-paddle120-env/lib/python3.7/site-packages/sklearn/utils/validation.py\", line 63, in inner_f\r\n",
      "    return f(*args, **kwargs)\r\n",
      "  File \"/opt/conda/envs/python35-paddle120-env/lib/python3.7/site-packages/sklearn/metrics/_classification.py\", line 1202, in fbeta_score\r\n",
      "    zero_division=zero_division)\r\n",
      "  File \"/opt/conda/envs/python35-paddle120-env/lib/python3.7/site-packages/sklearn/utils/validation.py\", line 63, in inner_f\r\n",
      "    return f(*args, **kwargs)\r\n",
      "  File \"/opt/conda/envs/python35-paddle120-env/lib/python3.7/site-packages/sklearn/metrics/_classification.py\", line 1465, in precision_recall_fscore_support\r\n",
      "    pos_label)\r\n",
      "  File \"/opt/conda/envs/python35-paddle120-env/lib/python3.7/site-packages/sklearn/metrics/_classification.py\", line 1296, in _check_set_wise_labels\r\n",
      "    % (y_type, average_options))\r\n",
      "ValueError: Target is multiclass but average='binary'. Please choose another average setting, one of [None, 'micro', 'macro', 'weighted'].\r\n",
      "\r\n",
      "  UserWarning,\r\n",
      "/opt/conda/envs/python35-paddle120-env/lib/python3.7/site-packages/sklearn/utils/validation.py:63: DataConversionWarning: A column-vector y was passed when a 1d array was expected. Please change the shape of y to (n_samples, ), for example using ravel().\r\n",
      "  return f(*args, **kwargs)\r\n",
      "/opt/conda/envs/python35-paddle120-env/lib/python3.7/site-packages/sklearn/model_selection/_validation.py:700: UserWarning: Scoring failed. The score on this train-test partition for these parameters will be set to nan. Details: \r\n",
      "Traceback (most recent call last):\r\n",
      "  File \"/opt/conda/envs/python35-paddle120-env/lib/python3.7/site-packages/sklearn/model_selection/_validation.py\", line 687, in _score\r\n",
      "    scores = scorer(estimator, X_test, y_test)\r\n",
      "  File \"/opt/conda/envs/python35-paddle120-env/lib/python3.7/site-packages/sklearn/metrics/_scorer.py\", line 200, in __call__\r\n",
      "    sample_weight=sample_weight)\r\n",
      "  File \"/opt/conda/envs/python35-paddle120-env/lib/python3.7/site-packages/sklearn/metrics/_scorer.py\", line 243, in _score\r\n",
      "    **self._kwargs)\r\n",
      "  File \"/opt/conda/envs/python35-paddle120-env/lib/python3.7/site-packages/sklearn/utils/validation.py\", line 63, in inner_f\r\n",
      "    return f(*args, **kwargs)\r\n",
      "  File \"/opt/conda/envs/python35-paddle120-env/lib/python3.7/site-packages/sklearn/metrics/_classification.py\", line 1074, in f1_score\r\n",
      "    zero_division=zero_division)\r\n",
      "  File \"/opt/conda/envs/python35-paddle120-env/lib/python3.7/site-packages/sklearn/utils/validation.py\", line 63, in inner_f\r\n",
      "    return f(*args, **kwargs)\r\n",
      "  File \"/opt/conda/envs/python35-paddle120-env/lib/python3.7/site-packages/sklearn/metrics/_classification.py\", line 1202, in fbeta_score\r\n",
      "    zero_division=zero_division)\r\n",
      "  File \"/opt/conda/envs/python35-paddle120-env/lib/python3.7/site-packages/sklearn/utils/validation.py\", line 63, in inner_f\r\n",
      "    return f(*args, **kwargs)\r\n",
      "  File \"/opt/conda/envs/python35-paddle120-env/lib/python3.7/site-packages/sklearn/metrics/_classification.py\", line 1465, in precision_recall_fscore_support\r\n",
      "    pos_label)\r\n",
      "  File \"/opt/conda/envs/python35-paddle120-env/lib/python3.7/site-packages/sklearn/metrics/_classification.py\", line 1296, in _check_set_wise_labels\r\n",
      "    % (y_type, average_options))\r\n",
      "ValueError: Target is multiclass but average='binary'. Please choose another average setting, one of [None, 'micro', 'macro', 'weighted'].\r\n",
      "\r\n",
      "  UserWarning,\r\n",
      "/opt/conda/envs/python35-paddle120-env/lib/python3.7/site-packages/sklearn/utils/validation.py:63: DataConversionWarning: A column-vector y was passed when a 1d array was expected. Please change the shape of y to (n_samples, ), for example using ravel().\r\n",
      "  return f(*args, **kwargs)\r\n",
      "/opt/conda/envs/python35-paddle120-env/lib/python3.7/site-packages/sklearn/model_selection/_validation.py:700: UserWarning: Scoring failed. The score on this train-test partition for these parameters will be set to nan. Details: \r\n",
      "Traceback (most recent call last):\r\n",
      "  File \"/opt/conda/envs/python35-paddle120-env/lib/python3.7/site-packages/sklearn/model_selection/_validation.py\", line 687, in _score\r\n",
      "    scores = scorer(estimator, X_test, y_test)\r\n",
      "  File \"/opt/conda/envs/python35-paddle120-env/lib/python3.7/site-packages/sklearn/metrics/_scorer.py\", line 200, in __call__\r\n",
      "    sample_weight=sample_weight)\r\n",
      "  File \"/opt/conda/envs/python35-paddle120-env/lib/python3.7/site-packages/sklearn/metrics/_scorer.py\", line 243, in _score\r\n",
      "    **self._kwargs)\r\n",
      "  File \"/opt/conda/envs/python35-paddle120-env/lib/python3.7/site-packages/sklearn/utils/validation.py\", line 63, in inner_f\r\n",
      "    return f(*args, **kwargs)\r\n",
      "  File \"/opt/conda/envs/python35-paddle120-env/lib/python3.7/site-packages/sklearn/metrics/_classification.py\", line 1074, in f1_score\r\n",
      "    zero_division=zero_division)\r\n",
      "  File \"/opt/conda/envs/python35-paddle120-env/lib/python3.7/site-packages/sklearn/utils/validation.py\", line 63, in inner_f\r\n",
      "    return f(*args, **kwargs)\r\n",
      "  File \"/opt/conda/envs/python35-paddle120-env/lib/python3.7/site-packages/sklearn/metrics/_classification.py\", line 1202, in fbeta_score\r\n",
      "    zero_division=zero_division)\r\n",
      "  File \"/opt/conda/envs/python35-paddle120-env/lib/python3.7/site-packages/sklearn/utils/validation.py\", line 63, in inner_f\r\n",
      "    return f(*args, **kwargs)\r\n",
      "  File \"/opt/conda/envs/python35-paddle120-env/lib/python3.7/site-packages/sklearn/metrics/_classification.py\", line 1465, in precision_recall_fscore_support\r\n",
      "    pos_label)\r\n",
      "  File \"/opt/conda/envs/python35-paddle120-env/lib/python3.7/site-packages/sklearn/metrics/_classification.py\", line 1296, in _check_set_wise_labels\r\n",
      "    % (y_type, average_options))\r\n",
      "ValueError: Target is multiclass but average='binary'. Please choose another average setting, one of [None, 'micro', 'macro', 'weighted'].\r\n",
      "\r\n",
      "  UserWarning,\r\n",
      "/opt/conda/envs/python35-paddle120-env/lib/python3.7/site-packages/sklearn/utils/validation.py:63: DataConversionWarning: A column-vector y was passed when a 1d array was expected. Please change the shape of y to (n_samples, ), for example using ravel().\r\n",
      "  return f(*args, **kwargs)\r\n",
      "/opt/conda/envs/python35-paddle120-env/lib/python3.7/site-packages/sklearn/model_selection/_validation.py:700: UserWarning: Scoring failed. The score on this train-test partition for these parameters will be set to nan. Details: \r\n",
      "Traceback (most recent call last):\r\n",
      "  File \"/opt/conda/envs/python35-paddle120-env/lib/python3.7/site-packages/sklearn/model_selection/_validation.py\", line 687, in _score\r\n",
      "    scores = scorer(estimator, X_test, y_test)\r\n",
      "  File \"/opt/conda/envs/python35-paddle120-env/lib/python3.7/site-packages/sklearn/metrics/_scorer.py\", line 200, in __call__\r\n",
      "    sample_weight=sample_weight)\r\n",
      "  File \"/opt/conda/envs/python35-paddle120-env/lib/python3.7/site-packages/sklearn/metrics/_scorer.py\", line 243, in _score\r\n",
      "    **self._kwargs)\r\n",
      "  File \"/opt/conda/envs/python35-paddle120-env/lib/python3.7/site-packages/sklearn/utils/validation.py\", line 63, in inner_f\r\n",
      "    return f(*args, **kwargs)\r\n",
      "  File \"/opt/conda/envs/python35-paddle120-env/lib/python3.7/site-packages/sklearn/metrics/_classification.py\", line 1074, in f1_score\r\n",
      "    zero_division=zero_division)\r\n",
      "  File \"/opt/conda/envs/python35-paddle120-env/lib/python3.7/site-packages/sklearn/utils/validation.py\", line 63, in inner_f\r\n",
      "    return f(*args, **kwargs)\r\n",
      "  File \"/opt/conda/envs/python35-paddle120-env/lib/python3.7/site-packages/sklearn/metrics/_classification.py\", line 1202, in fbeta_score\r\n",
      "    zero_division=zero_division)\r\n",
      "  File \"/opt/conda/envs/python35-paddle120-env/lib/python3.7/site-packages/sklearn/utils/validation.py\", line 63, in inner_f\r\n",
      "    return f(*args, **kwargs)\r\n",
      "  File \"/opt/conda/envs/python35-paddle120-env/lib/python3.7/site-packages/sklearn/metrics/_classification.py\", line 1465, in precision_recall_fscore_support\r\n",
      "    pos_label)\r\n",
      "  File \"/opt/conda/envs/python35-paddle120-env/lib/python3.7/site-packages/sklearn/metrics/_classification.py\", line 1296, in _check_set_wise_labels\r\n",
      "    % (y_type, average_options))\r\n",
      "ValueError: Target is multiclass but average='binary'. Please choose another average setting, one of [None, 'micro', 'macro', 'weighted'].\r\n",
      "\r\n",
      "  UserWarning,\r\n",
      "/opt/conda/envs/python35-paddle120-env/lib/python3.7/site-packages/sklearn/utils/validation.py:63: DataConversionWarning: A column-vector y was passed when a 1d array was expected. Please change the shape of y to (n_samples, ), for example using ravel().\r\n",
      "  return f(*args, **kwargs)\r\n",
      "/opt/conda/envs/python35-paddle120-env/lib/python3.7/site-packages/sklearn/model_selection/_validation.py:700: UserWarning: Scoring failed. The score on this train-test partition for these parameters will be set to nan. Details: \r\n",
      "Traceback (most recent call last):\r\n",
      "  File \"/opt/conda/envs/python35-paddle120-env/lib/python3.7/site-packages/sklearn/model_selection/_validation.py\", line 687, in _score\r\n",
      "    scores = scorer(estimator, X_test, y_test)\r\n",
      "  File \"/opt/conda/envs/python35-paddle120-env/lib/python3.7/site-packages/sklearn/metrics/_scorer.py\", line 200, in __call__\r\n",
      "    sample_weight=sample_weight)\r\n",
      "  File \"/opt/conda/envs/python35-paddle120-env/lib/python3.7/site-packages/sklearn/metrics/_scorer.py\", line 243, in _score\r\n",
      "    **self._kwargs)\r\n",
      "  File \"/opt/conda/envs/python35-paddle120-env/lib/python3.7/site-packages/sklearn/utils/validation.py\", line 63, in inner_f\r\n",
      "    return f(*args, **kwargs)\r\n",
      "  File \"/opt/conda/envs/python35-paddle120-env/lib/python3.7/site-packages/sklearn/metrics/_classification.py\", line 1074, in f1_score\r\n",
      "    zero_division=zero_division)\r\n",
      "  File \"/opt/conda/envs/python35-paddle120-env/lib/python3.7/site-packages/sklearn/utils/validation.py\", line 63, in inner_f\r\n",
      "    return f(*args, **kwargs)\r\n",
      "  File \"/opt/conda/envs/python35-paddle120-env/lib/python3.7/site-packages/sklearn/metrics/_classification.py\", line 1202, in fbeta_score\r\n",
      "    zero_division=zero_division)\r\n",
      "  File \"/opt/conda/envs/python35-paddle120-env/lib/python3.7/site-packages/sklearn/utils/validation.py\", line 63, in inner_f\r\n",
      "    return f(*args, **kwargs)\r\n",
      "  File \"/opt/conda/envs/python35-paddle120-env/lib/python3.7/site-packages/sklearn/metrics/_classification.py\", line 1465, in precision_recall_fscore_support\r\n",
      "    pos_label)\r\n",
      "  File \"/opt/conda/envs/python35-paddle120-env/lib/python3.7/site-packages/sklearn/metrics/_classification.py\", line 1296, in _check_set_wise_labels\r\n",
      "    % (y_type, average_options))\r\n",
      "ValueError: Target is multiclass but average='binary'. Please choose another average setting, one of [None, 'micro', 'macro', 'weighted'].\r\n",
      "\r\n",
      "  UserWarning,\r\n",
      "/opt/conda/envs/python35-paddle120-env/lib/python3.7/site-packages/sklearn/utils/validation.py:63: DataConversionWarning: A column-vector y was passed when a 1d array was expected. Please change the shape of y to (n_samples, ), for example using ravel().\r\n",
      "  return f(*args, **kwargs)\r\n",
      "/opt/conda/envs/python35-paddle120-env/lib/python3.7/site-packages/sklearn/model_selection/_validation.py:700: UserWarning: Scoring failed. The score on this train-test partition for these parameters will be set to nan. Details: \r\n",
      "Traceback (most recent call last):\r\n",
      "  File \"/opt/conda/envs/python35-paddle120-env/lib/python3.7/site-packages/sklearn/model_selection/_validation.py\", line 687, in _score\r\n",
      "    scores = scorer(estimator, X_test, y_test)\r\n",
      "  File \"/opt/conda/envs/python35-paddle120-env/lib/python3.7/site-packages/sklearn/metrics/_scorer.py\", line 200, in __call__\r\n",
      "    sample_weight=sample_weight)\r\n",
      "  File \"/opt/conda/envs/python35-paddle120-env/lib/python3.7/site-packages/sklearn/metrics/_scorer.py\", line 243, in _score\r\n",
      "    **self._kwargs)\r\n",
      "  File \"/opt/conda/envs/python35-paddle120-env/lib/python3.7/site-packages/sklearn/utils/validation.py\", line 63, in inner_f\r\n",
      "    return f(*args, **kwargs)\r\n",
      "  File \"/opt/conda/envs/python35-paddle120-env/lib/python3.7/site-packages/sklearn/metrics/_classification.py\", line 1074, in f1_score\r\n",
      "    zero_division=zero_division)\r\n",
      "  File \"/opt/conda/envs/python35-paddle120-env/lib/python3.7/site-packages/sklearn/utils/validation.py\", line 63, in inner_f\r\n",
      "    return f(*args, **kwargs)\r\n",
      "  File \"/opt/conda/envs/python35-paddle120-env/lib/python3.7/site-packages/sklearn/metrics/_classification.py\", line 1202, in fbeta_score\r\n",
      "    zero_division=zero_division)\r\n",
      "  File \"/opt/conda/envs/python35-paddle120-env/lib/python3.7/site-packages/sklearn/utils/validation.py\", line 63, in inner_f\r\n",
      "    return f(*args, **kwargs)\r\n",
      "  File \"/opt/conda/envs/python35-paddle120-env/lib/python3.7/site-packages/sklearn/metrics/_classification.py\", line 1465, in precision_recall_fscore_support\r\n",
      "    pos_label)\r\n",
      "  File \"/opt/conda/envs/python35-paddle120-env/lib/python3.7/site-packages/sklearn/metrics/_classification.py\", line 1296, in _check_set_wise_labels\r\n",
      "    % (y_type, average_options))\r\n",
      "ValueError: Target is multiclass but average='binary'. Please choose another average setting, one of [None, 'micro', 'macro', 'weighted'].\r\n",
      "\r\n",
      "  UserWarning,\r\n",
      "/opt/conda/envs/python35-paddle120-env/lib/python3.7/site-packages/sklearn/utils/validation.py:63: DataConversionWarning: A column-vector y was passed when a 1d array was expected. Please change the shape of y to (n_samples, ), for example using ravel().\r\n",
      "  return f(*args, **kwargs)\r\n",
      "/opt/conda/envs/python35-paddle120-env/lib/python3.7/site-packages/sklearn/model_selection/_validation.py:700: UserWarning: Scoring failed. The score on this train-test partition for these parameters will be set to nan. Details: \r\n",
      "Traceback (most recent call last):\r\n",
      "  File \"/opt/conda/envs/python35-paddle120-env/lib/python3.7/site-packages/sklearn/model_selection/_validation.py\", line 687, in _score\r\n",
      "    scores = scorer(estimator, X_test, y_test)\r\n",
      "  File \"/opt/conda/envs/python35-paddle120-env/lib/python3.7/site-packages/sklearn/metrics/_scorer.py\", line 200, in __call__\r\n",
      "    sample_weight=sample_weight)\r\n",
      "  File \"/opt/conda/envs/python35-paddle120-env/lib/python3.7/site-packages/sklearn/metrics/_scorer.py\", line 243, in _score\r\n",
      "    **self._kwargs)\r\n",
      "  File \"/opt/conda/envs/python35-paddle120-env/lib/python3.7/site-packages/sklearn/utils/validation.py\", line 63, in inner_f\r\n",
      "    return f(*args, **kwargs)\r\n",
      "  File \"/opt/conda/envs/python35-paddle120-env/lib/python3.7/site-packages/sklearn/metrics/_classification.py\", line 1074, in f1_score\r\n",
      "    zero_division=zero_division)\r\n",
      "  File \"/opt/conda/envs/python35-paddle120-env/lib/python3.7/site-packages/sklearn/utils/validation.py\", line 63, in inner_f\r\n",
      "    return f(*args, **kwargs)\r\n",
      "  File \"/opt/conda/envs/python35-paddle120-env/lib/python3.7/site-packages/sklearn/metrics/_classification.py\", line 1202, in fbeta_score\r\n",
      "    zero_division=zero_division)\r\n",
      "  File \"/opt/conda/envs/python35-paddle120-env/lib/python3.7/site-packages/sklearn/utils/validation.py\", line 63, in inner_f\r\n",
      "    return f(*args, **kwargs)\r\n",
      "  File \"/opt/conda/envs/python35-paddle120-env/lib/python3.7/site-packages/sklearn/metrics/_classification.py\", line 1465, in precision_recall_fscore_support\r\n",
      "    pos_label)\r\n",
      "  File \"/opt/conda/envs/python35-paddle120-env/lib/python3.7/site-packages/sklearn/metrics/_classification.py\", line 1296, in _check_set_wise_labels\r\n",
      "    % (y_type, average_options))\r\n",
      "ValueError: Target is multiclass but average='binary'. Please choose another average setting, one of [None, 'micro', 'macro', 'weighted'].\r\n",
      "\r\n",
      "  UserWarning,\r\n",
      "/opt/conda/envs/python35-paddle120-env/lib/python3.7/site-packages/sklearn/utils/validation.py:63: DataConversionWarning: A column-vector y was passed when a 1d array was expected. Please change the shape of y to (n_samples, ), for example using ravel().\r\n",
      "  return f(*args, **kwargs)\r\n",
      "/opt/conda/envs/python35-paddle120-env/lib/python3.7/site-packages/sklearn/model_selection/_validation.py:700: UserWarning: Scoring failed. The score on this train-test partition for these parameters will be set to nan. Details: \r\n",
      "Traceback (most recent call last):\r\n",
      "  File \"/opt/conda/envs/python35-paddle120-env/lib/python3.7/site-packages/sklearn/model_selection/_validation.py\", line 687, in _score\r\n",
      "    scores = scorer(estimator, X_test, y_test)\r\n",
      "  File \"/opt/conda/envs/python35-paddle120-env/lib/python3.7/site-packages/sklearn/metrics/_scorer.py\", line 200, in __call__\r\n",
      "    sample_weight=sample_weight)\r\n",
      "  File \"/opt/conda/envs/python35-paddle120-env/lib/python3.7/site-packages/sklearn/metrics/_scorer.py\", line 243, in _score\r\n",
      "    **self._kwargs)\r\n",
      "  File \"/opt/conda/envs/python35-paddle120-env/lib/python3.7/site-packages/sklearn/utils/validation.py\", line 63, in inner_f\r\n",
      "    return f(*args, **kwargs)\r\n",
      "  File \"/opt/conda/envs/python35-paddle120-env/lib/python3.7/site-packages/sklearn/metrics/_classification.py\", line 1074, in f1_score\r\n",
      "    zero_division=zero_division)\r\n",
      "  File \"/opt/conda/envs/python35-paddle120-env/lib/python3.7/site-packages/sklearn/utils/validation.py\", line 63, in inner_f\r\n",
      "    return f(*args, **kwargs)\r\n",
      "  File \"/opt/conda/envs/python35-paddle120-env/lib/python3.7/site-packages/sklearn/metrics/_classification.py\", line 1202, in fbeta_score\r\n",
      "    zero_division=zero_division)\r\n",
      "  File \"/opt/conda/envs/python35-paddle120-env/lib/python3.7/site-packages/sklearn/utils/validation.py\", line 63, in inner_f\r\n",
      "    return f(*args, **kwargs)\r\n",
      "  File \"/opt/conda/envs/python35-paddle120-env/lib/python3.7/site-packages/sklearn/metrics/_classification.py\", line 1465, in precision_recall_fscore_support\r\n",
      "    pos_label)\r\n",
      "  File \"/opt/conda/envs/python35-paddle120-env/lib/python3.7/site-packages/sklearn/metrics/_classification.py\", line 1296, in _check_set_wise_labels\r\n",
      "    % (y_type, average_options))\r\n",
      "ValueError: Target is multiclass but average='binary'. Please choose another average setting, one of [None, 'micro', 'macro', 'weighted'].\r\n",
      "\r\n",
      "  UserWarning,\r\n",
      "/opt/conda/envs/python35-paddle120-env/lib/python3.7/site-packages/sklearn/utils/validation.py:63: DataConversionWarning: A column-vector y was passed when a 1d array was expected. Please change the shape of y to (n_samples, ), for example using ravel().\r\n",
      "  return f(*args, **kwargs)\r\n",
      "/opt/conda/envs/python35-paddle120-env/lib/python3.7/site-packages/sklearn/model_selection/_validation.py:700: UserWarning: Scoring failed. The score on this train-test partition for these parameters will be set to nan. Details: \r\n",
      "Traceback (most recent call last):\r\n",
      "  File \"/opt/conda/envs/python35-paddle120-env/lib/python3.7/site-packages/sklearn/model_selection/_validation.py\", line 687, in _score\r\n",
      "    scores = scorer(estimator, X_test, y_test)\r\n",
      "  File \"/opt/conda/envs/python35-paddle120-env/lib/python3.7/site-packages/sklearn/metrics/_scorer.py\", line 200, in __call__\r\n",
      "    sample_weight=sample_weight)\r\n",
      "  File \"/opt/conda/envs/python35-paddle120-env/lib/python3.7/site-packages/sklearn/metrics/_scorer.py\", line 243, in _score\r\n",
      "    **self._kwargs)\r\n",
      "  File \"/opt/conda/envs/python35-paddle120-env/lib/python3.7/site-packages/sklearn/utils/validation.py\", line 63, in inner_f\r\n",
      "    return f(*args, **kwargs)\r\n",
      "  File \"/opt/conda/envs/python35-paddle120-env/lib/python3.7/site-packages/sklearn/metrics/_classification.py\", line 1074, in f1_score\r\n",
      "    zero_division=zero_division)\r\n",
      "  File \"/opt/conda/envs/python35-paddle120-env/lib/python3.7/site-packages/sklearn/utils/validation.py\", line 63, in inner_f\r\n",
      "    return f(*args, **kwargs)\r\n",
      "  File \"/opt/conda/envs/python35-paddle120-env/lib/python3.7/site-packages/sklearn/metrics/_classification.py\", line 1202, in fbeta_score\r\n",
      "    zero_division=zero_division)\r\n",
      "  File \"/opt/conda/envs/python35-paddle120-env/lib/python3.7/site-packages/sklearn/utils/validation.py\", line 63, in inner_f\r\n",
      "    return f(*args, **kwargs)\r\n",
      "  File \"/opt/conda/envs/python35-paddle120-env/lib/python3.7/site-packages/sklearn/metrics/_classification.py\", line 1465, in precision_recall_fscore_support\r\n",
      "    pos_label)\r\n",
      "  File \"/opt/conda/envs/python35-paddle120-env/lib/python3.7/site-packages/sklearn/metrics/_classification.py\", line 1296, in _check_set_wise_labels\r\n",
      "    % (y_type, average_options))\r\n",
      "ValueError: Target is multiclass but average='binary'. Please choose another average setting, one of [None, 'micro', 'macro', 'weighted'].\r\n",
      "\r\n",
      "  UserWarning,\r\n",
      "/opt/conda/envs/python35-paddle120-env/lib/python3.7/site-packages/sklearn/utils/validation.py:63: DataConversionWarning: A column-vector y was passed when a 1d array was expected. Please change the shape of y to (n_samples, ), for example using ravel().\r\n",
      "  return f(*args, **kwargs)\r\n",
      "/opt/conda/envs/python35-paddle120-env/lib/python3.7/site-packages/sklearn/model_selection/_validation.py:700: UserWarning: Scoring failed. The score on this train-test partition for these parameters will be set to nan. Details: \r\n",
      "Traceback (most recent call last):\r\n",
      "  File \"/opt/conda/envs/python35-paddle120-env/lib/python3.7/site-packages/sklearn/model_selection/_validation.py\", line 687, in _score\r\n",
      "    scores = scorer(estimator, X_test, y_test)\r\n",
      "  File \"/opt/conda/envs/python35-paddle120-env/lib/python3.7/site-packages/sklearn/metrics/_scorer.py\", line 200, in __call__\r\n",
      "    sample_weight=sample_weight)\r\n",
      "  File \"/opt/conda/envs/python35-paddle120-env/lib/python3.7/site-packages/sklearn/metrics/_scorer.py\", line 243, in _score\r\n",
      "    **self._kwargs)\r\n",
      "  File \"/opt/conda/envs/python35-paddle120-env/lib/python3.7/site-packages/sklearn/utils/validation.py\", line 63, in inner_f\r\n",
      "    return f(*args, **kwargs)\r\n",
      "  File \"/opt/conda/envs/python35-paddle120-env/lib/python3.7/site-packages/sklearn/metrics/_classification.py\", line 1074, in f1_score\r\n",
      "    zero_division=zero_division)\r\n",
      "  File \"/opt/conda/envs/python35-paddle120-env/lib/python3.7/site-packages/sklearn/utils/validation.py\", line 63, in inner_f\r\n",
      "    return f(*args, **kwargs)\r\n",
      "  File \"/opt/conda/envs/python35-paddle120-env/lib/python3.7/site-packages/sklearn/metrics/_classification.py\", line 1202, in fbeta_score\r\n",
      "    zero_division=zero_division)\r\n",
      "  File \"/opt/conda/envs/python35-paddle120-env/lib/python3.7/site-packages/sklearn/utils/validation.py\", line 63, in inner_f\r\n",
      "    return f(*args, **kwargs)\r\n",
      "  File \"/opt/conda/envs/python35-paddle120-env/lib/python3.7/site-packages/sklearn/metrics/_classification.py\", line 1465, in precision_recall_fscore_support\r\n",
      "    pos_label)\r\n",
      "  File \"/opt/conda/envs/python35-paddle120-env/lib/python3.7/site-packages/sklearn/metrics/_classification.py\", line 1296, in _check_set_wise_labels\r\n",
      "    % (y_type, average_options))\r\n",
      "ValueError: Target is multiclass but average='binary'. Please choose another average setting, one of [None, 'micro', 'macro', 'weighted'].\r\n",
      "\r\n",
      "  UserWarning,\r\n",
      "/opt/conda/envs/python35-paddle120-env/lib/python3.7/site-packages/sklearn/utils/validation.py:63: DataConversionWarning: A column-vector y was passed when a 1d array was expected. Please change the shape of y to (n_samples, ), for example using ravel().\r\n",
      "  return f(*args, **kwargs)\r\n",
      "/opt/conda/envs/python35-paddle120-env/lib/python3.7/site-packages/sklearn/model_selection/_validation.py:700: UserWarning: Scoring failed. The score on this train-test partition for these parameters will be set to nan. Details: \r\n",
      "Traceback (most recent call last):\r\n",
      "  File \"/opt/conda/envs/python35-paddle120-env/lib/python3.7/site-packages/sklearn/model_selection/_validation.py\", line 687, in _score\r\n",
      "    scores = scorer(estimator, X_test, y_test)\r\n",
      "  File \"/opt/conda/envs/python35-paddle120-env/lib/python3.7/site-packages/sklearn/metrics/_scorer.py\", line 200, in __call__\r\n",
      "    sample_weight=sample_weight)\r\n",
      "  File \"/opt/conda/envs/python35-paddle120-env/lib/python3.7/site-packages/sklearn/metrics/_scorer.py\", line 243, in _score\r\n",
      "    **self._kwargs)\r\n",
      "  File \"/opt/conda/envs/python35-paddle120-env/lib/python3.7/site-packages/sklearn/utils/validation.py\", line 63, in inner_f\r\n",
      "    return f(*args, **kwargs)\r\n",
      "  File \"/opt/conda/envs/python35-paddle120-env/lib/python3.7/site-packages/sklearn/metrics/_classification.py\", line 1074, in f1_score\r\n",
      "    zero_division=zero_division)\r\n",
      "  File \"/opt/conda/envs/python35-paddle120-env/lib/python3.7/site-packages/sklearn/utils/validation.py\", line 63, in inner_f\r\n",
      "    return f(*args, **kwargs)\r\n",
      "  File \"/opt/conda/envs/python35-paddle120-env/lib/python3.7/site-packages/sklearn/metrics/_classification.py\", line 1202, in fbeta_score\r\n",
      "    zero_division=zero_division)\r\n",
      "  File \"/opt/conda/envs/python35-paddle120-env/lib/python3.7/site-packages/sklearn/utils/validation.py\", line 63, in inner_f\r\n",
      "    return f(*args, **kwargs)\r\n",
      "  File \"/opt/conda/envs/python35-paddle120-env/lib/python3.7/site-packages/sklearn/metrics/_classification.py\", line 1465, in precision_recall_fscore_support\r\n",
      "    pos_label)\r\n",
      "  File \"/opt/conda/envs/python35-paddle120-env/lib/python3.7/site-packages/sklearn/metrics/_classification.py\", line 1296, in _check_set_wise_labels\r\n",
      "    % (y_type, average_options))\r\n",
      "ValueError: Target is multiclass but average='binary'. Please choose another average setting, one of [None, 'micro', 'macro', 'weighted'].\r\n",
      "\r\n",
      "  UserWarning,\r\n",
      "/opt/conda/envs/python35-paddle120-env/lib/python3.7/site-packages/sklearn/utils/validation.py:63: DataConversionWarning: A column-vector y was passed when a 1d array was expected. Please change the shape of y to (n_samples, ), for example using ravel().\r\n",
      "  return f(*args, **kwargs)\r\n",
      "/opt/conda/envs/python35-paddle120-env/lib/python3.7/site-packages/sklearn/model_selection/_validation.py:700: UserWarning: Scoring failed. The score on this train-test partition for these parameters will be set to nan. Details: \r\n",
      "Traceback (most recent call last):\r\n",
      "  File \"/opt/conda/envs/python35-paddle120-env/lib/python3.7/site-packages/sklearn/model_selection/_validation.py\", line 687, in _score\r\n",
      "    scores = scorer(estimator, X_test, y_test)\r\n",
      "  File \"/opt/conda/envs/python35-paddle120-env/lib/python3.7/site-packages/sklearn/metrics/_scorer.py\", line 200, in __call__\r\n",
      "    sample_weight=sample_weight)\r\n",
      "  File \"/opt/conda/envs/python35-paddle120-env/lib/python3.7/site-packages/sklearn/metrics/_scorer.py\", line 243, in _score\r\n",
      "    **self._kwargs)\r\n",
      "  File \"/opt/conda/envs/python35-paddle120-env/lib/python3.7/site-packages/sklearn/utils/validation.py\", line 63, in inner_f\r\n",
      "    return f(*args, **kwargs)\r\n",
      "  File \"/opt/conda/envs/python35-paddle120-env/lib/python3.7/site-packages/sklearn/metrics/_classification.py\", line 1074, in f1_score\r\n",
      "    zero_division=zero_division)\r\n",
      "  File \"/opt/conda/envs/python35-paddle120-env/lib/python3.7/site-packages/sklearn/utils/validation.py\", line 63, in inner_f\r\n",
      "    return f(*args, **kwargs)\r\n",
      "  File \"/opt/conda/envs/python35-paddle120-env/lib/python3.7/site-packages/sklearn/metrics/_classification.py\", line 1202, in fbeta_score\r\n",
      "    zero_division=zero_division)\r\n",
      "  File \"/opt/conda/envs/python35-paddle120-env/lib/python3.7/site-packages/sklearn/utils/validation.py\", line 63, in inner_f\r\n",
      "    return f(*args, **kwargs)\r\n",
      "  File \"/opt/conda/envs/python35-paddle120-env/lib/python3.7/site-packages/sklearn/metrics/_classification.py\", line 1465, in precision_recall_fscore_support\r\n",
      "    pos_label)\r\n",
      "  File \"/opt/conda/envs/python35-paddle120-env/lib/python3.7/site-packages/sklearn/metrics/_classification.py\", line 1296, in _check_set_wise_labels\r\n",
      "    % (y_type, average_options))\r\n",
      "ValueError: Target is multiclass but average='binary'. Please choose another average setting, one of [None, 'micro', 'macro', 'weighted'].\r\n",
      "\r\n",
      "  UserWarning,\r\n",
      "/opt/conda/envs/python35-paddle120-env/lib/python3.7/site-packages/sklearn/utils/validation.py:63: DataConversionWarning: A column-vector y was passed when a 1d array was expected. Please change the shape of y to (n_samples, ), for example using ravel().\r\n",
      "  return f(*args, **kwargs)\r\n",
      "/opt/conda/envs/python35-paddle120-env/lib/python3.7/site-packages/sklearn/model_selection/_validation.py:700: UserWarning: Scoring failed. The score on this train-test partition for these parameters will be set to nan. Details: \r\n",
      "Traceback (most recent call last):\r\n",
      "  File \"/opt/conda/envs/python35-paddle120-env/lib/python3.7/site-packages/sklearn/model_selection/_validation.py\", line 687, in _score\r\n",
      "    scores = scorer(estimator, X_test, y_test)\r\n",
      "  File \"/opt/conda/envs/python35-paddle120-env/lib/python3.7/site-packages/sklearn/metrics/_scorer.py\", line 200, in __call__\r\n",
      "    sample_weight=sample_weight)\r\n",
      "  File \"/opt/conda/envs/python35-paddle120-env/lib/python3.7/site-packages/sklearn/metrics/_scorer.py\", line 243, in _score\r\n",
      "    **self._kwargs)\r\n",
      "  File \"/opt/conda/envs/python35-paddle120-env/lib/python3.7/site-packages/sklearn/utils/validation.py\", line 63, in inner_f\r\n",
      "    return f(*args, **kwargs)\r\n",
      "  File \"/opt/conda/envs/python35-paddle120-env/lib/python3.7/site-packages/sklearn/metrics/_classification.py\", line 1074, in f1_score\r\n",
      "    zero_division=zero_division)\r\n",
      "  File \"/opt/conda/envs/python35-paddle120-env/lib/python3.7/site-packages/sklearn/utils/validation.py\", line 63, in inner_f\r\n",
      "    return f(*args, **kwargs)\r\n",
      "  File \"/opt/conda/envs/python35-paddle120-env/lib/python3.7/site-packages/sklearn/metrics/_classification.py\", line 1202, in fbeta_score\r\n",
      "    zero_division=zero_division)\r\n",
      "  File \"/opt/conda/envs/python35-paddle120-env/lib/python3.7/site-packages/sklearn/utils/validation.py\", line 63, in inner_f\r\n",
      "    return f(*args, **kwargs)\r\n",
      "  File \"/opt/conda/envs/python35-paddle120-env/lib/python3.7/site-packages/sklearn/metrics/_classification.py\", line 1465, in precision_recall_fscore_support\r\n",
      "    pos_label)\r\n",
      "  File \"/opt/conda/envs/python35-paddle120-env/lib/python3.7/site-packages/sklearn/metrics/_classification.py\", line 1296, in _check_set_wise_labels\r\n",
      "    % (y_type, average_options))\r\n",
      "ValueError: Target is multiclass but average='binary'. Please choose another average setting, one of [None, 'micro', 'macro', 'weighted'].\r\n",
      "\r\n",
      "  UserWarning,\r\n",
      "/opt/conda/envs/python35-paddle120-env/lib/python3.7/site-packages/sklearn/utils/validation.py:63: DataConversionWarning: A column-vector y was passed when a 1d array was expected. Please change the shape of y to (n_samples, ), for example using ravel().\r\n",
      "  return f(*args, **kwargs)\r\n",
      "/opt/conda/envs/python35-paddle120-env/lib/python3.7/site-packages/sklearn/model_selection/_validation.py:700: UserWarning: Scoring failed. The score on this train-test partition for these parameters will be set to nan. Details: \r\n",
      "Traceback (most recent call last):\r\n",
      "  File \"/opt/conda/envs/python35-paddle120-env/lib/python3.7/site-packages/sklearn/model_selection/_validation.py\", line 687, in _score\r\n",
      "    scores = scorer(estimator, X_test, y_test)\r\n",
      "  File \"/opt/conda/envs/python35-paddle120-env/lib/python3.7/site-packages/sklearn/metrics/_scorer.py\", line 200, in __call__\r\n",
      "    sample_weight=sample_weight)\r\n",
      "  File \"/opt/conda/envs/python35-paddle120-env/lib/python3.7/site-packages/sklearn/metrics/_scorer.py\", line 243, in _score\r\n",
      "    **self._kwargs)\r\n",
      "  File \"/opt/conda/envs/python35-paddle120-env/lib/python3.7/site-packages/sklearn/utils/validation.py\", line 63, in inner_f\r\n",
      "    return f(*args, **kwargs)\r\n",
      "  File \"/opt/conda/envs/python35-paddle120-env/lib/python3.7/site-packages/sklearn/metrics/_classification.py\", line 1074, in f1_score\r\n",
      "    zero_division=zero_division)\r\n",
      "  File \"/opt/conda/envs/python35-paddle120-env/lib/python3.7/site-packages/sklearn/utils/validation.py\", line 63, in inner_f\r\n",
      "    return f(*args, **kwargs)\r\n",
      "  File \"/opt/conda/envs/python35-paddle120-env/lib/python3.7/site-packages/sklearn/metrics/_classification.py\", line 1202, in fbeta_score\r\n",
      "    zero_division=zero_division)\r\n",
      "  File \"/opt/conda/envs/python35-paddle120-env/lib/python3.7/site-packages/sklearn/utils/validation.py\", line 63, in inner_f\r\n",
      "    return f(*args, **kwargs)\r\n",
      "  File \"/opt/conda/envs/python35-paddle120-env/lib/python3.7/site-packages/sklearn/metrics/_classification.py\", line 1465, in precision_recall_fscore_support\r\n",
      "    pos_label)\r\n",
      "  File \"/opt/conda/envs/python35-paddle120-env/lib/python3.7/site-packages/sklearn/metrics/_classification.py\", line 1296, in _check_set_wise_labels\r\n",
      "    % (y_type, average_options))\r\n",
      "ValueError: Target is multiclass but average='binary'. Please choose another average setting, one of [None, 'micro', 'macro', 'weighted'].\r\n",
      "\r\n",
      "  UserWarning,\r\n",
      "/opt/conda/envs/python35-paddle120-env/lib/python3.7/site-packages/sklearn/utils/validation.py:63: DataConversionWarning: A column-vector y was passed when a 1d array was expected. Please change the shape of y to (n_samples, ), for example using ravel().\r\n",
      "  return f(*args, **kwargs)\r\n",
      "/opt/conda/envs/python35-paddle120-env/lib/python3.7/site-packages/sklearn/model_selection/_validation.py:700: UserWarning: Scoring failed. The score on this train-test partition for these parameters will be set to nan. Details: \r\n",
      "Traceback (most recent call last):\r\n",
      "  File \"/opt/conda/envs/python35-paddle120-env/lib/python3.7/site-packages/sklearn/model_selection/_validation.py\", line 687, in _score\r\n",
      "    scores = scorer(estimator, X_test, y_test)\r\n",
      "  File \"/opt/conda/envs/python35-paddle120-env/lib/python3.7/site-packages/sklearn/metrics/_scorer.py\", line 200, in __call__\r\n",
      "    sample_weight=sample_weight)\r\n",
      "  File \"/opt/conda/envs/python35-paddle120-env/lib/python3.7/site-packages/sklearn/metrics/_scorer.py\", line 243, in _score\r\n",
      "    **self._kwargs)\r\n",
      "  File \"/opt/conda/envs/python35-paddle120-env/lib/python3.7/site-packages/sklearn/utils/validation.py\", line 63, in inner_f\r\n",
      "    return f(*args, **kwargs)\r\n",
      "  File \"/opt/conda/envs/python35-paddle120-env/lib/python3.7/site-packages/sklearn/metrics/_classification.py\", line 1074, in f1_score\r\n",
      "    zero_division=zero_division)\r\n",
      "  File \"/opt/conda/envs/python35-paddle120-env/lib/python3.7/site-packages/sklearn/utils/validation.py\", line 63, in inner_f\r\n",
      "    return f(*args, **kwargs)\r\n",
      "  File \"/opt/conda/envs/python35-paddle120-env/lib/python3.7/site-packages/sklearn/metrics/_classification.py\", line 1202, in fbeta_score\r\n",
      "    zero_division=zero_division)\r\n",
      "  File \"/opt/conda/envs/python35-paddle120-env/lib/python3.7/site-packages/sklearn/utils/validation.py\", line 63, in inner_f\r\n",
      "    return f(*args, **kwargs)\r\n",
      "  File \"/opt/conda/envs/python35-paddle120-env/lib/python3.7/site-packages/sklearn/metrics/_classification.py\", line 1465, in precision_recall_fscore_support\r\n",
      "    pos_label)\r\n",
      "  File \"/opt/conda/envs/python35-paddle120-env/lib/python3.7/site-packages/sklearn/metrics/_classification.py\", line 1296, in _check_set_wise_labels\r\n",
      "    % (y_type, average_options))\r\n",
      "ValueError: Target is multiclass but average='binary'. Please choose another average setting, one of [None, 'micro', 'macro', 'weighted'].\r\n",
      "\r\n",
      "  UserWarning,\r\n",
      "/opt/conda/envs/python35-paddle120-env/lib/python3.7/site-packages/sklearn/utils/validation.py:63: DataConversionWarning: A column-vector y was passed when a 1d array was expected. Please change the shape of y to (n_samples, ), for example using ravel().\r\n",
      "  return f(*args, **kwargs)\r\n",
      "/opt/conda/envs/python35-paddle120-env/lib/python3.7/site-packages/sklearn/model_selection/_validation.py:700: UserWarning: Scoring failed. The score on this train-test partition for these parameters will be set to nan. Details: \r\n",
      "Traceback (most recent call last):\r\n",
      "  File \"/opt/conda/envs/python35-paddle120-env/lib/python3.7/site-packages/sklearn/model_selection/_validation.py\", line 687, in _score\r\n",
      "    scores = scorer(estimator, X_test, y_test)\r\n",
      "  File \"/opt/conda/envs/python35-paddle120-env/lib/python3.7/site-packages/sklearn/metrics/_scorer.py\", line 200, in __call__\r\n",
      "    sample_weight=sample_weight)\r\n",
      "  File \"/opt/conda/envs/python35-paddle120-env/lib/python3.7/site-packages/sklearn/metrics/_scorer.py\", line 243, in _score\r\n",
      "    **self._kwargs)\r\n",
      "  File \"/opt/conda/envs/python35-paddle120-env/lib/python3.7/site-packages/sklearn/utils/validation.py\", line 63, in inner_f\r\n",
      "    return f(*args, **kwargs)\r\n",
      "  File \"/opt/conda/envs/python35-paddle120-env/lib/python3.7/site-packages/sklearn/metrics/_classification.py\", line 1074, in f1_score\r\n",
      "    zero_division=zero_division)\r\n",
      "  File \"/opt/conda/envs/python35-paddle120-env/lib/python3.7/site-packages/sklearn/utils/validation.py\", line 63, in inner_f\r\n",
      "    return f(*args, **kwargs)\r\n",
      "  File \"/opt/conda/envs/python35-paddle120-env/lib/python3.7/site-packages/sklearn/metrics/_classification.py\", line 1202, in fbeta_score\r\n",
      "    zero_division=zero_division)\r\n",
      "  File \"/opt/conda/envs/python35-paddle120-env/lib/python3.7/site-packages/sklearn/utils/validation.py\", line 63, in inner_f\r\n",
      "    return f(*args, **kwargs)\r\n",
      "  File \"/opt/conda/envs/python35-paddle120-env/lib/python3.7/site-packages/sklearn/metrics/_classification.py\", line 1465, in precision_recall_fscore_support\r\n",
      "    pos_label)\r\n",
      "  File \"/opt/conda/envs/python35-paddle120-env/lib/python3.7/site-packages/sklearn/metrics/_classification.py\", line 1296, in _check_set_wise_labels\r\n",
      "    % (y_type, average_options))\r\n",
      "ValueError: Target is multiclass but average='binary'. Please choose another average setting, one of [None, 'micro', 'macro', 'weighted'].\r\n",
      "\r\n",
      "  UserWarning,\r\n",
      "/opt/conda/envs/python35-paddle120-env/lib/python3.7/site-packages/sklearn/utils/validation.py:63: DataConversionWarning: A column-vector y was passed when a 1d array was expected. Please change the shape of y to (n_samples, ), for example using ravel().\r\n",
      "  return f(*args, **kwargs)\r\n",
      "/opt/conda/envs/python35-paddle120-env/lib/python3.7/site-packages/sklearn/model_selection/_validation.py:700: UserWarning: Scoring failed. The score on this train-test partition for these parameters will be set to nan. Details: \r\n",
      "Traceback (most recent call last):\r\n",
      "  File \"/opt/conda/envs/python35-paddle120-env/lib/python3.7/site-packages/sklearn/model_selection/_validation.py\", line 687, in _score\r\n",
      "    scores = scorer(estimator, X_test, y_test)\r\n",
      "  File \"/opt/conda/envs/python35-paddle120-env/lib/python3.7/site-packages/sklearn/metrics/_scorer.py\", line 200, in __call__\r\n",
      "    sample_weight=sample_weight)\r\n",
      "  File \"/opt/conda/envs/python35-paddle120-env/lib/python3.7/site-packages/sklearn/metrics/_scorer.py\", line 243, in _score\r\n",
      "    **self._kwargs)\r\n",
      "  File \"/opt/conda/envs/python35-paddle120-env/lib/python3.7/site-packages/sklearn/utils/validation.py\", line 63, in inner_f\r\n",
      "    return f(*args, **kwargs)\r\n",
      "  File \"/opt/conda/envs/python35-paddle120-env/lib/python3.7/site-packages/sklearn/metrics/_classification.py\", line 1074, in f1_score\r\n",
      "    zero_division=zero_division)\r\n",
      "  File \"/opt/conda/envs/python35-paddle120-env/lib/python3.7/site-packages/sklearn/utils/validation.py\", line 63, in inner_f\r\n",
      "    return f(*args, **kwargs)\r\n",
      "  File \"/opt/conda/envs/python35-paddle120-env/lib/python3.7/site-packages/sklearn/metrics/_classification.py\", line 1202, in fbeta_score\r\n",
      "    zero_division=zero_division)\r\n",
      "  File \"/opt/conda/envs/python35-paddle120-env/lib/python3.7/site-packages/sklearn/utils/validation.py\", line 63, in inner_f\r\n",
      "    return f(*args, **kwargs)\r\n",
      "  File \"/opt/conda/envs/python35-paddle120-env/lib/python3.7/site-packages/sklearn/metrics/_classification.py\", line 1465, in precision_recall_fscore_support\r\n",
      "    pos_label)\r\n",
      "  File \"/opt/conda/envs/python35-paddle120-env/lib/python3.7/site-packages/sklearn/metrics/_classification.py\", line 1296, in _check_set_wise_labels\r\n",
      "    % (y_type, average_options))\r\n",
      "ValueError: Target is multiclass but average='binary'. Please choose another average setting, one of [None, 'micro', 'macro', 'weighted'].\r\n",
      "\r\n",
      "  UserWarning,\r\n",
      "/opt/conda/envs/python35-paddle120-env/lib/python3.7/site-packages/sklearn/utils/validation.py:63: DataConversionWarning: A column-vector y was passed when a 1d array was expected. Please change the shape of y to (n_samples, ), for example using ravel().\r\n",
      "  return f(*args, **kwargs)\r\n",
      "/opt/conda/envs/python35-paddle120-env/lib/python3.7/site-packages/sklearn/model_selection/_validation.py:700: UserWarning: Scoring failed. The score on this train-test partition for these parameters will be set to nan. Details: \r\n",
      "Traceback (most recent call last):\r\n",
      "  File \"/opt/conda/envs/python35-paddle120-env/lib/python3.7/site-packages/sklearn/model_selection/_validation.py\", line 687, in _score\r\n",
      "    scores = scorer(estimator, X_test, y_test)\r\n",
      "  File \"/opt/conda/envs/python35-paddle120-env/lib/python3.7/site-packages/sklearn/metrics/_scorer.py\", line 200, in __call__\r\n",
      "    sample_weight=sample_weight)\r\n",
      "  File \"/opt/conda/envs/python35-paddle120-env/lib/python3.7/site-packages/sklearn/metrics/_scorer.py\", line 243, in _score\r\n",
      "    **self._kwargs)\r\n",
      "  File \"/opt/conda/envs/python35-paddle120-env/lib/python3.7/site-packages/sklearn/utils/validation.py\", line 63, in inner_f\r\n",
      "    return f(*args, **kwargs)\r\n",
      "  File \"/opt/conda/envs/python35-paddle120-env/lib/python3.7/site-packages/sklearn/metrics/_classification.py\", line 1074, in f1_score\r\n",
      "    zero_division=zero_division)\r\n",
      "  File \"/opt/conda/envs/python35-paddle120-env/lib/python3.7/site-packages/sklearn/utils/validation.py\", line 63, in inner_f\r\n",
      "    return f(*args, **kwargs)\r\n",
      "  File \"/opt/conda/envs/python35-paddle120-env/lib/python3.7/site-packages/sklearn/metrics/_classification.py\", line 1202, in fbeta_score\r\n",
      "    zero_division=zero_division)\r\n",
      "  File \"/opt/conda/envs/python35-paddle120-env/lib/python3.7/site-packages/sklearn/utils/validation.py\", line 63, in inner_f\r\n",
      "    return f(*args, **kwargs)\r\n",
      "  File \"/opt/conda/envs/python35-paddle120-env/lib/python3.7/site-packages/sklearn/metrics/_classification.py\", line 1465, in precision_recall_fscore_support\r\n",
      "    pos_label)\r\n",
      "  File \"/opt/conda/envs/python35-paddle120-env/lib/python3.7/site-packages/sklearn/metrics/_classification.py\", line 1296, in _check_set_wise_labels\r\n",
      "    % (y_type, average_options))\r\n",
      "ValueError: Target is multiclass but average='binary'. Please choose another average setting, one of [None, 'micro', 'macro', 'weighted'].\r\n",
      "\r\n",
      "  UserWarning,\r\n",
      "/opt/conda/envs/python35-paddle120-env/lib/python3.7/site-packages/sklearn/utils/validation.py:63: DataConversionWarning: A column-vector y was passed when a 1d array was expected. Please change the shape of y to (n_samples, ), for example using ravel().\r\n",
      "  return f(*args, **kwargs)\r\n",
      "/opt/conda/envs/python35-paddle120-env/lib/python3.7/site-packages/sklearn/model_selection/_validation.py:700: UserWarning: Scoring failed. The score on this train-test partition for these parameters will be set to nan. Details: \r\n",
      "Traceback (most recent call last):\r\n",
      "  File \"/opt/conda/envs/python35-paddle120-env/lib/python3.7/site-packages/sklearn/model_selection/_validation.py\", line 687, in _score\r\n",
      "    scores = scorer(estimator, X_test, y_test)\r\n",
      "  File \"/opt/conda/envs/python35-paddle120-env/lib/python3.7/site-packages/sklearn/metrics/_scorer.py\", line 200, in __call__\r\n",
      "    sample_weight=sample_weight)\r\n",
      "  File \"/opt/conda/envs/python35-paddle120-env/lib/python3.7/site-packages/sklearn/metrics/_scorer.py\", line 243, in _score\r\n",
      "    **self._kwargs)\r\n",
      "  File \"/opt/conda/envs/python35-paddle120-env/lib/python3.7/site-packages/sklearn/utils/validation.py\", line 63, in inner_f\r\n",
      "    return f(*args, **kwargs)\r\n",
      "  File \"/opt/conda/envs/python35-paddle120-env/lib/python3.7/site-packages/sklearn/metrics/_classification.py\", line 1074, in f1_score\r\n",
      "    zero_division=zero_division)\r\n",
      "  File \"/opt/conda/envs/python35-paddle120-env/lib/python3.7/site-packages/sklearn/utils/validation.py\", line 63, in inner_f\r\n",
      "    return f(*args, **kwargs)\r\n",
      "  File \"/opt/conda/envs/python35-paddle120-env/lib/python3.7/site-packages/sklearn/metrics/_classification.py\", line 1202, in fbeta_score\r\n",
      "    zero_division=zero_division)\r\n",
      "  File \"/opt/conda/envs/python35-paddle120-env/lib/python3.7/site-packages/sklearn/utils/validation.py\", line 63, in inner_f\r\n",
      "    return f(*args, **kwargs)\r\n",
      "  File \"/opt/conda/envs/python35-paddle120-env/lib/python3.7/site-packages/sklearn/metrics/_classification.py\", line 1465, in precision_recall_fscore_support\r\n",
      "    pos_label)\r\n",
      "  File \"/opt/conda/envs/python35-paddle120-env/lib/python3.7/site-packages/sklearn/metrics/_classification.py\", line 1296, in _check_set_wise_labels\r\n",
      "    % (y_type, average_options))\r\n",
      "ValueError: Target is multiclass but average='binary'. Please choose another average setting, one of [None, 'micro', 'macro', 'weighted'].\r\n",
      "\r\n",
      "  UserWarning,\r\n",
      "/opt/conda/envs/python35-paddle120-env/lib/python3.7/site-packages/sklearn/utils/validation.py:63: DataConversionWarning: A column-vector y was passed when a 1d array was expected. Please change the shape of y to (n_samples, ), for example using ravel().\r\n",
      "  return f(*args, **kwargs)\r\n",
      "/opt/conda/envs/python35-paddle120-env/lib/python3.7/site-packages/sklearn/model_selection/_validation.py:700: UserWarning: Scoring failed. The score on this train-test partition for these parameters will be set to nan. Details: \r\n",
      "Traceback (most recent call last):\r\n",
      "  File \"/opt/conda/envs/python35-paddle120-env/lib/python3.7/site-packages/sklearn/model_selection/_validation.py\", line 687, in _score\r\n",
      "    scores = scorer(estimator, X_test, y_test)\r\n",
      "  File \"/opt/conda/envs/python35-paddle120-env/lib/python3.7/site-packages/sklearn/metrics/_scorer.py\", line 200, in __call__\r\n",
      "    sample_weight=sample_weight)\r\n",
      "  File \"/opt/conda/envs/python35-paddle120-env/lib/python3.7/site-packages/sklearn/metrics/_scorer.py\", line 243, in _score\r\n",
      "    **self._kwargs)\r\n",
      "  File \"/opt/conda/envs/python35-paddle120-env/lib/python3.7/site-packages/sklearn/utils/validation.py\", line 63, in inner_f\r\n",
      "    return f(*args, **kwargs)\r\n",
      "  File \"/opt/conda/envs/python35-paddle120-env/lib/python3.7/site-packages/sklearn/metrics/_classification.py\", line 1074, in f1_score\r\n",
      "    zero_division=zero_division)\r\n",
      "  File \"/opt/conda/envs/python35-paddle120-env/lib/python3.7/site-packages/sklearn/utils/validation.py\", line 63, in inner_f\r\n",
      "    return f(*args, **kwargs)\r\n",
      "  File \"/opt/conda/envs/python35-paddle120-env/lib/python3.7/site-packages/sklearn/metrics/_classification.py\", line 1202, in fbeta_score\r\n",
      "    zero_division=zero_division)\r\n",
      "  File \"/opt/conda/envs/python35-paddle120-env/lib/python3.7/site-packages/sklearn/utils/validation.py\", line 63, in inner_f\r\n",
      "    return f(*args, **kwargs)\r\n",
      "  File \"/opt/conda/envs/python35-paddle120-env/lib/python3.7/site-packages/sklearn/metrics/_classification.py\", line 1465, in precision_recall_fscore_support\r\n",
      "    pos_label)\r\n",
      "  File \"/opt/conda/envs/python35-paddle120-env/lib/python3.7/site-packages/sklearn/metrics/_classification.py\", line 1296, in _check_set_wise_labels\r\n",
      "    % (y_type, average_options))\r\n",
      "ValueError: Target is multiclass but average='binary'. Please choose another average setting, one of [None, 'micro', 'macro', 'weighted'].\r\n",
      "\r\n",
      "  UserWarning,\r\n",
      "/opt/conda/envs/python35-paddle120-env/lib/python3.7/site-packages/sklearn/utils/validation.py:63: DataConversionWarning: A column-vector y was passed when a 1d array was expected. Please change the shape of y to (n_samples, ), for example using ravel().\r\n",
      "  return f(*args, **kwargs)\r\n",
      "/opt/conda/envs/python35-paddle120-env/lib/python3.7/site-packages/sklearn/model_selection/_validation.py:700: UserWarning: Scoring failed. The score on this train-test partition for these parameters will be set to nan. Details: \r\n",
      "Traceback (most recent call last):\r\n",
      "  File \"/opt/conda/envs/python35-paddle120-env/lib/python3.7/site-packages/sklearn/model_selection/_validation.py\", line 687, in _score\r\n",
      "    scores = scorer(estimator, X_test, y_test)\r\n",
      "  File \"/opt/conda/envs/python35-paddle120-env/lib/python3.7/site-packages/sklearn/metrics/_scorer.py\", line 200, in __call__\r\n",
      "    sample_weight=sample_weight)\r\n",
      "  File \"/opt/conda/envs/python35-paddle120-env/lib/python3.7/site-packages/sklearn/metrics/_scorer.py\", line 243, in _score\r\n",
      "    **self._kwargs)\r\n",
      "  File \"/opt/conda/envs/python35-paddle120-env/lib/python3.7/site-packages/sklearn/utils/validation.py\", line 63, in inner_f\r\n",
      "    return f(*args, **kwargs)\r\n",
      "  File \"/opt/conda/envs/python35-paddle120-env/lib/python3.7/site-packages/sklearn/metrics/_classification.py\", line 1074, in f1_score\r\n",
      "    zero_division=zero_division)\r\n",
      "  File \"/opt/conda/envs/python35-paddle120-env/lib/python3.7/site-packages/sklearn/utils/validation.py\", line 63, in inner_f\r\n",
      "    return f(*args, **kwargs)\r\n",
      "  File \"/opt/conda/envs/python35-paddle120-env/lib/python3.7/site-packages/sklearn/metrics/_classification.py\", line 1202, in fbeta_score\r\n",
      "    zero_division=zero_division)\r\n",
      "  File \"/opt/conda/envs/python35-paddle120-env/lib/python3.7/site-packages/sklearn/utils/validation.py\", line 63, in inner_f\r\n",
      "    return f(*args, **kwargs)\r\n",
      "  File \"/opt/conda/envs/python35-paddle120-env/lib/python3.7/site-packages/sklearn/metrics/_classification.py\", line 1465, in precision_recall_fscore_support\r\n",
      "    pos_label)\r\n",
      "  File \"/opt/conda/envs/python35-paddle120-env/lib/python3.7/site-packages/sklearn/metrics/_classification.py\", line 1296, in _check_set_wise_labels\r\n",
      "    % (y_type, average_options))\r\n",
      "ValueError: Target is multiclass but average='binary'. Please choose another average setting, one of [None, 'micro', 'macro', 'weighted'].\r\n",
      "\r\n",
      "  UserWarning,\r\n",
      "/opt/conda/envs/python35-paddle120-env/lib/python3.7/site-packages/sklearn/utils/validation.py:63: DataConversionWarning: A column-vector y was passed when a 1d array was expected. Please change the shape of y to (n_samples, ), for example using ravel().\r\n",
      "  return f(*args, **kwargs)\r\n",
      "/opt/conda/envs/python35-paddle120-env/lib/python3.7/site-packages/sklearn/model_selection/_validation.py:700: UserWarning: Scoring failed. The score on this train-test partition for these parameters will be set to nan. Details: \r\n",
      "Traceback (most recent call last):\r\n",
      "  File \"/opt/conda/envs/python35-paddle120-env/lib/python3.7/site-packages/sklearn/model_selection/_validation.py\", line 687, in _score\r\n",
      "    scores = scorer(estimator, X_test, y_test)\r\n",
      "  File \"/opt/conda/envs/python35-paddle120-env/lib/python3.7/site-packages/sklearn/metrics/_scorer.py\", line 200, in __call__\r\n",
      "    sample_weight=sample_weight)\r\n",
      "  File \"/opt/conda/envs/python35-paddle120-env/lib/python3.7/site-packages/sklearn/metrics/_scorer.py\", line 243, in _score\r\n",
      "    **self._kwargs)\r\n",
      "  File \"/opt/conda/envs/python35-paddle120-env/lib/python3.7/site-packages/sklearn/utils/validation.py\", line 63, in inner_f\r\n",
      "    return f(*args, **kwargs)\r\n",
      "  File \"/opt/conda/envs/python35-paddle120-env/lib/python3.7/site-packages/sklearn/metrics/_classification.py\", line 1074, in f1_score\r\n",
      "    zero_division=zero_division)\r\n",
      "  File \"/opt/conda/envs/python35-paddle120-env/lib/python3.7/site-packages/sklearn/utils/validation.py\", line 63, in inner_f\r\n",
      "    return f(*args, **kwargs)\r\n",
      "  File \"/opt/conda/envs/python35-paddle120-env/lib/python3.7/site-packages/sklearn/metrics/_classification.py\", line 1202, in fbeta_score\r\n",
      "    zero_division=zero_division)\r\n",
      "  File \"/opt/conda/envs/python35-paddle120-env/lib/python3.7/site-packages/sklearn/utils/validation.py\", line 63, in inner_f\r\n",
      "    return f(*args, **kwargs)\r\n",
      "  File \"/opt/conda/envs/python35-paddle120-env/lib/python3.7/site-packages/sklearn/metrics/_classification.py\", line 1465, in precision_recall_fscore_support\r\n",
      "    pos_label)\r\n",
      "  File \"/opt/conda/envs/python35-paddle120-env/lib/python3.7/site-packages/sklearn/metrics/_classification.py\", line 1296, in _check_set_wise_labels\r\n",
      "    % (y_type, average_options))\r\n",
      "ValueError: Target is multiclass but average='binary'. Please choose another average setting, one of [None, 'micro', 'macro', 'weighted'].\r\n",
      "\r\n",
      "  UserWarning,\r\n",
      "/opt/conda/envs/python35-paddle120-env/lib/python3.7/site-packages/sklearn/utils/validation.py:63: DataConversionWarning: A column-vector y was passed when a 1d array was expected. Please change the shape of y to (n_samples, ), for example using ravel().\r\n",
      "  return f(*args, **kwargs)\r\n",
      "/opt/conda/envs/python35-paddle120-env/lib/python3.7/site-packages/sklearn/model_selection/_validation.py:700: UserWarning: Scoring failed. The score on this train-test partition for these parameters will be set to nan. Details: \r\n",
      "Traceback (most recent call last):\r\n",
      "  File \"/opt/conda/envs/python35-paddle120-env/lib/python3.7/site-packages/sklearn/model_selection/_validation.py\", line 687, in _score\r\n",
      "    scores = scorer(estimator, X_test, y_test)\r\n",
      "  File \"/opt/conda/envs/python35-paddle120-env/lib/python3.7/site-packages/sklearn/metrics/_scorer.py\", line 200, in __call__\r\n",
      "    sample_weight=sample_weight)\r\n",
      "  File \"/opt/conda/envs/python35-paddle120-env/lib/python3.7/site-packages/sklearn/metrics/_scorer.py\", line 243, in _score\r\n",
      "    **self._kwargs)\r\n",
      "  File \"/opt/conda/envs/python35-paddle120-env/lib/python3.7/site-packages/sklearn/utils/validation.py\", line 63, in inner_f\r\n",
      "    return f(*args, **kwargs)\r\n",
      "  File \"/opt/conda/envs/python35-paddle120-env/lib/python3.7/site-packages/sklearn/metrics/_classification.py\", line 1074, in f1_score\r\n",
      "    zero_division=zero_division)\r\n",
      "  File \"/opt/conda/envs/python35-paddle120-env/lib/python3.7/site-packages/sklearn/utils/validation.py\", line 63, in inner_f\r\n",
      "    return f(*args, **kwargs)\r\n",
      "  File \"/opt/conda/envs/python35-paddle120-env/lib/python3.7/site-packages/sklearn/metrics/_classification.py\", line 1202, in fbeta_score\r\n",
      "    zero_division=zero_division)\r\n",
      "  File \"/opt/conda/envs/python35-paddle120-env/lib/python3.7/site-packages/sklearn/utils/validation.py\", line 63, in inner_f\r\n",
      "    return f(*args, **kwargs)\r\n",
      "  File \"/opt/conda/envs/python35-paddle120-env/lib/python3.7/site-packages/sklearn/metrics/_classification.py\", line 1465, in precision_recall_fscore_support\r\n",
      "    pos_label)\r\n",
      "  File \"/opt/conda/envs/python35-paddle120-env/lib/python3.7/site-packages/sklearn/metrics/_classification.py\", line 1296, in _check_set_wise_labels\r\n",
      "    % (y_type, average_options))\r\n",
      "ValueError: Target is multiclass but average='binary'. Please choose another average setting, one of [None, 'micro', 'macro', 'weighted'].\r\n",
      "\r\n",
      "  UserWarning,\r\n",
      "/opt/conda/envs/python35-paddle120-env/lib/python3.7/site-packages/sklearn/utils/validation.py:63: DataConversionWarning: A column-vector y was passed when a 1d array was expected. Please change the shape of y to (n_samples, ), for example using ravel().\r\n",
      "  return f(*args, **kwargs)\r\n",
      "/opt/conda/envs/python35-paddle120-env/lib/python3.7/site-packages/sklearn/model_selection/_validation.py:700: UserWarning: Scoring failed. The score on this train-test partition for these parameters will be set to nan. Details: \r\n",
      "Traceback (most recent call last):\r\n",
      "  File \"/opt/conda/envs/python35-paddle120-env/lib/python3.7/site-packages/sklearn/model_selection/_validation.py\", line 687, in _score\r\n",
      "    scores = scorer(estimator, X_test, y_test)\r\n",
      "  File \"/opt/conda/envs/python35-paddle120-env/lib/python3.7/site-packages/sklearn/metrics/_scorer.py\", line 200, in __call__\r\n",
      "    sample_weight=sample_weight)\r\n",
      "  File \"/opt/conda/envs/python35-paddle120-env/lib/python3.7/site-packages/sklearn/metrics/_scorer.py\", line 243, in _score\r\n",
      "    **self._kwargs)\r\n",
      "  File \"/opt/conda/envs/python35-paddle120-env/lib/python3.7/site-packages/sklearn/utils/validation.py\", line 63, in inner_f\r\n",
      "    return f(*args, **kwargs)\r\n",
      "  File \"/opt/conda/envs/python35-paddle120-env/lib/python3.7/site-packages/sklearn/metrics/_classification.py\", line 1074, in f1_score\r\n",
      "    zero_division=zero_division)\r\n",
      "  File \"/opt/conda/envs/python35-paddle120-env/lib/python3.7/site-packages/sklearn/utils/validation.py\", line 63, in inner_f\r\n",
      "    return f(*args, **kwargs)\r\n",
      "  File \"/opt/conda/envs/python35-paddle120-env/lib/python3.7/site-packages/sklearn/metrics/_classification.py\", line 1202, in fbeta_score\r\n",
      "    zero_division=zero_division)\r\n",
      "  File \"/opt/conda/envs/python35-paddle120-env/lib/python3.7/site-packages/sklearn/utils/validation.py\", line 63, in inner_f\r\n",
      "    return f(*args, **kwargs)\r\n",
      "  File \"/opt/conda/envs/python35-paddle120-env/lib/python3.7/site-packages/sklearn/metrics/_classification.py\", line 1465, in precision_recall_fscore_support\r\n",
      "    pos_label)\r\n",
      "  File \"/opt/conda/envs/python35-paddle120-env/lib/python3.7/site-packages/sklearn/metrics/_classification.py\", line 1296, in _check_set_wise_labels\r\n",
      "    % (y_type, average_options))\r\n",
      "ValueError: Target is multiclass but average='binary'. Please choose another average setting, one of [None, 'micro', 'macro', 'weighted'].\r\n",
      "\r\n",
      "  UserWarning,\r\n",
      "/opt/conda/envs/python35-paddle120-env/lib/python3.7/site-packages/sklearn/utils/validation.py:63: DataConversionWarning: A column-vector y was passed when a 1d array was expected. Please change the shape of y to (n_samples, ), for example using ravel().\r\n",
      "  return f(*args, **kwargs)\r\n",
      "/opt/conda/envs/python35-paddle120-env/lib/python3.7/site-packages/sklearn/model_selection/_validation.py:700: UserWarning: Scoring failed. The score on this train-test partition for these parameters will be set to nan. Details: \r\n",
      "Traceback (most recent call last):\r\n",
      "  File \"/opt/conda/envs/python35-paddle120-env/lib/python3.7/site-packages/sklearn/model_selection/_validation.py\", line 687, in _score\r\n",
      "    scores = scorer(estimator, X_test, y_test)\r\n",
      "  File \"/opt/conda/envs/python35-paddle120-env/lib/python3.7/site-packages/sklearn/metrics/_scorer.py\", line 200, in __call__\r\n",
      "    sample_weight=sample_weight)\r\n",
      "  File \"/opt/conda/envs/python35-paddle120-env/lib/python3.7/site-packages/sklearn/metrics/_scorer.py\", line 243, in _score\r\n",
      "    **self._kwargs)\r\n",
      "  File \"/opt/conda/envs/python35-paddle120-env/lib/python3.7/site-packages/sklearn/utils/validation.py\", line 63, in inner_f\r\n",
      "    return f(*args, **kwargs)\r\n",
      "  File \"/opt/conda/envs/python35-paddle120-env/lib/python3.7/site-packages/sklearn/metrics/_classification.py\", line 1074, in f1_score\r\n",
      "    zero_division=zero_division)\r\n",
      "  File \"/opt/conda/envs/python35-paddle120-env/lib/python3.7/site-packages/sklearn/utils/validation.py\", line 63, in inner_f\r\n",
      "    return f(*args, **kwargs)\r\n",
      "  File \"/opt/conda/envs/python35-paddle120-env/lib/python3.7/site-packages/sklearn/metrics/_classification.py\", line 1202, in fbeta_score\r\n",
      "    zero_division=zero_division)\r\n",
      "  File \"/opt/conda/envs/python35-paddle120-env/lib/python3.7/site-packages/sklearn/utils/validation.py\", line 63, in inner_f\r\n",
      "    return f(*args, **kwargs)\r\n",
      "  File \"/opt/conda/envs/python35-paddle120-env/lib/python3.7/site-packages/sklearn/metrics/_classification.py\", line 1465, in precision_recall_fscore_support\r\n",
      "    pos_label)\r\n",
      "  File \"/opt/conda/envs/python35-paddle120-env/lib/python3.7/site-packages/sklearn/metrics/_classification.py\", line 1296, in _check_set_wise_labels\r\n",
      "    % (y_type, average_options))\r\n",
      "ValueError: Target is multiclass but average='binary'. Please choose another average setting, one of [None, 'micro', 'macro', 'weighted'].\r\n",
      "\r\n",
      "  UserWarning,\r\n",
      "/opt/conda/envs/python35-paddle120-env/lib/python3.7/site-packages/sklearn/utils/validation.py:63: DataConversionWarning: A column-vector y was passed when a 1d array was expected. Please change the shape of y to (n_samples, ), for example using ravel().\r\n",
      "  return f(*args, **kwargs)\r\n",
      "/opt/conda/envs/python35-paddle120-env/lib/python3.7/site-packages/sklearn/model_selection/_validation.py:700: UserWarning: Scoring failed. The score on this train-test partition for these parameters will be set to nan. Details: \r\n",
      "Traceback (most recent call last):\r\n",
      "  File \"/opt/conda/envs/python35-paddle120-env/lib/python3.7/site-packages/sklearn/model_selection/_validation.py\", line 687, in _score\r\n",
      "    scores = scorer(estimator, X_test, y_test)\r\n",
      "  File \"/opt/conda/envs/python35-paddle120-env/lib/python3.7/site-packages/sklearn/metrics/_scorer.py\", line 200, in __call__\r\n",
      "    sample_weight=sample_weight)\r\n",
      "  File \"/opt/conda/envs/python35-paddle120-env/lib/python3.7/site-packages/sklearn/metrics/_scorer.py\", line 243, in _score\r\n",
      "    **self._kwargs)\r\n",
      "  File \"/opt/conda/envs/python35-paddle120-env/lib/python3.7/site-packages/sklearn/utils/validation.py\", line 63, in inner_f\r\n",
      "    return f(*args, **kwargs)\r\n",
      "  File \"/opt/conda/envs/python35-paddle120-env/lib/python3.7/site-packages/sklearn/metrics/_classification.py\", line 1074, in f1_score\r\n",
      "    zero_division=zero_division)\r\n",
      "  File \"/opt/conda/envs/python35-paddle120-env/lib/python3.7/site-packages/sklearn/utils/validation.py\", line 63, in inner_f\r\n",
      "    return f(*args, **kwargs)\r\n",
      "  File \"/opt/conda/envs/python35-paddle120-env/lib/python3.7/site-packages/sklearn/metrics/_classification.py\", line 1202, in fbeta_score\r\n",
      "    zero_division=zero_division)\r\n",
      "  File \"/opt/conda/envs/python35-paddle120-env/lib/python3.7/site-packages/sklearn/utils/validation.py\", line 63, in inner_f\r\n",
      "    return f(*args, **kwargs)\r\n",
      "  File \"/opt/conda/envs/python35-paddle120-env/lib/python3.7/site-packages/sklearn/metrics/_classification.py\", line 1465, in precision_recall_fscore_support\r\n",
      "    pos_label)\r\n",
      "  File \"/opt/conda/envs/python35-paddle120-env/lib/python3.7/site-packages/sklearn/metrics/_classification.py\", line 1296, in _check_set_wise_labels\r\n",
      "    % (y_type, average_options))\r\n",
      "ValueError: Target is multiclass but average='binary'. Please choose another average setting, one of [None, 'micro', 'macro', 'weighted'].\r\n",
      "\r\n",
      "  UserWarning,\r\n",
      "/opt/conda/envs/python35-paddle120-env/lib/python3.7/site-packages/sklearn/utils/validation.py:63: DataConversionWarning: A column-vector y was passed when a 1d array was expected. Please change the shape of y to (n_samples, ), for example using ravel().\r\n",
      "  return f(*args, **kwargs)\r\n",
      "/opt/conda/envs/python35-paddle120-env/lib/python3.7/site-packages/sklearn/model_selection/_validation.py:700: UserWarning: Scoring failed. The score on this train-test partition for these parameters will be set to nan. Details: \r\n",
      "Traceback (most recent call last):\r\n",
      "  File \"/opt/conda/envs/python35-paddle120-env/lib/python3.7/site-packages/sklearn/model_selection/_validation.py\", line 687, in _score\r\n",
      "    scores = scorer(estimator, X_test, y_test)\r\n",
      "  File \"/opt/conda/envs/python35-paddle120-env/lib/python3.7/site-packages/sklearn/metrics/_scorer.py\", line 200, in __call__\r\n",
      "    sample_weight=sample_weight)\r\n",
      "  File \"/opt/conda/envs/python35-paddle120-env/lib/python3.7/site-packages/sklearn/metrics/_scorer.py\", line 243, in _score\r\n",
      "    **self._kwargs)\r\n",
      "  File \"/opt/conda/envs/python35-paddle120-env/lib/python3.7/site-packages/sklearn/utils/validation.py\", line 63, in inner_f\r\n",
      "    return f(*args, **kwargs)\r\n",
      "  File \"/opt/conda/envs/python35-paddle120-env/lib/python3.7/site-packages/sklearn/metrics/_classification.py\", line 1074, in f1_score\r\n",
      "    zero_division=zero_division)\r\n",
      "  File \"/opt/conda/envs/python35-paddle120-env/lib/python3.7/site-packages/sklearn/utils/validation.py\", line 63, in inner_f\r\n",
      "    return f(*args, **kwargs)\r\n",
      "  File \"/opt/conda/envs/python35-paddle120-env/lib/python3.7/site-packages/sklearn/metrics/_classification.py\", line 1202, in fbeta_score\r\n",
      "    zero_division=zero_division)\r\n",
      "  File \"/opt/conda/envs/python35-paddle120-env/lib/python3.7/site-packages/sklearn/utils/validation.py\", line 63, in inner_f\r\n",
      "    return f(*args, **kwargs)\r\n",
      "  File \"/opt/conda/envs/python35-paddle120-env/lib/python3.7/site-packages/sklearn/metrics/_classification.py\", line 1465, in precision_recall_fscore_support\r\n",
      "    pos_label)\r\n",
      "  File \"/opt/conda/envs/python35-paddle120-env/lib/python3.7/site-packages/sklearn/metrics/_classification.py\", line 1296, in _check_set_wise_labels\r\n",
      "    % (y_type, average_options))\r\n",
      "ValueError: Target is multiclass but average='binary'. Please choose another average setting, one of [None, 'micro', 'macro', 'weighted'].\r\n",
      "\r\n",
      "  UserWarning,\r\n",
      "/opt/conda/envs/python35-paddle120-env/lib/python3.7/site-packages/sklearn/utils/validation.py:63: DataConversionWarning: A column-vector y was passed when a 1d array was expected. Please change the shape of y to (n_samples, ), for example using ravel().\r\n",
      "  return f(*args, **kwargs)\r\n",
      "/opt/conda/envs/python35-paddle120-env/lib/python3.7/site-packages/sklearn/model_selection/_validation.py:700: UserWarning: Scoring failed. The score on this train-test partition for these parameters will be set to nan. Details: \r\n",
      "Traceback (most recent call last):\r\n",
      "  File \"/opt/conda/envs/python35-paddle120-env/lib/python3.7/site-packages/sklearn/model_selection/_validation.py\", line 687, in _score\r\n",
      "    scores = scorer(estimator, X_test, y_test)\r\n",
      "  File \"/opt/conda/envs/python35-paddle120-env/lib/python3.7/site-packages/sklearn/metrics/_scorer.py\", line 200, in __call__\r\n",
      "    sample_weight=sample_weight)\r\n",
      "  File \"/opt/conda/envs/python35-paddle120-env/lib/python3.7/site-packages/sklearn/metrics/_scorer.py\", line 243, in _score\r\n",
      "    **self._kwargs)\r\n",
      "  File \"/opt/conda/envs/python35-paddle120-env/lib/python3.7/site-packages/sklearn/utils/validation.py\", line 63, in inner_f\r\n",
      "    return f(*args, **kwargs)\r\n",
      "  File \"/opt/conda/envs/python35-paddle120-env/lib/python3.7/site-packages/sklearn/metrics/_classification.py\", line 1074, in f1_score\r\n",
      "    zero_division=zero_division)\r\n",
      "  File \"/opt/conda/envs/python35-paddle120-env/lib/python3.7/site-packages/sklearn/utils/validation.py\", line 63, in inner_f\r\n",
      "    return f(*args, **kwargs)\r\n",
      "  File \"/opt/conda/envs/python35-paddle120-env/lib/python3.7/site-packages/sklearn/metrics/_classification.py\", line 1202, in fbeta_score\r\n",
      "    zero_division=zero_division)\r\n",
      "  File \"/opt/conda/envs/python35-paddle120-env/lib/python3.7/site-packages/sklearn/utils/validation.py\", line 63, in inner_f\r\n",
      "    return f(*args, **kwargs)\r\n",
      "  File \"/opt/conda/envs/python35-paddle120-env/lib/python3.7/site-packages/sklearn/metrics/_classification.py\", line 1465, in precision_recall_fscore_support\r\n",
      "    pos_label)\r\n",
      "  File \"/opt/conda/envs/python35-paddle120-env/lib/python3.7/site-packages/sklearn/metrics/_classification.py\", line 1296, in _check_set_wise_labels\r\n",
      "    % (y_type, average_options))\r\n",
      "ValueError: Target is multiclass but average='binary'. Please choose another average setting, one of [None, 'micro', 'macro', 'weighted'].\r\n",
      "\r\n",
      "  UserWarning,\r\n",
      "/opt/conda/envs/python35-paddle120-env/lib/python3.7/site-packages/sklearn/utils/validation.py:63: DataConversionWarning: A column-vector y was passed when a 1d array was expected. Please change the shape of y to (n_samples, ), for example using ravel().\r\n",
      "  return f(*args, **kwargs)\r\n",
      "/opt/conda/envs/python35-paddle120-env/lib/python3.7/site-packages/sklearn/model_selection/_validation.py:700: UserWarning: Scoring failed. The score on this train-test partition for these parameters will be set to nan. Details: \r\n",
      "Traceback (most recent call last):\r\n",
      "  File \"/opt/conda/envs/python35-paddle120-env/lib/python3.7/site-packages/sklearn/model_selection/_validation.py\", line 687, in _score\r\n",
      "    scores = scorer(estimator, X_test, y_test)\r\n",
      "  File \"/opt/conda/envs/python35-paddle120-env/lib/python3.7/site-packages/sklearn/metrics/_scorer.py\", line 200, in __call__\r\n",
      "    sample_weight=sample_weight)\r\n",
      "  File \"/opt/conda/envs/python35-paddle120-env/lib/python3.7/site-packages/sklearn/metrics/_scorer.py\", line 243, in _score\r\n",
      "    **self._kwargs)\r\n",
      "  File \"/opt/conda/envs/python35-paddle120-env/lib/python3.7/site-packages/sklearn/utils/validation.py\", line 63, in inner_f\r\n",
      "    return f(*args, **kwargs)\r\n",
      "  File \"/opt/conda/envs/python35-paddle120-env/lib/python3.7/site-packages/sklearn/metrics/_classification.py\", line 1074, in f1_score\r\n",
      "    zero_division=zero_division)\r\n",
      "  File \"/opt/conda/envs/python35-paddle120-env/lib/python3.7/site-packages/sklearn/utils/validation.py\", line 63, in inner_f\r\n",
      "    return f(*args, **kwargs)\r\n",
      "  File \"/opt/conda/envs/python35-paddle120-env/lib/python3.7/site-packages/sklearn/metrics/_classification.py\", line 1202, in fbeta_score\r\n",
      "    zero_division=zero_division)\r\n",
      "  File \"/opt/conda/envs/python35-paddle120-env/lib/python3.7/site-packages/sklearn/utils/validation.py\", line 63, in inner_f\r\n",
      "    return f(*args, **kwargs)\r\n",
      "  File \"/opt/conda/envs/python35-paddle120-env/lib/python3.7/site-packages/sklearn/metrics/_classification.py\", line 1465, in precision_recall_fscore_support\r\n",
      "    pos_label)\r\n",
      "  File \"/opt/conda/envs/python35-paddle120-env/lib/python3.7/site-packages/sklearn/metrics/_classification.py\", line 1296, in _check_set_wise_labels\r\n",
      "    % (y_type, average_options))\r\n",
      "ValueError: Target is multiclass but average='binary'. Please choose another average setting, one of [None, 'micro', 'macro', 'weighted'].\r\n",
      "\r\n",
      "  UserWarning,\r\n",
      "/opt/conda/envs/python35-paddle120-env/lib/python3.7/site-packages/sklearn/utils/validation.py:63: DataConversionWarning: A column-vector y was passed when a 1d array was expected. Please change the shape of y to (n_samples, ), for example using ravel().\r\n",
      "  return f(*args, **kwargs)\r\n",
      "/opt/conda/envs/python35-paddle120-env/lib/python3.7/site-packages/sklearn/model_selection/_validation.py:700: UserWarning: Scoring failed. The score on this train-test partition for these parameters will be set to nan. Details: \r\n",
      "Traceback (most recent call last):\r\n",
      "  File \"/opt/conda/envs/python35-paddle120-env/lib/python3.7/site-packages/sklearn/model_selection/_validation.py\", line 687, in _score\r\n",
      "    scores = scorer(estimator, X_test, y_test)\r\n",
      "  File \"/opt/conda/envs/python35-paddle120-env/lib/python3.7/site-packages/sklearn/metrics/_scorer.py\", line 200, in __call__\r\n",
      "    sample_weight=sample_weight)\r\n",
      "  File \"/opt/conda/envs/python35-paddle120-env/lib/python3.7/site-packages/sklearn/metrics/_scorer.py\", line 243, in _score\r\n",
      "    **self._kwargs)\r\n",
      "  File \"/opt/conda/envs/python35-paddle120-env/lib/python3.7/site-packages/sklearn/utils/validation.py\", line 63, in inner_f\r\n",
      "    return f(*args, **kwargs)\r\n",
      "  File \"/opt/conda/envs/python35-paddle120-env/lib/python3.7/site-packages/sklearn/metrics/_classification.py\", line 1074, in f1_score\r\n",
      "    zero_division=zero_division)\r\n",
      "  File \"/opt/conda/envs/python35-paddle120-env/lib/python3.7/site-packages/sklearn/utils/validation.py\", line 63, in inner_f\r\n",
      "    return f(*args, **kwargs)\r\n",
      "  File \"/opt/conda/envs/python35-paddle120-env/lib/python3.7/site-packages/sklearn/metrics/_classification.py\", line 1202, in fbeta_score\r\n",
      "    zero_division=zero_division)\r\n",
      "  File \"/opt/conda/envs/python35-paddle120-env/lib/python3.7/site-packages/sklearn/utils/validation.py\", line 63, in inner_f\r\n",
      "    return f(*args, **kwargs)\r\n",
      "  File \"/opt/conda/envs/python35-paddle120-env/lib/python3.7/site-packages/sklearn/metrics/_classification.py\", line 1465, in precision_recall_fscore_support\r\n",
      "    pos_label)\r\n",
      "  File \"/opt/conda/envs/python35-paddle120-env/lib/python3.7/site-packages/sklearn/metrics/_classification.py\", line 1296, in _check_set_wise_labels\r\n",
      "    % (y_type, average_options))\r\n",
      "ValueError: Target is multiclass but average='binary'. Please choose another average setting, one of [None, 'micro', 'macro', 'weighted'].\r\n",
      "\r\n",
      "  UserWarning,\r\n",
      "/opt/conda/envs/python35-paddle120-env/lib/python3.7/site-packages/sklearn/utils/validation.py:63: DataConversionWarning: A column-vector y was passed when a 1d array was expected. Please change the shape of y to (n_samples, ), for example using ravel().\r\n",
      "  return f(*args, **kwargs)\r\n",
      "/opt/conda/envs/python35-paddle120-env/lib/python3.7/site-packages/sklearn/model_selection/_validation.py:700: UserWarning: Scoring failed. The score on this train-test partition for these parameters will be set to nan. Details: \r\n",
      "Traceback (most recent call last):\r\n",
      "  File \"/opt/conda/envs/python35-paddle120-env/lib/python3.7/site-packages/sklearn/model_selection/_validation.py\", line 687, in _score\r\n",
      "    scores = scorer(estimator, X_test, y_test)\r\n",
      "  File \"/opt/conda/envs/python35-paddle120-env/lib/python3.7/site-packages/sklearn/metrics/_scorer.py\", line 200, in __call__\r\n",
      "    sample_weight=sample_weight)\r\n",
      "  File \"/opt/conda/envs/python35-paddle120-env/lib/python3.7/site-packages/sklearn/metrics/_scorer.py\", line 243, in _score\r\n",
      "    **self._kwargs)\r\n",
      "  File \"/opt/conda/envs/python35-paddle120-env/lib/python3.7/site-packages/sklearn/utils/validation.py\", line 63, in inner_f\r\n",
      "    return f(*args, **kwargs)\r\n",
      "  File \"/opt/conda/envs/python35-paddle120-env/lib/python3.7/site-packages/sklearn/metrics/_classification.py\", line 1074, in f1_score\r\n",
      "    zero_division=zero_division)\r\n",
      "  File \"/opt/conda/envs/python35-paddle120-env/lib/python3.7/site-packages/sklearn/utils/validation.py\", line 63, in inner_f\r\n",
      "    return f(*args, **kwargs)\r\n",
      "  File \"/opt/conda/envs/python35-paddle120-env/lib/python3.7/site-packages/sklearn/metrics/_classification.py\", line 1202, in fbeta_score\r\n",
      "    zero_division=zero_division)\r\n",
      "  File \"/opt/conda/envs/python35-paddle120-env/lib/python3.7/site-packages/sklearn/utils/validation.py\", line 63, in inner_f\r\n",
      "    return f(*args, **kwargs)\r\n",
      "  File \"/opt/conda/envs/python35-paddle120-env/lib/python3.7/site-packages/sklearn/metrics/_classification.py\", line 1465, in precision_recall_fscore_support\r\n",
      "    pos_label)\r\n",
      "  File \"/opt/conda/envs/python35-paddle120-env/lib/python3.7/site-packages/sklearn/metrics/_classification.py\", line 1296, in _check_set_wise_labels\r\n",
      "    % (y_type, average_options))\r\n",
      "ValueError: Target is multiclass but average='binary'. Please choose another average setting, one of [None, 'micro', 'macro', 'weighted'].\r\n",
      "\r\n",
      "  UserWarning,\r\n",
      "/opt/conda/envs/python35-paddle120-env/lib/python3.7/site-packages/sklearn/utils/validation.py:63: DataConversionWarning: A column-vector y was passed when a 1d array was expected. Please change the shape of y to (n_samples, ), for example using ravel().\r\n",
      "  return f(*args, **kwargs)\r\n",
      "/opt/conda/envs/python35-paddle120-env/lib/python3.7/site-packages/sklearn/model_selection/_validation.py:700: UserWarning: Scoring failed. The score on this train-test partition for these parameters will be set to nan. Details: \r\n",
      "Traceback (most recent call last):\r\n",
      "  File \"/opt/conda/envs/python35-paddle120-env/lib/python3.7/site-packages/sklearn/model_selection/_validation.py\", line 687, in _score\r\n",
      "    scores = scorer(estimator, X_test, y_test)\r\n",
      "  File \"/opt/conda/envs/python35-paddle120-env/lib/python3.7/site-packages/sklearn/metrics/_scorer.py\", line 200, in __call__\r\n",
      "    sample_weight=sample_weight)\r\n",
      "  File \"/opt/conda/envs/python35-paddle120-env/lib/python3.7/site-packages/sklearn/metrics/_scorer.py\", line 243, in _score\r\n",
      "    **self._kwargs)\r\n",
      "  File \"/opt/conda/envs/python35-paddle120-env/lib/python3.7/site-packages/sklearn/utils/validation.py\", line 63, in inner_f\r\n",
      "    return f(*args, **kwargs)\r\n",
      "  File \"/opt/conda/envs/python35-paddle120-env/lib/python3.7/site-packages/sklearn/metrics/_classification.py\", line 1074, in f1_score\r\n",
      "    zero_division=zero_division)\r\n",
      "  File \"/opt/conda/envs/python35-paddle120-env/lib/python3.7/site-packages/sklearn/utils/validation.py\", line 63, in inner_f\r\n",
      "    return f(*args, **kwargs)\r\n",
      "  File \"/opt/conda/envs/python35-paddle120-env/lib/python3.7/site-packages/sklearn/metrics/_classification.py\", line 1202, in fbeta_score\r\n",
      "    zero_division=zero_division)\r\n",
      "  File \"/opt/conda/envs/python35-paddle120-env/lib/python3.7/site-packages/sklearn/utils/validation.py\", line 63, in inner_f\r\n",
      "    return f(*args, **kwargs)\r\n",
      "  File \"/opt/conda/envs/python35-paddle120-env/lib/python3.7/site-packages/sklearn/metrics/_classification.py\", line 1465, in precision_recall_fscore_support\r\n",
      "    pos_label)\r\n",
      "  File \"/opt/conda/envs/python35-paddle120-env/lib/python3.7/site-packages/sklearn/metrics/_classification.py\", line 1296, in _check_set_wise_labels\r\n",
      "    % (y_type, average_options))\r\n",
      "ValueError: Target is multiclass but average='binary'. Please choose another average setting, one of [None, 'micro', 'macro', 'weighted'].\r\n",
      "\r\n",
      "  UserWarning,\r\n",
      "/opt/conda/envs/python35-paddle120-env/lib/python3.7/site-packages/sklearn/model_selection/_search.py:925: UserWarning: One or more of the test scores are non-finite: [nan nan nan nan nan nan nan nan nan nan nan nan nan nan nan nan nan nan\r\n",
      " nan nan nan nan nan nan nan nan nan nan nan nan nan nan nan nan nan nan]\r\n",
      "  category=UserWarning\r\n",
      "/opt/conda/envs/python35-paddle120-env/lib/python3.7/site-packages/sklearn/utils/validation.py:63: DataConversionWarning: A column-vector y was passed when a 1d array was expected. Please change the shape of y to (n_samples, ), for example using ravel().\r\n",
      "  return f(*args, **kwargs)\r\n"
     ]
    },
    {
     "name": "stdout",
     "output_type": "stream",
     "text": [
      "The parameters of the best model are: \r\n",
      "{'C': 1, 'gamma': 0.125, 'kernel': 'linear'}\r\n"
     ]
    }
   ],
   "source": [
    "svr = svm.SVC()\n",
    "parameters = {'kernel':('linear', 'rbf'), 'C':[1, 2, 4], 'gamma':[0.125, 0.25, 0.5 ,1, 2, 4]}\n",
    "clf2 = GridSearchCV(svr, parameters, scoring='f1')\n",
    "clf2.fit(X_svm, Y_svm)\n",
    "print('The parameters of the best model are: ')\n",
    "print(clf2.best_params_)"
   ]
  },
  {
   "cell_type": "code",
   "execution_count": 14,
   "id": "84090a05-cdba-4267-b579-5f24b47d1473",
   "metadata": {
    "execution": {
     "iopub.execute_input": "2023-03-03T01:41:02.546811Z",
     "iopub.status.busy": "2023-03-03T01:41:02.546022Z",
     "iopub.status.idle": "2023-03-03T01:41:02.657917Z",
     "shell.execute_reply": "2023-03-03T01:41:02.656755Z",
     "shell.execute_reply.started": "2023-03-03T01:41:02.546763Z"
    },
    "scrolled": true,
    "tags": []
   },
   "outputs": [],
   "source": [
    "df_test=df.sample(n=500)"
   ]
  },
  {
   "cell_type": "code",
   "execution_count": 15,
   "id": "7802c640-38c3-4cdc-9dc8-fb88d558c51f",
   "metadata": {
    "execution": {
     "iopub.execute_input": "2023-03-03T01:41:26.119257Z",
     "iopub.status.busy": "2023-03-03T01:41:26.118442Z",
     "iopub.status.idle": "2023-03-03T01:41:26.125855Z",
     "shell.execute_reply": "2023-03-03T01:41:26.124769Z",
     "shell.execute_reply.started": "2023-03-03T01:41:26.119209Z"
    },
    "scrolled": true,
    "tags": []
   },
   "outputs": [],
   "source": [
    "df_test=df_test.drop(columns=[' Label'])"
   ]
  },
  {
   "cell_type": "code",
   "execution_count": 17,
   "id": "ca1af365-b9a2-48c4-9ebb-2fc08fc1ce62",
   "metadata": {
    "execution": {
     "iopub.execute_input": "2023-03-03T01:41:39.951587Z",
     "iopub.status.busy": "2023-03-03T01:41:39.950892Z",
     "iopub.status.idle": "2023-03-03T01:41:39.959637Z",
     "shell.execute_reply": "2023-03-03T01:41:39.958718Z",
     "shell.execute_reply.started": "2023-03-03T01:41:39.951540Z"
    },
    "scrolled": true
   },
   "outputs": [],
   "source": [
    "y_pred_2 = clf2.predict(df_test)"
   ]
  },
  {
   "cell_type": "code",
   "execution_count": 18,
   "id": "5d219d8d-0d39-4ca7-8bbc-5d15d6940912",
   "metadata": {
    "execution": {
     "iopub.execute_input": "2023-03-03T01:41:43.564593Z",
     "iopub.status.busy": "2023-03-03T01:41:43.563917Z",
     "iopub.status.idle": "2023-03-03T01:41:43.571573Z",
     "shell.execute_reply": "2023-03-03T01:41:43.570677Z",
     "shell.execute_reply.started": "2023-03-03T01:41:43.564551Z"
    },
    "scrolled": true
   },
   "outputs": [
    {
     "data": {
      "text/plain": [
       "array([0, 0, 0, 0, 0, 0, 1, 0, 0, 2, 0, 0, 0, 0, 0, 0, 0, 0, 0, 0, 1, 0,\n",
       "       0, 0, 0, 0, 0, 0, 5, 0, 5, 1, 0, 0, 1, 0, 0, 0, 0, 0, 0, 0, 0, 0,\n",
       "       0, 0, 0, 0, 0, 0, 0, 0, 0, 0, 0, 2, 0, 0, 0, 2, 0, 2, 2, 0, 2, 1,\n",
       "       0, 2, 0, 0, 0, 1, 0, 0, 0, 0, 0, 0, 0, 0, 0, 2, 0, 0, 0, 0, 2, 0,\n",
       "       5, 0, 0, 0, 0, 3, 0, 0, 1, 0, 0, 0, 0, 1, 0, 5, 2, 0, 0, 0, 0, 0,\n",
       "       0, 0, 0, 0, 0, 1, 0, 0, 0, 0, 0, 0, 0, 0, 1, 0, 0, 0, 0, 0, 0, 0,\n",
       "       2, 0, 0, 5, 2, 0, 0, 1, 0, 0, 0, 0, 0, 0, 0, 0, 0, 0, 0, 0, 0, 0,\n",
       "       0, 3, 0, 0, 5, 0, 0, 0, 0, 0, 0, 0, 0, 0, 0, 0, 1, 0, 0, 0, 0, 0,\n",
       "       0, 0, 0, 0, 0, 0, 3, 0, 2, 5, 0, 0, 0, 0, 2, 0, 0, 0, 0, 2, 0, 0,\n",
       "       0, 0, 5, 0, 0, 0, 0, 2, 0, 0, 0, 0, 0, 5, 0, 0, 0, 0, 0, 0, 0, 0,\n",
       "       0, 0, 0, 0, 0, 3, 3, 0, 0, 0, 0, 0, 0, 0, 0, 0, 0, 0, 0, 0, 0, 0,\n",
       "       0, 2, 0, 0, 0, 0, 0, 0, 0, 0, 1, 3, 0, 0, 0, 0, 0, 0, 0, 0, 0, 0,\n",
       "       0, 0, 3, 0, 0, 0, 0, 0, 0, 0, 0, 0, 0, 0, 0, 0, 0, 0, 1, 0, 0, 2,\n",
       "       0, 0, 0, 0, 0, 1, 0, 0, 0, 0, 5, 0, 0, 0, 5, 0, 0, 0, 5, 0, 0, 1,\n",
       "       0, 1, 3, 0, 1, 0, 0, 2, 0, 3, 0, 0, 0, 0, 0, 0, 0, 0, 0, 0, 0, 0,\n",
       "       0, 0, 3, 0, 1, 0, 0, 0, 0, 0, 0, 3, 2, 0, 0, 0, 0, 5, 0, 0, 0, 0,\n",
       "       0, 0, 0, 0, 2, 0, 0, 0, 0, 0, 0, 0, 0, 0, 1, 2, 0, 0, 0, 0, 0, 0,\n",
       "       0, 0, 5, 0, 0, 3, 0, 0, 0, 5, 0, 0, 0, 2, 0, 0, 0, 0, 5, 0, 0, 0,\n",
       "       0, 0, 0, 0, 0, 0, 0, 0, 0, 0, 0, 0, 0, 0, 0, 0, 0, 1, 0, 0, 0, 0,\n",
       "       1, 0, 0, 0, 0, 0, 0, 0, 0, 0, 2, 0, 0, 1, 0, 0, 0, 0, 5, 0, 2, 2,\n",
       "       0, 0, 5, 0, 0, 0, 5, 3, 0, 0, 0, 5, 0, 0, 0, 0, 0, 0, 0, 0, 0, 0,\n",
       "       0, 0, 0, 5, 0, 0, 0, 0, 0, 0, 0, 0, 0, 0, 0, 0, 3, 0, 1, 0, 0, 0,\n",
       "       0, 2, 0, 0, 0, 0, 5, 0, 0, 0, 0, 1, 0, 0, 0, 0])"
      ]
     },
     "execution_count": 18,
     "metadata": {},
     "output_type": "execute_result"
    }
   ],
   "source": [
    "y_pred_2"
   ]
  },
  {
   "cell_type": "code",
   "execution_count": 20,
   "id": "036233b7-2947-4e6e-b9c8-3d9fc0c4398d",
   "metadata": {
    "execution": {
     "iopub.execute_input": "2023-03-03T01:53:45.832749Z",
     "iopub.status.busy": "2023-03-03T01:53:45.831987Z",
     "iopub.status.idle": "2023-03-03T01:53:45.859229Z",
     "shell.execute_reply": "2023-03-03T01:53:45.857923Z",
     "shell.execute_reply.started": "2023-03-03T01:53:45.832706Z"
    },
    "scrolled": true,
    "tags": []
   },
   "outputs": [
    {
     "ename": "ValueError",
     "evalue": "Target is multiclass but average='binary'. Please choose another average setting, one of [None, 'micro', 'macro', 'weighted'].",
     "output_type": "error",
     "traceback": [
      "\u001b[0;31m---------------------------------------------------------------------------\u001b[0m",
      "\u001b[0;31mValueError\u001b[0m                                Traceback (most recent call last)",
      "\u001b[0;32m/tmp/ipykernel_1324/3025713687.py\u001b[0m in \u001b[0;36m<module>\u001b[0;34m\u001b[0m\n\u001b[0;32m----> 1\u001b[0;31m \u001b[0mprint\u001b[0m\u001b[0;34m(\u001b[0m\u001b[0;34m\"Score:\"\u001b[0m\u001b[0;34m,\u001b[0m \u001b[0mclf2\u001b[0m\u001b[0;34m.\u001b[0m\u001b[0mscore\u001b[0m\u001b[0;34m(\u001b[0m\u001b[0mX_svm\u001b[0m\u001b[0;34m,\u001b[0m\u001b[0mY_svm\u001b[0m\u001b[0;34m)\u001b[0m\u001b[0;34m)\u001b[0m\u001b[0;34m\u001b[0m\u001b[0;34m\u001b[0m\u001b[0m\n\u001b[0m",
      "\u001b[0;32m/opt/conda/envs/python35-paddle120-env/lib/python3.7/site-packages/sklearn/model_selection/_search.py\u001b[0m in \u001b[0;36mscore\u001b[0;34m(self, X, y)\u001b[0m\n\u001b[1;32m    484\u001b[0m \u001b[0;34m\u001b[0m\u001b[0m\n\u001b[1;32m    485\u001b[0m         \u001b[0;31m# callable\u001b[0m\u001b[0;34m\u001b[0m\u001b[0;34m\u001b[0m\u001b[0;34m\u001b[0m\u001b[0m\n\u001b[0;32m--> 486\u001b[0;31m         \u001b[0mscore\u001b[0m \u001b[0;34m=\u001b[0m \u001b[0mself\u001b[0m\u001b[0;34m.\u001b[0m\u001b[0mscorer_\u001b[0m\u001b[0;34m(\u001b[0m\u001b[0mself\u001b[0m\u001b[0;34m.\u001b[0m\u001b[0mbest_estimator_\u001b[0m\u001b[0;34m,\u001b[0m \u001b[0mX\u001b[0m\u001b[0;34m,\u001b[0m \u001b[0my\u001b[0m\u001b[0;34m)\u001b[0m\u001b[0;34m\u001b[0m\u001b[0;34m\u001b[0m\u001b[0m\n\u001b[0m\u001b[1;32m    487\u001b[0m         \u001b[0;32mif\u001b[0m \u001b[0mself\u001b[0m\u001b[0;34m.\u001b[0m\u001b[0mmultimetric_\u001b[0m\u001b[0;34m:\u001b[0m\u001b[0;34m\u001b[0m\u001b[0;34m\u001b[0m\u001b[0m\n\u001b[1;32m    488\u001b[0m             \u001b[0mscore\u001b[0m \u001b[0;34m=\u001b[0m \u001b[0mscore\u001b[0m\u001b[0;34m[\u001b[0m\u001b[0mself\u001b[0m\u001b[0;34m.\u001b[0m\u001b[0mrefit\u001b[0m\u001b[0;34m]\u001b[0m\u001b[0;34m\u001b[0m\u001b[0;34m\u001b[0m\u001b[0m\n",
      "\u001b[0;32m/opt/conda/envs/python35-paddle120-env/lib/python3.7/site-packages/sklearn/metrics/_scorer.py\u001b[0m in \u001b[0;36m__call__\u001b[0;34m(self, estimator, X, y_true, sample_weight)\u001b[0m\n\u001b[1;32m    198\u001b[0m         \"\"\"\n\u001b[1;32m    199\u001b[0m         return self._score(partial(_cached_call, None), estimator, X, y_true,\n\u001b[0;32m--> 200\u001b[0;31m                            sample_weight=sample_weight)\n\u001b[0m\u001b[1;32m    201\u001b[0m \u001b[0;34m\u001b[0m\u001b[0m\n\u001b[1;32m    202\u001b[0m     \u001b[0;32mdef\u001b[0m \u001b[0m_factory_args\u001b[0m\u001b[0;34m(\u001b[0m\u001b[0mself\u001b[0m\u001b[0;34m)\u001b[0m\u001b[0;34m:\u001b[0m\u001b[0;34m\u001b[0m\u001b[0;34m\u001b[0m\u001b[0m\n",
      "\u001b[0;32m/opt/conda/envs/python35-paddle120-env/lib/python3.7/site-packages/sklearn/metrics/_scorer.py\u001b[0m in \u001b[0;36m_score\u001b[0;34m(self, method_caller, estimator, X, y_true, sample_weight)\u001b[0m\n\u001b[1;32m    241\u001b[0m         \u001b[0;32melse\u001b[0m\u001b[0;34m:\u001b[0m\u001b[0;34m\u001b[0m\u001b[0;34m\u001b[0m\u001b[0m\n\u001b[1;32m    242\u001b[0m             return self._sign * self._score_func(y_true, y_pred,\n\u001b[0;32m--> 243\u001b[0;31m                                                  **self._kwargs)\n\u001b[0m\u001b[1;32m    244\u001b[0m \u001b[0;34m\u001b[0m\u001b[0m\n\u001b[1;32m    245\u001b[0m \u001b[0;34m\u001b[0m\u001b[0m\n",
      "\u001b[0;32m/opt/conda/envs/python35-paddle120-env/lib/python3.7/site-packages/sklearn/utils/validation.py\u001b[0m in \u001b[0;36minner_f\u001b[0;34m(*args, **kwargs)\u001b[0m\n\u001b[1;32m     61\u001b[0m             \u001b[0mextra_args\u001b[0m \u001b[0;34m=\u001b[0m \u001b[0mlen\u001b[0m\u001b[0;34m(\u001b[0m\u001b[0margs\u001b[0m\u001b[0;34m)\u001b[0m \u001b[0;34m-\u001b[0m \u001b[0mlen\u001b[0m\u001b[0;34m(\u001b[0m\u001b[0mall_args\u001b[0m\u001b[0;34m)\u001b[0m\u001b[0;34m\u001b[0m\u001b[0;34m\u001b[0m\u001b[0m\n\u001b[1;32m     62\u001b[0m             \u001b[0;32mif\u001b[0m \u001b[0mextra_args\u001b[0m \u001b[0;34m<=\u001b[0m \u001b[0;36m0\u001b[0m\u001b[0;34m:\u001b[0m\u001b[0;34m\u001b[0m\u001b[0;34m\u001b[0m\u001b[0m\n\u001b[0;32m---> 63\u001b[0;31m                 \u001b[0;32mreturn\u001b[0m \u001b[0mf\u001b[0m\u001b[0;34m(\u001b[0m\u001b[0;34m*\u001b[0m\u001b[0margs\u001b[0m\u001b[0;34m,\u001b[0m \u001b[0;34m**\u001b[0m\u001b[0mkwargs\u001b[0m\u001b[0;34m)\u001b[0m\u001b[0;34m\u001b[0m\u001b[0;34m\u001b[0m\u001b[0m\n\u001b[0m\u001b[1;32m     64\u001b[0m \u001b[0;34m\u001b[0m\u001b[0m\n\u001b[1;32m     65\u001b[0m             \u001b[0;31m# extra_args > 0\u001b[0m\u001b[0;34m\u001b[0m\u001b[0;34m\u001b[0m\u001b[0;34m\u001b[0m\u001b[0m\n",
      "\u001b[0;32m/opt/conda/envs/python35-paddle120-env/lib/python3.7/site-packages/sklearn/metrics/_classification.py\u001b[0m in \u001b[0;36mf1_score\u001b[0;34m(y_true, y_pred, labels, pos_label, average, sample_weight, zero_division)\u001b[0m\n\u001b[1;32m   1072\u001b[0m                        \u001b[0mpos_label\u001b[0m\u001b[0;34m=\u001b[0m\u001b[0mpos_label\u001b[0m\u001b[0;34m,\u001b[0m \u001b[0maverage\u001b[0m\u001b[0;34m=\u001b[0m\u001b[0maverage\u001b[0m\u001b[0;34m,\u001b[0m\u001b[0;34m\u001b[0m\u001b[0;34m\u001b[0m\u001b[0m\n\u001b[1;32m   1073\u001b[0m                        \u001b[0msample_weight\u001b[0m\u001b[0;34m=\u001b[0m\u001b[0msample_weight\u001b[0m\u001b[0;34m,\u001b[0m\u001b[0;34m\u001b[0m\u001b[0;34m\u001b[0m\u001b[0m\n\u001b[0;32m-> 1074\u001b[0;31m                        zero_division=zero_division)\n\u001b[0m\u001b[1;32m   1075\u001b[0m \u001b[0;34m\u001b[0m\u001b[0m\n\u001b[1;32m   1076\u001b[0m \u001b[0;34m\u001b[0m\u001b[0m\n",
      "\u001b[0;32m/opt/conda/envs/python35-paddle120-env/lib/python3.7/site-packages/sklearn/utils/validation.py\u001b[0m in \u001b[0;36minner_f\u001b[0;34m(*args, **kwargs)\u001b[0m\n\u001b[1;32m     61\u001b[0m             \u001b[0mextra_args\u001b[0m \u001b[0;34m=\u001b[0m \u001b[0mlen\u001b[0m\u001b[0;34m(\u001b[0m\u001b[0margs\u001b[0m\u001b[0;34m)\u001b[0m \u001b[0;34m-\u001b[0m \u001b[0mlen\u001b[0m\u001b[0;34m(\u001b[0m\u001b[0mall_args\u001b[0m\u001b[0;34m)\u001b[0m\u001b[0;34m\u001b[0m\u001b[0;34m\u001b[0m\u001b[0m\n\u001b[1;32m     62\u001b[0m             \u001b[0;32mif\u001b[0m \u001b[0mextra_args\u001b[0m \u001b[0;34m<=\u001b[0m \u001b[0;36m0\u001b[0m\u001b[0;34m:\u001b[0m\u001b[0;34m\u001b[0m\u001b[0;34m\u001b[0m\u001b[0m\n\u001b[0;32m---> 63\u001b[0;31m                 \u001b[0;32mreturn\u001b[0m \u001b[0mf\u001b[0m\u001b[0;34m(\u001b[0m\u001b[0;34m*\u001b[0m\u001b[0margs\u001b[0m\u001b[0;34m,\u001b[0m \u001b[0;34m**\u001b[0m\u001b[0mkwargs\u001b[0m\u001b[0;34m)\u001b[0m\u001b[0;34m\u001b[0m\u001b[0;34m\u001b[0m\u001b[0m\n\u001b[0m\u001b[1;32m     64\u001b[0m \u001b[0;34m\u001b[0m\u001b[0m\n\u001b[1;32m     65\u001b[0m             \u001b[0;31m# extra_args > 0\u001b[0m\u001b[0;34m\u001b[0m\u001b[0;34m\u001b[0m\u001b[0;34m\u001b[0m\u001b[0m\n",
      "\u001b[0;32m/opt/conda/envs/python35-paddle120-env/lib/python3.7/site-packages/sklearn/metrics/_classification.py\u001b[0m in \u001b[0;36mfbeta_score\u001b[0;34m(y_true, y_pred, beta, labels, pos_label, average, sample_weight, zero_division)\u001b[0m\n\u001b[1;32m   1200\u001b[0m                                                  \u001b[0mwarn_for\u001b[0m\u001b[0;34m=\u001b[0m\u001b[0;34m(\u001b[0m\u001b[0;34m'f-score'\u001b[0m\u001b[0;34m,\u001b[0m\u001b[0;34m)\u001b[0m\u001b[0;34m,\u001b[0m\u001b[0;34m\u001b[0m\u001b[0;34m\u001b[0m\u001b[0m\n\u001b[1;32m   1201\u001b[0m                                                  \u001b[0msample_weight\u001b[0m\u001b[0;34m=\u001b[0m\u001b[0msample_weight\u001b[0m\u001b[0;34m,\u001b[0m\u001b[0;34m\u001b[0m\u001b[0;34m\u001b[0m\u001b[0m\n\u001b[0;32m-> 1202\u001b[0;31m                                                  zero_division=zero_division)\n\u001b[0m\u001b[1;32m   1203\u001b[0m     \u001b[0;32mreturn\u001b[0m \u001b[0mf\u001b[0m\u001b[0;34m\u001b[0m\u001b[0;34m\u001b[0m\u001b[0m\n\u001b[1;32m   1204\u001b[0m \u001b[0;34m\u001b[0m\u001b[0m\n",
      "\u001b[0;32m/opt/conda/envs/python35-paddle120-env/lib/python3.7/site-packages/sklearn/utils/validation.py\u001b[0m in \u001b[0;36minner_f\u001b[0;34m(*args, **kwargs)\u001b[0m\n\u001b[1;32m     61\u001b[0m             \u001b[0mextra_args\u001b[0m \u001b[0;34m=\u001b[0m \u001b[0mlen\u001b[0m\u001b[0;34m(\u001b[0m\u001b[0margs\u001b[0m\u001b[0;34m)\u001b[0m \u001b[0;34m-\u001b[0m \u001b[0mlen\u001b[0m\u001b[0;34m(\u001b[0m\u001b[0mall_args\u001b[0m\u001b[0;34m)\u001b[0m\u001b[0;34m\u001b[0m\u001b[0;34m\u001b[0m\u001b[0m\n\u001b[1;32m     62\u001b[0m             \u001b[0;32mif\u001b[0m \u001b[0mextra_args\u001b[0m \u001b[0;34m<=\u001b[0m \u001b[0;36m0\u001b[0m\u001b[0;34m:\u001b[0m\u001b[0;34m\u001b[0m\u001b[0;34m\u001b[0m\u001b[0m\n\u001b[0;32m---> 63\u001b[0;31m                 \u001b[0;32mreturn\u001b[0m \u001b[0mf\u001b[0m\u001b[0;34m(\u001b[0m\u001b[0;34m*\u001b[0m\u001b[0margs\u001b[0m\u001b[0;34m,\u001b[0m \u001b[0;34m**\u001b[0m\u001b[0mkwargs\u001b[0m\u001b[0;34m)\u001b[0m\u001b[0;34m\u001b[0m\u001b[0;34m\u001b[0m\u001b[0m\n\u001b[0m\u001b[1;32m     64\u001b[0m \u001b[0;34m\u001b[0m\u001b[0m\n\u001b[1;32m     65\u001b[0m             \u001b[0;31m# extra_args > 0\u001b[0m\u001b[0;34m\u001b[0m\u001b[0;34m\u001b[0m\u001b[0;34m\u001b[0m\u001b[0m\n",
      "\u001b[0;32m/opt/conda/envs/python35-paddle120-env/lib/python3.7/site-packages/sklearn/metrics/_classification.py\u001b[0m in \u001b[0;36mprecision_recall_fscore_support\u001b[0;34m(y_true, y_pred, beta, labels, pos_label, average, warn_for, sample_weight, zero_division)\u001b[0m\n\u001b[1;32m   1463\u001b[0m         \u001b[0;32mraise\u001b[0m \u001b[0mValueError\u001b[0m\u001b[0;34m(\u001b[0m\u001b[0;34m\"beta should be >=0 in the F-beta score\"\u001b[0m\u001b[0;34m)\u001b[0m\u001b[0;34m\u001b[0m\u001b[0;34m\u001b[0m\u001b[0m\n\u001b[1;32m   1464\u001b[0m     labels = _check_set_wise_labels(y_true, y_pred, average, labels,\n\u001b[0;32m-> 1465\u001b[0;31m                                     pos_label)\n\u001b[0m\u001b[1;32m   1466\u001b[0m \u001b[0;34m\u001b[0m\u001b[0m\n\u001b[1;32m   1467\u001b[0m     \u001b[0;31m# Calculate tp_sum, pred_sum, true_sum ###\u001b[0m\u001b[0;34m\u001b[0m\u001b[0;34m\u001b[0m\u001b[0;34m\u001b[0m\u001b[0m\n",
      "\u001b[0;32m/opt/conda/envs/python35-paddle120-env/lib/python3.7/site-packages/sklearn/metrics/_classification.py\u001b[0m in \u001b[0;36m_check_set_wise_labels\u001b[0;34m(y_true, y_pred, average, labels, pos_label)\u001b[0m\n\u001b[1;32m   1294\u001b[0m             raise ValueError(\"Target is %s but average='binary'. Please \"\n\u001b[1;32m   1295\u001b[0m                              \u001b[0;34m\"choose another average setting, one of %r.\"\u001b[0m\u001b[0;34m\u001b[0m\u001b[0;34m\u001b[0m\u001b[0m\n\u001b[0;32m-> 1296\u001b[0;31m                              % (y_type, average_options))\n\u001b[0m\u001b[1;32m   1297\u001b[0m     \u001b[0;32melif\u001b[0m \u001b[0mpos_label\u001b[0m \u001b[0;32mnot\u001b[0m \u001b[0;32min\u001b[0m \u001b[0;34m(\u001b[0m\u001b[0;32mNone\u001b[0m\u001b[0;34m,\u001b[0m \u001b[0;36m1\u001b[0m\u001b[0;34m)\u001b[0m\u001b[0;34m:\u001b[0m\u001b[0;34m\u001b[0m\u001b[0;34m\u001b[0m\u001b[0m\n\u001b[1;32m   1298\u001b[0m         warnings.warn(\"Note that pos_label (set to %r) is ignored when \"\n",
      "\u001b[0;31mValueError\u001b[0m: Target is multiclass but average='binary'. Please choose another average setting, one of [None, 'micro', 'macro', 'weighted']."
     ]
    }
   ],
   "source": [
    "print(\"Score:\", clf2.score(X_svm,Y_svm))"
   ]
  },
  {
   "cell_type": "markdown",
   "id": "ff1c68b5-2ec7-458a-90d0-eb2722dbad02",
   "metadata": {},
   "source": [
    "**Isolation Forest**"
   ]
  },
  {
   "cell_type": "code",
   "execution_count": 146,
   "id": "0997872c-48a7-4705-b5f1-a9d4a3b5c9ba",
   "metadata": {
    "execution": {
     "iopub.execute_input": "2023-03-03T08:46:38.302525Z",
     "iopub.status.busy": "2023-03-03T08:46:38.301625Z",
     "iopub.status.idle": "2023-03-03T08:46:41.156478Z",
     "shell.execute_reply": "2023-03-03T08:46:41.155536Z",
     "shell.execute_reply.started": "2023-03-03T08:46:38.302449Z"
    },
    "scrolled": true,
    "tags": []
   },
   "outputs": [],
   "source": [
    "# 指定列名称和目标字符串\n",
    "column_name = ' Label'\n",
    "#Bot_string = 'Bot'\n",
    "# 选出包含目标字符串的所有行\n",
    "#Bot_rows = df[df[column_name].str.contains(Bot_string)]\n",
    "SSH_Patator_rows = df[df.iloc[:, -1].astype(str).str.contains('9')]"
   ]
  },
  {
   "cell_type": "code",
   "execution_count": 147,
   "id": "42113055-4afb-47db-8c59-bb5a4d353f83",
   "metadata": {
    "execution": {
     "iopub.execute_input": "2023-03-03T08:46:44.902166Z",
     "iopub.status.busy": "2023-03-03T08:46:44.900960Z",
     "iopub.status.idle": "2023-03-03T08:46:44.907453Z",
     "shell.execute_reply": "2023-03-03T08:46:44.906686Z",
     "shell.execute_reply.started": "2023-03-03T08:46:44.902117Z"
    },
    "scrolled": true,
    "tags": []
   },
   "outputs": [
    {
     "data": {
      "text/plain": [
       "(5897, 79)"
      ]
     },
     "execution_count": 147,
     "metadata": {},
     "output_type": "execute_result"
    }
   ],
   "source": [
    "SSH_Patator_rows.shape"
   ]
  },
  {
   "cell_type": "code",
   "execution_count": 171,
   "id": "2a666b15-897f-49a4-8eb8-c0d45f8a479e",
   "metadata": {
    "execution": {
     "iopub.execute_input": "2023-03-03T09:31:03.064147Z",
     "iopub.status.busy": "2023-03-03T09:31:03.063545Z",
     "iopub.status.idle": "2023-03-03T09:31:03.070912Z",
     "shell.execute_reply": "2023-03-03T09:31:03.070133Z",
     "shell.execute_reply.started": "2023-03-03T09:31:03.064107Z"
    },
    "scrolled": true
   },
   "outputs": [],
   "source": [
    "X_iforest = SSH_Patator_rows.loc[:,SSH_Patator_rows.columns != \" Label\"]"
   ]
  },
  {
   "cell_type": "code",
   "execution_count": 223,
   "id": "1a019f24-c870-433f-8cde-aae823cbd1fd",
   "metadata": {
    "execution": {
     "iopub.execute_input": "2023-03-03T10:51:50.913293Z",
     "iopub.status.busy": "2023-03-03T10:51:50.912548Z",
     "iopub.status.idle": "2023-03-03T10:51:52.182151Z",
     "shell.execute_reply": "2023-03-03T10:51:52.180600Z",
     "shell.execute_reply.started": "2023-03-03T10:51:50.913245Z"
    },
    "scrolled": true,
    "tags": []
   },
   "outputs": [
    {
     "name": "stderr",
     "output_type": "stream",
     "text": [
      "/opt/conda/envs/python35-paddle120-env/lib/python3.7/site-packages/ipykernel_launcher.py:18: SettingWithCopyWarning: \r\n",
      "A value is trying to be set on a copy of a slice from a DataFrame.\r\n",
      "Try using .loc[row_indexer,col_indexer] = value instead\r\n",
      "\r\n",
      "See the caveats in the documentation: https://pandas.pydata.org/pandas-docs/stable/user_guide/indexing.html#returning-a-view-versus-a-copy\r\n"
     ]
    }
   ],
   "source": [
    "# 加载模型所需要的的包\n",
    "import numpy   as np\n",
    "import pandas  as pd\n",
    "import seaborn as sns\n",
    "import matplotlib.pyplot as plt\n",
    "from sklearn.ensemble import IsolationForest\n",
    "\n",
    "\n",
    "#构建模型 ,n_estimators=100 ,构建100颗树\n",
    "model = IsolationForest(n_estimators=100, \n",
    "                      max_samples='auto', \n",
    "                      contamination=float(0.1),\n",
    "                      max_features=1.0)\n",
    "# 训练模型\n",
    "model.fit(X_iforest)\n",
    "#predict()方法获取每个样本的异常得分，并将其保存到原数据集中：\n",
    "# 预测 decision_function 可以得出 异常评分\n",
    "SSH_Patator_rows['scores']  = model.decision_function(X_iforest)\n",
    "\n",
    "#  predict() 函数 可以得到模型是否异常的判断，-1为异常，1为正常\n",
    "#SSH_Patator_rows['anomaly'] = model.predict(X_iforest)\n",
    "y_pred = model.predict(X_iforest)\n",
    "#scores_pred = model.decision_function(X_iforest)\n",
    "\n",
    "\n"
   ]
  },
  {
   "cell_type": "code",
   "execution_count": 216,
   "id": "b6e900a1-ccaf-4fb7-a61c-24e512850ce5",
   "metadata": {
    "execution": {
     "iopub.execute_input": "2023-03-03T10:50:17.695630Z",
     "iopub.status.busy": "2023-03-03T10:50:17.694112Z",
     "iopub.status.idle": "2023-03-03T10:50:18.463572Z",
     "shell.execute_reply": "2023-03-03T10:50:18.455561Z",
     "shell.execute_reply.started": "2023-03-03T10:50:17.695549Z"
    },
    "scrolled": true,
    "tags": []
   },
   "outputs": [
    {
     "data": {
      "image/png": "[encoded data removed]",
      "text/plain": [
       "<Figure size 640x480 with 2 Axes>"
      ]
     },
     "metadata": {},
     "output_type": "display_data"
    },
    {
     "data": {
      "text/plain": [
       "<Figure size 640x480 with 0 Axes>"
      ]
     },
     "metadata": {},
     "output_type": "display_data"
    }
   ],
   "source": [
    "plt.scatter(SSH_Patator_rows.iloc[:, 1], SSH_Patator_rows.iloc[:, 2], s=100*np.abs(SSH_Patator_rows['scores']), c=SSH_Patator_rows['scores'], cmap='coolwarm')\n",
    "plt.colorbar()\n",
    "plt.show()\n",
    "plt.savefig('种类数据筛选/iForest_1.png')\n"
   ]
  },
  {
   "cell_type": "code",
   "execution_count": 217,
   "id": "a4f8fc03-6009-4f13-b59c-3f2a2d901fae",
   "metadata": {
    "execution": {
     "iopub.execute_input": "2023-03-03T10:50:20.881524Z",
     "iopub.status.busy": "2023-03-03T10:50:20.880879Z",
     "iopub.status.idle": "2023-03-03T10:50:20.894701Z",
     "shell.execute_reply": "2023-03-03T10:50:20.886225Z",
     "shell.execute_reply.started": "2023-03-03T10:50:20.881480Z"
    },
    "scrolled": true,
    "tags": []
   },
   "outputs": [],
   "source": [
    "abs_SSH_scores = np.abs(SSH_Patator_rows['scores'])"
   ]
  },
  {
   "cell_type": "code",
   "execution_count": 218,
   "id": "5034d8c0-c317-4fb3-9314-1c059be63905",
   "metadata": {
    "execution": {
     "iopub.execute_input": "2023-03-03T10:50:22.748169Z",
     "iopub.status.busy": "2023-03-03T10:50:22.744076Z",
     "iopub.status.idle": "2023-03-03T10:50:22.781774Z",
     "shell.execute_reply": "2023-03-03T10:50:22.773776Z",
     "shell.execute_reply.started": "2023-03-03T10:50:22.748107Z"
    },
    "scrolled": true,
    "tags": []
   },
   "outputs": [
    {
     "data": {
      "text/plain": [
       "1852702    0.184633\n",
       "1852703    0.213458\n",
       "1852764    0.219020\n",
       "1852765    0.201542\n",
       "1852766    0.225068\n",
       "             ...   \n",
       "2136245    0.049188\n",
       "2136249    0.024308\n",
       "2136250    0.022133\n",
       "2136375    0.017532\n",
       "2136378    0.020052\n",
       "Name: scores, Length: 5897, dtype: float64"
      ]
     },
     "execution_count": 218,
     "metadata": {},
     "output_type": "execute_result"
    }
   ],
   "source": [
    "abs_SSH_scores \n"
   ]
  },
  {
   "cell_type": "code",
   "execution_count": 211,
   "id": "0b9b6630-c656-4ad7-b387-6f8606329a2c",
   "metadata": {
    "execution": {
     "iopub.execute_input": "2023-03-03T09:53:10.366539Z",
     "iopub.status.busy": "2023-03-03T09:53:10.365493Z",
     "iopub.status.idle": "2023-03-03T09:53:10.400453Z",
     "shell.execute_reply": "2023-03-03T09:53:10.399443Z",
     "shell.execute_reply.started": "2023-03-03T09:53:10.366490Z"
    },
    "scrolled": true
   },
   "outputs": [
    {
     "data": {
      "text/html": [
       "<div>\n",
       "<style scoped>\n",
       "    .dataframe tbody tr th:only-of-type {\n",
       "        vertical-align: middle;\n",
       "    }\n",
       "\n",
       "    .dataframe tbody tr th {\n",
       "        vertical-align: top;\n",
       "    }\n",
       "\n",
       "    .dataframe thead th {\n",
       "        text-align: right;\n",
       "    }\n",
       "</style>\n",
       "<table border=\"1\" class=\"dataframe\">\n",
       "  <thead>\n",
       "    <tr style=\"text-align: right;\">\n",
       "      <th></th>\n",
       "      <th>Destination Port</th>\n",
       "      <th>Flow Duration</th>\n",
       "      <th>Total Fwd Packets</th>\n",
       "      <th>Total Backward Packets</th>\n",
       "      <th>Total Length of Fwd Packets</th>\n",
       "      <th>Total Length of Bwd Packets</th>\n",
       "      <th>Fwd Packet Length Max</th>\n",
       "      <th>Fwd Packet Length Min</th>\n",
       "      <th>Fwd Packet Length Mean</th>\n",
       "      <th>Fwd Packet Length Std</th>\n",
       "      <th>...</th>\n",
       "      <th>Active Mean</th>\n",
       "      <th>Active Std</th>\n",
       "      <th>Active Max</th>\n",
       "      <th>Active Min</th>\n",
       "      <th>Idle Mean</th>\n",
       "      <th>Idle Std</th>\n",
       "      <th>Idle Max</th>\n",
       "      <th>Idle Min</th>\n",
       "      <th>Label</th>\n",
       "      <th>scores</th>\n",
       "    </tr>\n",
       "  </thead>\n",
       "  <tbody>\n",
       "    <tr>\n",
       "      <th>1857673</th>\n",
       "      <td>22</td>\n",
       "      <td>1904571</td>\n",
       "      <td>13</td>\n",
       "      <td>11</td>\n",
       "      <td>1128</td>\n",
       "      <td>2009</td>\n",
       "      <td>640</td>\n",
       "      <td>0</td>\n",
       "      <td>86.769231</td>\n",
       "      <td>183.298552</td>\n",
       "      <td>...</td>\n",
       "      <td>0.0</td>\n",
       "      <td>0.0</td>\n",
       "      <td>0</td>\n",
       "      <td>0</td>\n",
       "      <td>0.0</td>\n",
       "      <td>0.0</td>\n",
       "      <td>0</td>\n",
       "      <td>0</td>\n",
       "      <td>9</td>\n",
       "      <td>-0.271115</td>\n",
       "    </tr>\n",
       "    <tr>\n",
       "      <th>1857907</th>\n",
       "      <td>22</td>\n",
       "      <td>1884425</td>\n",
       "      <td>13</td>\n",
       "      <td>11</td>\n",
       "      <td>1128</td>\n",
       "      <td>2009</td>\n",
       "      <td>640</td>\n",
       "      <td>0</td>\n",
       "      <td>86.769231</td>\n",
       "      <td>183.298552</td>\n",
       "      <td>...</td>\n",
       "      <td>0.0</td>\n",
       "      <td>0.0</td>\n",
       "      <td>0</td>\n",
       "      <td>0</td>\n",
       "      <td>0.0</td>\n",
       "      <td>0.0</td>\n",
       "      <td>0</td>\n",
       "      <td>0</td>\n",
       "      <td>9</td>\n",
       "      <td>-0.269032</td>\n",
       "    </tr>\n",
       "    <tr>\n",
       "      <th>1857678</th>\n",
       "      <td>22</td>\n",
       "      <td>1937542</td>\n",
       "      <td>13</td>\n",
       "      <td>11</td>\n",
       "      <td>1128</td>\n",
       "      <td>2009</td>\n",
       "      <td>640</td>\n",
       "      <td>0</td>\n",
       "      <td>86.769231</td>\n",
       "      <td>183.298552</td>\n",
       "      <td>...</td>\n",
       "      <td>0.0</td>\n",
       "      <td>0.0</td>\n",
       "      <td>0</td>\n",
       "      <td>0</td>\n",
       "      <td>0.0</td>\n",
       "      <td>0.0</td>\n",
       "      <td>0</td>\n",
       "      <td>0</td>\n",
       "      <td>9</td>\n",
       "      <td>-0.265862</td>\n",
       "    </tr>\n",
       "    <tr>\n",
       "      <th>1857977</th>\n",
       "      <td>22</td>\n",
       "      <td>1688206</td>\n",
       "      <td>10</td>\n",
       "      <td>10</td>\n",
       "      <td>1128</td>\n",
       "      <td>2009</td>\n",
       "      <td>640</td>\n",
       "      <td>0</td>\n",
       "      <td>112.800000</td>\n",
       "      <td>203.802083</td>\n",
       "      <td>...</td>\n",
       "      <td>0.0</td>\n",
       "      <td>0.0</td>\n",
       "      <td>0</td>\n",
       "      <td>0</td>\n",
       "      <td>0.0</td>\n",
       "      <td>0.0</td>\n",
       "      <td>0</td>\n",
       "      <td>0</td>\n",
       "      <td>9</td>\n",
       "      <td>-0.262234</td>\n",
       "    </tr>\n",
       "    <tr>\n",
       "      <th>1857930</th>\n",
       "      <td>22</td>\n",
       "      <td>1888077</td>\n",
       "      <td>10</td>\n",
       "      <td>11</td>\n",
       "      <td>1128</td>\n",
       "      <td>2009</td>\n",
       "      <td>640</td>\n",
       "      <td>0</td>\n",
       "      <td>112.800000</td>\n",
       "      <td>203.802083</td>\n",
       "      <td>...</td>\n",
       "      <td>0.0</td>\n",
       "      <td>0.0</td>\n",
       "      <td>0</td>\n",
       "      <td>0</td>\n",
       "      <td>0.0</td>\n",
       "      <td>0.0</td>\n",
       "      <td>0</td>\n",
       "      <td>0</td>\n",
       "      <td>9</td>\n",
       "      <td>-0.261905</td>\n",
       "    </tr>\n",
       "    <tr>\n",
       "      <th>...</th>\n",
       "      <td>...</td>\n",
       "      <td>...</td>\n",
       "      <td>...</td>\n",
       "      <td>...</td>\n",
       "      <td>...</td>\n",
       "      <td>...</td>\n",
       "      <td>...</td>\n",
       "      <td>...</td>\n",
       "      <td>...</td>\n",
       "      <td>...</td>\n",
       "      <td>...</td>\n",
       "      <td>...</td>\n",
       "      <td>...</td>\n",
       "      <td>...</td>\n",
       "      <td>...</td>\n",
       "      <td>...</td>\n",
       "      <td>...</td>\n",
       "      <td>...</td>\n",
       "      <td>...</td>\n",
       "      <td>...</td>\n",
       "      <td>...</td>\n",
       "    </tr>\n",
       "    <tr>\n",
       "      <th>2119887</th>\n",
       "      <td>22</td>\n",
       "      <td>11608626</td>\n",
       "      <td>24</td>\n",
       "      <td>32</td>\n",
       "      <td>2024</td>\n",
       "      <td>2745</td>\n",
       "      <td>640</td>\n",
       "      <td>0</td>\n",
       "      <td>84.333333</td>\n",
       "      <td>134.714728</td>\n",
       "      <td>...</td>\n",
       "      <td>0.0</td>\n",
       "      <td>0.0</td>\n",
       "      <td>0</td>\n",
       "      <td>0</td>\n",
       "      <td>0.0</td>\n",
       "      <td>0.0</td>\n",
       "      <td>0</td>\n",
       "      <td>0</td>\n",
       "      <td>9</td>\n",
       "      <td>-0.000330</td>\n",
       "    </tr>\n",
       "    <tr>\n",
       "      <th>1896339</th>\n",
       "      <td>22</td>\n",
       "      <td>14023725</td>\n",
       "      <td>23</td>\n",
       "      <td>32</td>\n",
       "      <td>2008</td>\n",
       "      <td>2745</td>\n",
       "      <td>640</td>\n",
       "      <td>0</td>\n",
       "      <td>87.304348</td>\n",
       "      <td>136.339961</td>\n",
       "      <td>...</td>\n",
       "      <td>0.0</td>\n",
       "      <td>0.0</td>\n",
       "      <td>0</td>\n",
       "      <td>0</td>\n",
       "      <td>0.0</td>\n",
       "      <td>0.0</td>\n",
       "      <td>0</td>\n",
       "      <td>0</td>\n",
       "      <td>9</td>\n",
       "      <td>0.000265</td>\n",
       "    </tr>\n",
       "    <tr>\n",
       "      <th>1877304</th>\n",
       "      <td>22</td>\n",
       "      <td>11937456</td>\n",
       "      <td>25</td>\n",
       "      <td>32</td>\n",
       "      <td>2008</td>\n",
       "      <td>2745</td>\n",
       "      <td>640</td>\n",
       "      <td>0</td>\n",
       "      <td>80.320000</td>\n",
       "      <td>132.755012</td>\n",
       "      <td>...</td>\n",
       "      <td>0.0</td>\n",
       "      <td>0.0</td>\n",
       "      <td>0</td>\n",
       "      <td>0</td>\n",
       "      <td>0.0</td>\n",
       "      <td>0.0</td>\n",
       "      <td>0</td>\n",
       "      <td>0</td>\n",
       "      <td>9</td>\n",
       "      <td>-0.000242</td>\n",
       "    </tr>\n",
       "    <tr>\n",
       "      <th>1895817</th>\n",
       "      <td>22</td>\n",
       "      <td>12851866</td>\n",
       "      <td>19</td>\n",
       "      <td>31</td>\n",
       "      <td>2008</td>\n",
       "      <td>2745</td>\n",
       "      <td>640</td>\n",
       "      <td>0</td>\n",
       "      <td>105.684210</td>\n",
       "      <td>143.767193</td>\n",
       "      <td>...</td>\n",
       "      <td>0.0</td>\n",
       "      <td>0.0</td>\n",
       "      <td>0</td>\n",
       "      <td>0</td>\n",
       "      <td>0.0</td>\n",
       "      <td>0.0</td>\n",
       "      <td>0</td>\n",
       "      <td>0</td>\n",
       "      <td>9</td>\n",
       "      <td>-0.000058</td>\n",
       "    </tr>\n",
       "    <tr>\n",
       "      <th>2094986</th>\n",
       "      <td>22</td>\n",
       "      <td>13784097</td>\n",
       "      <td>23</td>\n",
       "      <td>32</td>\n",
       "      <td>2008</td>\n",
       "      <td>2745</td>\n",
       "      <td>640</td>\n",
       "      <td>0</td>\n",
       "      <td>87.304348</td>\n",
       "      <td>136.339961</td>\n",
       "      <td>...</td>\n",
       "      <td>0.0</td>\n",
       "      <td>0.0</td>\n",
       "      <td>0</td>\n",
       "      <td>0</td>\n",
       "      <td>0.0</td>\n",
       "      <td>0.0</td>\n",
       "      <td>0</td>\n",
       "      <td>0</td>\n",
       "      <td>9</td>\n",
       "      <td>0.000039</td>\n",
       "    </tr>\n",
       "  </tbody>\n",
       "</table>\n",
       "<p>5897 rows × 80 columns</p>\n",
       "</div>"
      ],
      "text/plain": [
       "          Destination Port   Flow Duration   Total Fwd Packets  \\\n",
       "1857673                 22         1904571                  13   \n",
       "1857907                 22         1884425                  13   \n",
       "1857678                 22         1937542                  13   \n",
       "1857977                 22         1688206                  10   \n",
       "1857930                 22         1888077                  10   \n",
       "...                    ...             ...                 ...   \n",
       "2119887                 22        11608626                  24   \n",
       "1896339                 22        14023725                  23   \n",
       "1877304                 22        11937456                  25   \n",
       "1895817                 22        12851866                  19   \n",
       "2094986                 22        13784097                  23   \n",
       "\n",
       "          Total Backward Packets  Total Length of Fwd Packets  \\\n",
       "1857673                       11                         1128   \n",
       "1857907                       11                         1128   \n",
       "1857678                       11                         1128   \n",
       "1857977                       10                         1128   \n",
       "1857930                       11                         1128   \n",
       "...                          ...                          ...   \n",
       "2119887                       32                         2024   \n",
       "1896339                       32                         2008   \n",
       "1877304                       32                         2008   \n",
       "1895817                       31                         2008   \n",
       "2094986                       32                         2008   \n",
       "\n",
       "          Total Length of Bwd Packets   Fwd Packet Length Max  \\\n",
       "1857673                          2009                     640   \n",
       "1857907                          2009                     640   \n",
       "1857678                          2009                     640   \n",
       "1857977                          2009                     640   \n",
       "1857930                          2009                     640   \n",
       "...                               ...                     ...   \n",
       "2119887                          2745                     640   \n",
       "1896339                          2745                     640   \n",
       "1877304                          2745                     640   \n",
       "1895817                          2745                     640   \n",
       "2094986                          2745                     640   \n",
       "\n",
       "          Fwd Packet Length Min   Fwd Packet Length Mean  \\\n",
       "1857673                       0                86.769231   \n",
       "1857907                       0                86.769231   \n",
       "1857678                       0                86.769231   \n",
       "1857977                       0               112.800000   \n",
       "1857930                       0               112.800000   \n",
       "...                         ...                      ...   \n",
       "2119887                       0                84.333333   \n",
       "1896339                       0                87.304348   \n",
       "1877304                       0                80.320000   \n",
       "1895817                       0               105.684210   \n",
       "2094986                       0                87.304348   \n",
       "\n",
       "          Fwd Packet Length Std  ...  Active Mean   Active Std   Active Max  \\\n",
       "1857673              183.298552  ...          0.0          0.0            0   \n",
       "1857907              183.298552  ...          0.0          0.0            0   \n",
       "1857678              183.298552  ...          0.0          0.0            0   \n",
       "1857977              203.802083  ...          0.0          0.0            0   \n",
       "1857930              203.802083  ...          0.0          0.0            0   \n",
       "...                         ...  ...          ...          ...          ...   \n",
       "2119887              134.714728  ...          0.0          0.0            0   \n",
       "1896339              136.339961  ...          0.0          0.0            0   \n",
       "1877304              132.755012  ...          0.0          0.0            0   \n",
       "1895817              143.767193  ...          0.0          0.0            0   \n",
       "2094986              136.339961  ...          0.0          0.0            0   \n",
       "\n",
       "          Active Min  Idle Mean   Idle Std   Idle Max   Idle Min   Label  \\\n",
       "1857673            0        0.0        0.0          0          0       9   \n",
       "1857907            0        0.0        0.0          0          0       9   \n",
       "1857678            0        0.0        0.0          0          0       9   \n",
       "1857977            0        0.0        0.0          0          0       9   \n",
       "1857930            0        0.0        0.0          0          0       9   \n",
       "...              ...        ...        ...        ...        ...     ...   \n",
       "2119887            0        0.0        0.0          0          0       9   \n",
       "1896339            0        0.0        0.0          0          0       9   \n",
       "1877304            0        0.0        0.0          0          0       9   \n",
       "1895817            0        0.0        0.0          0          0       9   \n",
       "2094986            0        0.0        0.0          0          0       9   \n",
       "\n",
       "           scores  \n",
       "1857673 -0.271115  \n",
       "1857907 -0.269032  \n",
       "1857678 -0.265862  \n",
       "1857977 -0.262234  \n",
       "1857930 -0.261905  \n",
       "...           ...  \n",
       "2119887 -0.000330  \n",
       "1896339  0.000265  \n",
       "1877304 -0.000242  \n",
       "1895817 -0.000058  \n",
       "2094986  0.000039  \n",
       "\n",
       "[5897 rows x 80 columns]"
      ]
     },
     "execution_count": 211,
     "metadata": {},
     "output_type": "execute_result"
    }
   ],
   "source": [
    "abs_SSH_scores"
   ]
  },
  {
   "cell_type": "code",
   "execution_count": 193,
   "id": "8ef3c791-c3bc-48b9-b64d-f69797eba4a2",
   "metadata": {
    "execution": {
     "iopub.execute_input": "2023-03-03T09:48:38.430768Z",
     "iopub.status.busy": "2023-03-03T09:48:38.430150Z",
     "iopub.status.idle": "2023-03-03T09:48:38.464952Z",
     "shell.execute_reply": "2023-03-03T09:48:38.464040Z",
     "shell.execute_reply.started": "2023-03-03T09:48:38.430732Z"
    },
    "scrolled": true
   },
   "outputs": [
    {
     "data": {
      "text/html": [
       "<div>\n",
       "<style scoped>\n",
       "    .dataframe tbody tr th:only-of-type {\n",
       "        vertical-align: middle;\n",
       "    }\n",
       "\n",
       "    .dataframe tbody tr th {\n",
       "        vertical-align: top;\n",
       "    }\n",
       "\n",
       "    .dataframe thead th {\n",
       "        text-align: right;\n",
       "    }\n",
       "</style>\n",
       "<table border=\"1\" class=\"dataframe\">\n",
       "  <thead>\n",
       "    <tr style=\"text-align: right;\">\n",
       "      <th></th>\n",
       "      <th>Destination Port</th>\n",
       "      <th>Flow Duration</th>\n",
       "      <th>Total Fwd Packets</th>\n",
       "      <th>Total Backward Packets</th>\n",
       "      <th>Total Length of Fwd Packets</th>\n",
       "      <th>Total Length of Bwd Packets</th>\n",
       "      <th>Fwd Packet Length Max</th>\n",
       "      <th>Fwd Packet Length Min</th>\n",
       "      <th>Fwd Packet Length Mean</th>\n",
       "      <th>Fwd Packet Length Std</th>\n",
       "      <th>...</th>\n",
       "      <th>Active Mean</th>\n",
       "      <th>Active Std</th>\n",
       "      <th>Active Max</th>\n",
       "      <th>Active Min</th>\n",
       "      <th>Idle Mean</th>\n",
       "      <th>Idle Std</th>\n",
       "      <th>Idle Max</th>\n",
       "      <th>Idle Min</th>\n",
       "      <th>Label</th>\n",
       "      <th>scores</th>\n",
       "    </tr>\n",
       "  </thead>\n",
       "  <tbody>\n",
       "    <tr>\n",
       "      <th>2094986</th>\n",
       "      <td>22</td>\n",
       "      <td>13784097</td>\n",
       "      <td>23</td>\n",
       "      <td>32</td>\n",
       "      <td>2008</td>\n",
       "      <td>2745</td>\n",
       "      <td>640</td>\n",
       "      <td>0</td>\n",
       "      <td>87.304348</td>\n",
       "      <td>136.339961</td>\n",
       "      <td>...</td>\n",
       "      <td>0.0</td>\n",
       "      <td>0.0</td>\n",
       "      <td>0</td>\n",
       "      <td>0</td>\n",
       "      <td>0.0</td>\n",
       "      <td>0.0</td>\n",
       "      <td>0</td>\n",
       "      <td>0</td>\n",
       "      <td>9</td>\n",
       "      <td>0.000039</td>\n",
       "    </tr>\n",
       "    <tr>\n",
       "      <th>1895817</th>\n",
       "      <td>22</td>\n",
       "      <td>12851866</td>\n",
       "      <td>19</td>\n",
       "      <td>31</td>\n",
       "      <td>2008</td>\n",
       "      <td>2745</td>\n",
       "      <td>640</td>\n",
       "      <td>0</td>\n",
       "      <td>105.684210</td>\n",
       "      <td>143.767193</td>\n",
       "      <td>...</td>\n",
       "      <td>0.0</td>\n",
       "      <td>0.0</td>\n",
       "      <td>0</td>\n",
       "      <td>0</td>\n",
       "      <td>0.0</td>\n",
       "      <td>0.0</td>\n",
       "      <td>0</td>\n",
       "      <td>0</td>\n",
       "      <td>9</td>\n",
       "      <td>-0.000058</td>\n",
       "    </tr>\n",
       "    <tr>\n",
       "      <th>1877304</th>\n",
       "      <td>22</td>\n",
       "      <td>11937456</td>\n",
       "      <td>25</td>\n",
       "      <td>32</td>\n",
       "      <td>2008</td>\n",
       "      <td>2745</td>\n",
       "      <td>640</td>\n",
       "      <td>0</td>\n",
       "      <td>80.320000</td>\n",
       "      <td>132.755012</td>\n",
       "      <td>...</td>\n",
       "      <td>0.0</td>\n",
       "      <td>0.0</td>\n",
       "      <td>0</td>\n",
       "      <td>0</td>\n",
       "      <td>0.0</td>\n",
       "      <td>0.0</td>\n",
       "      <td>0</td>\n",
       "      <td>0</td>\n",
       "      <td>9</td>\n",
       "      <td>-0.000242</td>\n",
       "    </tr>\n",
       "    <tr>\n",
       "      <th>1896339</th>\n",
       "      <td>22</td>\n",
       "      <td>14023725</td>\n",
       "      <td>23</td>\n",
       "      <td>32</td>\n",
       "      <td>2008</td>\n",
       "      <td>2745</td>\n",
       "      <td>640</td>\n",
       "      <td>0</td>\n",
       "      <td>87.304348</td>\n",
       "      <td>136.339961</td>\n",
       "      <td>...</td>\n",
       "      <td>0.0</td>\n",
       "      <td>0.0</td>\n",
       "      <td>0</td>\n",
       "      <td>0</td>\n",
       "      <td>0.0</td>\n",
       "      <td>0.0</td>\n",
       "      <td>0</td>\n",
       "      <td>0</td>\n",
       "      <td>9</td>\n",
       "      <td>0.000265</td>\n",
       "    </tr>\n",
       "    <tr>\n",
       "      <th>2119887</th>\n",
       "      <td>22</td>\n",
       "      <td>11608626</td>\n",
       "      <td>24</td>\n",
       "      <td>32</td>\n",
       "      <td>2024</td>\n",
       "      <td>2745</td>\n",
       "      <td>640</td>\n",
       "      <td>0</td>\n",
       "      <td>84.333333</td>\n",
       "      <td>134.714728</td>\n",
       "      <td>...</td>\n",
       "      <td>0.0</td>\n",
       "      <td>0.0</td>\n",
       "      <td>0</td>\n",
       "      <td>0</td>\n",
       "      <td>0.0</td>\n",
       "      <td>0.0</td>\n",
       "      <td>0</td>\n",
       "      <td>0</td>\n",
       "      <td>9</td>\n",
       "      <td>-0.000330</td>\n",
       "    </tr>\n",
       "    <tr>\n",
       "      <th>...</th>\n",
       "      <td>...</td>\n",
       "      <td>...</td>\n",
       "      <td>...</td>\n",
       "      <td>...</td>\n",
       "      <td>...</td>\n",
       "      <td>...</td>\n",
       "      <td>...</td>\n",
       "      <td>...</td>\n",
       "      <td>...</td>\n",
       "      <td>...</td>\n",
       "      <td>...</td>\n",
       "      <td>...</td>\n",
       "      <td>...</td>\n",
       "      <td>...</td>\n",
       "      <td>...</td>\n",
       "      <td>...</td>\n",
       "      <td>...</td>\n",
       "      <td>...</td>\n",
       "      <td>...</td>\n",
       "      <td>...</td>\n",
       "      <td>...</td>\n",
       "    </tr>\n",
       "    <tr>\n",
       "      <th>1857930</th>\n",
       "      <td>22</td>\n",
       "      <td>1888077</td>\n",
       "      <td>10</td>\n",
       "      <td>11</td>\n",
       "      <td>1128</td>\n",
       "      <td>2009</td>\n",
       "      <td>640</td>\n",
       "      <td>0</td>\n",
       "      <td>112.800000</td>\n",
       "      <td>203.802083</td>\n",
       "      <td>...</td>\n",
       "      <td>0.0</td>\n",
       "      <td>0.0</td>\n",
       "      <td>0</td>\n",
       "      <td>0</td>\n",
       "      <td>0.0</td>\n",
       "      <td>0.0</td>\n",
       "      <td>0</td>\n",
       "      <td>0</td>\n",
       "      <td>9</td>\n",
       "      <td>-0.261905</td>\n",
       "    </tr>\n",
       "    <tr>\n",
       "      <th>1857977</th>\n",
       "      <td>22</td>\n",
       "      <td>1688206</td>\n",
       "      <td>10</td>\n",
       "      <td>10</td>\n",
       "      <td>1128</td>\n",
       "      <td>2009</td>\n",
       "      <td>640</td>\n",
       "      <td>0</td>\n",
       "      <td>112.800000</td>\n",
       "      <td>203.802083</td>\n",
       "      <td>...</td>\n",
       "      <td>0.0</td>\n",
       "      <td>0.0</td>\n",
       "      <td>0</td>\n",
       "      <td>0</td>\n",
       "      <td>0.0</td>\n",
       "      <td>0.0</td>\n",
       "      <td>0</td>\n",
       "      <td>0</td>\n",
       "      <td>9</td>\n",
       "      <td>-0.262234</td>\n",
       "    </tr>\n",
       "    <tr>\n",
       "      <th>1857678</th>\n",
       "      <td>22</td>\n",
       "      <td>1937542</td>\n",
       "      <td>13</td>\n",
       "      <td>11</td>\n",
       "      <td>1128</td>\n",
       "      <td>2009</td>\n",
       "      <td>640</td>\n",
       "      <td>0</td>\n",
       "      <td>86.769231</td>\n",
       "      <td>183.298552</td>\n",
       "      <td>...</td>\n",
       "      <td>0.0</td>\n",
       "      <td>0.0</td>\n",
       "      <td>0</td>\n",
       "      <td>0</td>\n",
       "      <td>0.0</td>\n",
       "      <td>0.0</td>\n",
       "      <td>0</td>\n",
       "      <td>0</td>\n",
       "      <td>9</td>\n",
       "      <td>-0.265862</td>\n",
       "    </tr>\n",
       "    <tr>\n",
       "      <th>1857907</th>\n",
       "      <td>22</td>\n",
       "      <td>1884425</td>\n",
       "      <td>13</td>\n",
       "      <td>11</td>\n",
       "      <td>1128</td>\n",
       "      <td>2009</td>\n",
       "      <td>640</td>\n",
       "      <td>0</td>\n",
       "      <td>86.769231</td>\n",
       "      <td>183.298552</td>\n",
       "      <td>...</td>\n",
       "      <td>0.0</td>\n",
       "      <td>0.0</td>\n",
       "      <td>0</td>\n",
       "      <td>0</td>\n",
       "      <td>0.0</td>\n",
       "      <td>0.0</td>\n",
       "      <td>0</td>\n",
       "      <td>0</td>\n",
       "      <td>9</td>\n",
       "      <td>-0.269032</td>\n",
       "    </tr>\n",
       "    <tr>\n",
       "      <th>1857673</th>\n",
       "      <td>22</td>\n",
       "      <td>1904571</td>\n",
       "      <td>13</td>\n",
       "      <td>11</td>\n",
       "      <td>1128</td>\n",
       "      <td>2009</td>\n",
       "      <td>640</td>\n",
       "      <td>0</td>\n",
       "      <td>86.769231</td>\n",
       "      <td>183.298552</td>\n",
       "      <td>...</td>\n",
       "      <td>0.0</td>\n",
       "      <td>0.0</td>\n",
       "      <td>0</td>\n",
       "      <td>0</td>\n",
       "      <td>0.0</td>\n",
       "      <td>0.0</td>\n",
       "      <td>0</td>\n",
       "      <td>0</td>\n",
       "      <td>9</td>\n",
       "      <td>-0.271115</td>\n",
       "    </tr>\n",
       "  </tbody>\n",
       "</table>\n",
       "<p>5897 rows × 80 columns</p>\n",
       "</div>"
      ],
      "text/plain": [
       "          Destination Port   Flow Duration   Total Fwd Packets  \\\n",
       "2094986                 22        13784097                  23   \n",
       "1895817                 22        12851866                  19   \n",
       "1877304                 22        11937456                  25   \n",
       "1896339                 22        14023725                  23   \n",
       "2119887                 22        11608626                  24   \n",
       "...                    ...             ...                 ...   \n",
       "1857930                 22         1888077                  10   \n",
       "1857977                 22         1688206                  10   \n",
       "1857678                 22         1937542                  13   \n",
       "1857907                 22         1884425                  13   \n",
       "1857673                 22         1904571                  13   \n",
       "\n",
       "          Total Backward Packets  Total Length of Fwd Packets  \\\n",
       "2094986                       32                         2008   \n",
       "1895817                       31                         2008   \n",
       "1877304                       32                         2008   \n",
       "1896339                       32                         2008   \n",
       "2119887                       32                         2024   \n",
       "...                          ...                          ...   \n",
       "1857930                       11                         1128   \n",
       "1857977                       10                         1128   \n",
       "1857678                       11                         1128   \n",
       "1857907                       11                         1128   \n",
       "1857673                       11                         1128   \n",
       "\n",
       "          Total Length of Bwd Packets   Fwd Packet Length Max  \\\n",
       "2094986                          2745                     640   \n",
       "1895817                          2745                     640   \n",
       "1877304                          2745                     640   \n",
       "1896339                          2745                     640   \n",
       "2119887                          2745                     640   \n",
       "...                               ...                     ...   \n",
       "1857930                          2009                     640   \n",
       "1857977                          2009                     640   \n",
       "1857678                          2009                     640   \n",
       "1857907                          2009                     640   \n",
       "1857673                          2009                     640   \n",
       "\n",
       "          Fwd Packet Length Min   Fwd Packet Length Mean  \\\n",
       "2094986                       0                87.304348   \n",
       "1895817                       0               105.684210   \n",
       "1877304                       0                80.320000   \n",
       "1896339                       0                87.304348   \n",
       "2119887                       0                84.333333   \n",
       "...                         ...                      ...   \n",
       "1857930                       0               112.800000   \n",
       "1857977                       0               112.800000   \n",
       "1857678                       0                86.769231   \n",
       "1857907                       0                86.769231   \n",
       "1857673                       0                86.769231   \n",
       "\n",
       "          Fwd Packet Length Std  ...  Active Mean   Active Std   Active Max  \\\n",
       "2094986              136.339961  ...          0.0          0.0            0   \n",
       "1895817              143.767193  ...          0.0          0.0            0   \n",
       "1877304              132.755012  ...          0.0          0.0            0   \n",
       "1896339              136.339961  ...          0.0          0.0            0   \n",
       "2119887              134.714728  ...          0.0          0.0            0   \n",
       "...                         ...  ...          ...          ...          ...   \n",
       "1857930              203.802083  ...          0.0          0.0            0   \n",
       "1857977              203.802083  ...          0.0          0.0            0   \n",
       "1857678              183.298552  ...          0.0          0.0            0   \n",
       "1857907              183.298552  ...          0.0          0.0            0   \n",
       "1857673              183.298552  ...          0.0          0.0            0   \n",
       "\n",
       "          Active Min  Idle Mean   Idle Std   Idle Max   Idle Min   Label  \\\n",
       "2094986            0        0.0        0.0          0          0       9   \n",
       "1895817            0        0.0        0.0          0          0       9   \n",
       "1877304            0        0.0        0.0          0          0       9   \n",
       "1896339            0        0.0        0.0          0          0       9   \n",
       "2119887            0        0.0        0.0          0          0       9   \n",
       "...              ...        ...        ...        ...        ...     ...   \n",
       "1857930            0        0.0        0.0          0          0       9   \n",
       "1857977            0        0.0        0.0          0          0       9   \n",
       "1857678            0        0.0        0.0          0          0       9   \n",
       "1857907            0        0.0        0.0          0          0       9   \n",
       "1857673            0        0.0        0.0          0          0       9   \n",
       "\n",
       "           scores  \n",
       "2094986  0.000039  \n",
       "1895817 -0.000058  \n",
       "1877304 -0.000242  \n",
       "1896339  0.000265  \n",
       "2119887 -0.000330  \n",
       "...           ...  \n",
       "1857930 -0.261905  \n",
       "1857977 -0.262234  \n",
       "1857678 -0.265862  \n",
       "1857907 -0.269032  \n",
       "1857673 -0.271115  \n",
       "\n",
       "[5897 rows x 80 columns]"
      ]
     },
     "execution_count": 193,
     "metadata": {},
     "output_type": "execute_result"
    }
   ],
   "source": [
    "sorted_data"
   ]
  },
  {
   "cell_type": "code",
   "execution_count": 221,
   "id": "960c6175-5e45-49ed-ac14-bdd36f767a0b",
   "metadata": {
    "execution": {
     "iopub.execute_input": "2023-03-03T10:50:55.502146Z",
     "iopub.status.busy": "2023-03-03T10:50:55.501314Z",
     "iopub.status.idle": "2023-03-03T10:50:55.510009Z",
     "shell.execute_reply": "2023-03-03T10:50:55.509199Z",
     "shell.execute_reply.started": "2023-03-03T10:50:55.502100Z"
    },
    "scrolled": true,
    "tags": []
   },
   "outputs": [],
   "source": [
    "threshold = -0.1\n",
    "outliers = SSH_Patator_rows[SSH_Patator_rows['scores'] < threshold]\n",
    "SSH_Patator_rows_clearn_ifor = SSH_Patator_rows[SSH_Patator_rows['scores'] >= threshold]\n"
   ]
  },
  {
   "cell_type": "code",
   "execution_count": 222,
   "id": "e69a9092-dc56-4917-972c-f5efc733e2dd",
   "metadata": {
    "execution": {
     "iopub.execute_input": "2023-03-03T10:50:59.729970Z",
     "iopub.status.busy": "2023-03-03T10:50:59.729382Z",
     "iopub.status.idle": "2023-03-03T10:50:59.736640Z",
     "shell.execute_reply": "2023-03-03T10:50:59.735536Z",
     "shell.execute_reply.started": "2023-03-03T10:50:59.729931Z"
    },
    "scrolled": true,
    "tags": []
   },
   "outputs": [
    {
     "data": {
      "text/plain": [
       "(5728, 80)"
      ]
     },
     "execution_count": 222,
     "metadata": {},
     "output_type": "execute_result"
    }
   ],
   "source": [
    "SSH_Patator_rows_clearn_ifor.shape"
   ]
  },
  {
   "cell_type": "code",
   "execution_count": 228,
   "id": "d368ebde-921f-4fc5-8c56-40c9da233f3b",
   "metadata": {
    "execution": {
     "iopub.execute_input": "2023-03-03T10:52:42.161574Z",
     "iopub.status.busy": "2023-03-03T10:52:42.160921Z",
     "iopub.status.idle": "2023-03-03T10:52:42.631912Z",
     "shell.execute_reply": "2023-03-03T10:52:42.630301Z",
     "shell.execute_reply.started": "2023-03-03T10:52:42.161529Z"
    },
    "scrolled": true,
    "tags": []
   },
   "outputs": [
    {
     "data": {
      "image/png": "[encoded data removed]",
      "text/plain": [
       "<Figure size 640x480 with 2 Axes>"
      ]
     },
     "metadata": {},
     "output_type": "display_data"
    }
   ],
   "source": [
    "plt.scatter(SSH_Patator_rows.iloc[:, 3], SSH_Patator_rows.iloc[:, 4], s=100*np.abs(SSH_Patator_rows['scores']), c=SSH_Patator_rows['scores'], cmap='coolwarm')\n",
    "plt.colorbar()\n",
    "plt.show()\n"
   ]
  },
  {
   "cell_type": "code",
   "execution_count": 224,
   "id": "60c5c1db-078d-4cc3-a70d-51646be45048",
   "metadata": {
    "execution": {
     "iopub.execute_input": "2023-03-03T10:52:01.941419Z",
     "iopub.status.busy": "2023-03-03T10:52:01.940765Z",
     "iopub.status.idle": "2023-03-03T10:52:01.947552Z",
     "shell.execute_reply": "2023-03-03T10:52:01.946641Z",
     "shell.execute_reply.started": "2023-03-03T10:52:01.941375Z"
    },
    "scrolled": true
   },
   "outputs": [
    {
     "data": {
      "text/plain": [
       "array([-1, -1, -1, ...,  1,  1,  1])"
      ]
     },
     "execution_count": 224,
     "metadata": {},
     "output_type": "execute_result"
    }
   ],
   "source": [
    "y_pred"
   ]
  },
  {
   "cell_type": "code",
   "execution_count": 225,
   "id": "1f222ec2-4fea-4829-b032-d64294704be8",
   "metadata": {
    "execution": {
     "iopub.execute_input": "2023-03-03T10:52:04.528408Z",
     "iopub.status.busy": "2023-03-03T10:52:04.527270Z",
     "iopub.status.idle": "2023-03-03T10:52:04.740655Z",
     "shell.execute_reply": "2023-03-03T10:52:04.739761Z",
     "shell.execute_reply.started": "2023-03-03T10:52:04.528358Z"
    },
    "scrolled": true
   },
   "outputs": [
    {
     "data": {
      "image/png": "[encoded data removed]",
      "text/plain": [
       "<Figure size 640x480 with 1 Axes>"
      ]
     },
     "metadata": {},
     "output_type": "display_data"
    }
   ],
   "source": [
    "# 获取不同值的数量\n",
    "unique, counts = np.unique(y_pred, return_counts=True)\n",
    "\n",
    "# 绘制柱状图\n",
    "plt.bar(unique, counts)\n",
    "# 在每个柱子上方添加文本标签\n",
    "for i, val in enumerate(counts):\n",
    "    plt.text(i, val, str(val))\n",
    "plt.title(\"Number of Unique Values in Array\")\n",
    "plt.xlabel(\"Value\")\n",
    "plt.ylabel(\"Count\")\n",
    "plt.show()\n"
   ]
  },
  {
   "cell_type": "code",
   "execution_count": null,
   "id": "21452342-2f21-47bc-b696-d22964d9e9e3",
   "metadata": {
    "scrolled": true,
    "tags": []
   },
   "outputs": [],
   "source": []
  },
  {
   "cell_type": "code",
   "execution_count": 156,
   "id": "60d1cfde-0074-4e97-bc57-f73e406b4fed",
   "metadata": {
    "execution": {
     "iopub.execute_input": "2023-03-03T08:48:49.160132Z",
     "iopub.status.busy": "2023-03-03T08:48:49.159425Z",
     "iopub.status.idle": "2023-03-03T08:48:49.462138Z",
     "shell.execute_reply": "2023-03-03T08:48:49.459971Z",
     "shell.execute_reply.started": "2023-03-03T08:48:49.160091Z"
    },
    "scrolled": true
   },
   "outputs": [
    {
     "ename": "TypeError",
     "evalue": "'(slice(None, None, None), 0)' is an invalid key",
     "output_type": "error",
     "traceback": [
      "\u001b[0;31m---------------------------------------------------------------------------\u001b[0m",
      "\u001b[0;31mTypeError\u001b[0m                                 Traceback (most recent call last)",
      "\u001b[0;32m/tmp/ipykernel_434/1993142974.py\u001b[0m in \u001b[0;36m<module>\u001b[0;34m\u001b[0m\n\u001b[1;32m      1\u001b[0m \u001b[0;31m# 绘制结果\u001b[0m\u001b[0;34m\u001b[0m\u001b[0;34m\u001b[0m\u001b[0;34m\u001b[0m\u001b[0m\n\u001b[1;32m      2\u001b[0m \u001b[0mplt\u001b[0m\u001b[0;34m.\u001b[0m\u001b[0mtitle\u001b[0m\u001b[0;34m(\u001b[0m\u001b[0;34m\"Isolated outliers in the forest\"\u001b[0m\u001b[0;34m)\u001b[0m\u001b[0;34m\u001b[0m\u001b[0;34m\u001b[0m\u001b[0m\n\u001b[0;32m----> 3\u001b[0;31m \u001b[0mplt\u001b[0m\u001b[0;34m.\u001b[0m\u001b[0mscatter\u001b[0m\u001b[0;34m(\u001b[0m\u001b[0mX_iforest\u001b[0m\u001b[0;34m[\u001b[0m\u001b[0;34m:\u001b[0m\u001b[0;34m,\u001b[0m \u001b[0;36m0\u001b[0m\u001b[0;34m]\u001b[0m\u001b[0;34m,\u001b[0m \u001b[0mX_iforest\u001b[0m\u001b[0;34m[\u001b[0m\u001b[0;34m:\u001b[0m\u001b[0;34m,\u001b[0m \u001b[0;36m1\u001b[0m\u001b[0;34m]\u001b[0m\u001b[0;34m,\u001b[0m \u001b[0mcolor\u001b[0m\u001b[0;34m=\u001b[0m\u001b[0;34m'k'\u001b[0m\u001b[0;34m,\u001b[0m \u001b[0ms\u001b[0m\u001b[0;34m=\u001b[0m\u001b[0;36m3.\u001b[0m\u001b[0;34m,\u001b[0m \u001b[0mlabel\u001b[0m\u001b[0;34m=\u001b[0m\u001b[0;34m'数据点'\u001b[0m\u001b[0;34m)\u001b[0m\u001b[0;34m\u001b[0m\u001b[0;34m\u001b[0m\u001b[0m\n\u001b[0m\u001b[1;32m      4\u001b[0m \u001b[0mplt\u001b[0m\u001b[0;34m.\u001b[0m\u001b[0mscatter\u001b[0m\u001b[0;34m(\u001b[0m\u001b[0mX_iforest\u001b[0m\u001b[0;34m[\u001b[0m\u001b[0my_pred\u001b[0m \u001b[0;34m==\u001b[0m \u001b[0;34m-\u001b[0m\u001b[0;36m1\u001b[0m\u001b[0;34m,\u001b[0m \u001b[0;36m0\u001b[0m\u001b[0;34m]\u001b[0m\u001b[0;34m,\u001b[0m \u001b[0mX_iforest\u001b[0m\u001b[0;34m[\u001b[0m\u001b[0my_pred\u001b[0m \u001b[0;34m==\u001b[0m \u001b[0;34m-\u001b[0m\u001b[0;36m1\u001b[0m\u001b[0;34m,\u001b[0m \u001b[0;36m1\u001b[0m\u001b[0;34m]\u001b[0m\u001b[0;34m,\u001b[0m \u001b[0mcolor\u001b[0m\u001b[0;34m=\u001b[0m\u001b[0;34m'r'\u001b[0m\u001b[0;34m,\u001b[0m \u001b[0ms\u001b[0m\u001b[0;34m=\u001b[0m\u001b[0;36m30.\u001b[0m\u001b[0;34m,\u001b[0m \u001b[0mlabel\u001b[0m\u001b[0;34m=\u001b[0m\u001b[0;34m'离群点'\u001b[0m\u001b[0;34m)\u001b[0m\u001b[0;34m\u001b[0m\u001b[0;34m\u001b[0m\u001b[0m\n\u001b[1;32m      5\u001b[0m \u001b[0mplt\u001b[0m\u001b[0;34m.\u001b[0m\u001b[0mlegend\u001b[0m\u001b[0;34m(\u001b[0m\u001b[0;34m)\u001b[0m\u001b[0;34m\u001b[0m\u001b[0;34m\u001b[0m\u001b[0m\n",
      "\u001b[0;32m/opt/conda/envs/python35-paddle120-env/lib/python3.7/site-packages/pandas/core/frame.py\u001b[0m in \u001b[0;36m__getitem__\u001b[0;34m(self, key)\u001b[0m\n\u001b[1;32m   2904\u001b[0m             \u001b[0;32mif\u001b[0m \u001b[0mself\u001b[0m\u001b[0;34m.\u001b[0m\u001b[0mcolumns\u001b[0m\u001b[0;34m.\u001b[0m\u001b[0mnlevels\u001b[0m \u001b[0;34m>\u001b[0m \u001b[0;36m1\u001b[0m\u001b[0;34m:\u001b[0m\u001b[0;34m\u001b[0m\u001b[0;34m\u001b[0m\u001b[0m\n\u001b[1;32m   2905\u001b[0m                 \u001b[0;32mreturn\u001b[0m \u001b[0mself\u001b[0m\u001b[0;34m.\u001b[0m\u001b[0m_getitem_multilevel\u001b[0m\u001b[0;34m(\u001b[0m\u001b[0mkey\u001b[0m\u001b[0;34m)\u001b[0m\u001b[0;34m\u001b[0m\u001b[0;34m\u001b[0m\u001b[0m\n\u001b[0;32m-> 2906\u001b[0;31m             \u001b[0mindexer\u001b[0m \u001b[0;34m=\u001b[0m \u001b[0mself\u001b[0m\u001b[0;34m.\u001b[0m\u001b[0mcolumns\u001b[0m\u001b[0;34m.\u001b[0m\u001b[0mget_loc\u001b[0m\u001b[0;34m(\u001b[0m\u001b[0mkey\u001b[0m\u001b[0;34m)\u001b[0m\u001b[0;34m\u001b[0m\u001b[0;34m\u001b[0m\u001b[0m\n\u001b[0m\u001b[1;32m   2907\u001b[0m             \u001b[0;32mif\u001b[0m \u001b[0mis_integer\u001b[0m\u001b[0;34m(\u001b[0m\u001b[0mindexer\u001b[0m\u001b[0;34m)\u001b[0m\u001b[0;34m:\u001b[0m\u001b[0;34m\u001b[0m\u001b[0;34m\u001b[0m\u001b[0m\n\u001b[1;32m   2908\u001b[0m                 \u001b[0mindexer\u001b[0m \u001b[0;34m=\u001b[0m \u001b[0;34m[\u001b[0m\u001b[0mindexer\u001b[0m\u001b[0;34m]\u001b[0m\u001b[0;34m\u001b[0m\u001b[0;34m\u001b[0m\u001b[0m\n",
      "\u001b[0;32m/opt/conda/envs/python35-paddle120-env/lib/python3.7/site-packages/pandas/core/indexes/base.py\u001b[0m in \u001b[0;36mget_loc\u001b[0;34m(self, key, method, tolerance)\u001b[0m\n\u001b[1;32m   2896\u001b[0m             \u001b[0mcasted_key\u001b[0m \u001b[0;34m=\u001b[0m \u001b[0mself\u001b[0m\u001b[0;34m.\u001b[0m\u001b[0m_maybe_cast_indexer\u001b[0m\u001b[0;34m(\u001b[0m\u001b[0mkey\u001b[0m\u001b[0;34m)\u001b[0m\u001b[0;34m\u001b[0m\u001b[0;34m\u001b[0m\u001b[0m\n\u001b[1;32m   2897\u001b[0m             \u001b[0;32mtry\u001b[0m\u001b[0;34m:\u001b[0m\u001b[0;34m\u001b[0m\u001b[0;34m\u001b[0m\u001b[0m\n\u001b[0;32m-> 2898\u001b[0;31m                 \u001b[0;32mreturn\u001b[0m \u001b[0mself\u001b[0m\u001b[0;34m.\u001b[0m\u001b[0m_engine\u001b[0m\u001b[0;34m.\u001b[0m\u001b[0mget_loc\u001b[0m\u001b[0;34m(\u001b[0m\u001b[0mcasted_key\u001b[0m\u001b[0;34m)\u001b[0m\u001b[0;34m\u001b[0m\u001b[0;34m\u001b[0m\u001b[0m\n\u001b[0m\u001b[1;32m   2899\u001b[0m             \u001b[0;32mexcept\u001b[0m \u001b[0mKeyError\u001b[0m \u001b[0;32mas\u001b[0m \u001b[0merr\u001b[0m\u001b[0;34m:\u001b[0m\u001b[0;34m\u001b[0m\u001b[0;34m\u001b[0m\u001b[0m\n\u001b[1;32m   2900\u001b[0m                 \u001b[0;32mraise\u001b[0m \u001b[0mKeyError\u001b[0m\u001b[0;34m(\u001b[0m\u001b[0mkey\u001b[0m\u001b[0;34m)\u001b[0m \u001b[0;32mfrom\u001b[0m \u001b[0merr\u001b[0m\u001b[0;34m\u001b[0m\u001b[0;34m\u001b[0m\u001b[0m\n",
      "\u001b[0;32mpandas/_libs/index.pyx\u001b[0m in \u001b[0;36mpandas._libs.index.IndexEngine.get_loc\u001b[0;34m()\u001b[0m\n",
      "\u001b[0;32mpandas/_libs/index.pyx\u001b[0m in \u001b[0;36mpandas._libs.index.IndexEngine.get_loc\u001b[0;34m()\u001b[0m\n",
      "\u001b[0;31mTypeError\u001b[0m: '(slice(None, None, None), 0)' is an invalid key"
     ]
    },
    {
     "data": {
      "image/png": "[encoded data removed]",
      "text/plain": [
       "<Figure size 640x480 with 1 Axes>"
      ]
     },
     "metadata": {},
     "output_type": "display_data"
    }
   ],
   "source": [
    "# 绘制结果\n",
    "plt.title(\"Isolated outliers in the forest\")\n",
    "plt.scatter(X_iforest[:, 0], X_iforest[:, 1], color='k', s=3., label='数据点')\n",
    "plt.scatter(X_iforest[y_pred == -1, 0], X_iforest[y_pred == -1, 1], color='r', s=30., label='离群点')\n",
    "plt.legend()\n",
    "plt.show()"
   ]
  },
  {
   "cell_type": "code",
   "execution_count": null,
   "id": "774ab8c1-9c25-4323-90e8-1ad7472e0a98",
   "metadata": {
    "execution": {
     "iopub.status.busy": "2023-03-03T01:15:17.019801Z",
     "iopub.status.idle": "2023-03-03T01:15:17.020149Z",
     "shell.execute_reply": "2023-03-03T01:15:17.019996Z",
     "shell.execute_reply.started": "2023-03-03T01:15:17.019981Z"
    },
    "scrolled": true
   },
   "outputs": [],
   "source": [
    "\n",
    "SSH_Patator_rows_clearn = SSH_Patator_rows[SSH_Patator_rows.iloc[:,-1] != -1]"
   ]
  },
  {
   "cell_type": "code",
   "execution_count": null,
   "id": "4a325e4a-e58f-449f-b294-e03bf6026bcb",
   "metadata": {
    "execution": {
     "iopub.status.busy": "2023-03-03T01:15:17.021488Z",
     "iopub.status.idle": "2023-03-03T01:15:17.021803Z",
     "shell.execute_reply": "2023-03-03T01:15:17.021656Z",
     "shell.execute_reply.started": "2023-03-03T01:15:17.021643Z"
    },
    "scrolled": true,
    "tags": []
   },
   "outputs": [],
   "source": [
    "SSH_Patator_rows_clearn.shape"
   ]
  },
  {
   "cell_type": "code",
   "execution_count": null,
   "id": "877d51b5-d228-40da-b35d-95df1d18ab5e",
   "metadata": {
    "execution": {
     "iopub.status.busy": "2023-03-03T01:15:17.023124Z",
     "iopub.status.idle": "2023-03-03T01:15:17.023474Z",
     "shell.execute_reply": "2023-03-03T01:15:17.023302Z",
     "shell.execute_reply.started": "2023-03-03T01:15:17.023289Z"
    },
    "scrolled": true,
    "tags": []
   },
   "outputs": [],
   "source": [
    "SSH_Patator_rows_clearn['scores']"
   ]
  },
  {
   "cell_type": "code",
   "execution_count": null,
   "id": "f3d339ab-bb8d-4bcf-b9d4-6485e39793f9",
   "metadata": {
    "scrolled": true,
    "tags": []
   },
   "outputs": [],
   "source": []
  },
  {
   "cell_type": "code",
   "execution_count": null,
   "id": "935423ad-14b4-4582-8bb9-673bcae0bc24",
   "metadata": {
    "scrolled": true
   },
   "outputs": [],
   "source": []
  }
 ],
 "metadata": {
  "kernelspec": {
   "display_name": "Python 3",
   "language": "python",
   "name": "py35-paddle1.2.0"
  },
  "language_info": {
   "codemirror_mode": {
    "name": "ipython",
    "version": 3
   },
   "file_extension": ".py",
   "mimetype": "text/x-python",
   "name": "python",
   "nbconvert_exporter": "python",
   "pygments_lexer": "ipython3",
   "version": "3.7.4"
  },
  "toc-showcode": false,
  "toc-showmarkdowntxt": true
 },
 "nbformat": 4,
 "nbformat_minor": 5
}
